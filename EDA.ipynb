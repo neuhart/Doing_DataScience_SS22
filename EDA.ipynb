{
 "cells": [
  {
   "cell_type": "code",
   "execution_count": 76,
   "outputs": [],
   "source": [
    "import pandas as pd\n",
    "import seaborn as sns\n",
    "import matplotlib.pyplot as plt"
   ],
   "metadata": {
    "collapsed": false,
    "pycharm": {
     "name": "#%%\n"
    }
   }
  },
  {
   "cell_type": "code",
   "execution_count": 77,
   "outputs": [],
   "source": [
    "filepath_enc = 'data/encounter-events.csv'\n",
    "filepath_loit = 'data/loitering-events.csv'\n",
    "filepath_ves = 'data/transshipment-vessels.csv'"
   ],
   "metadata": {
    "collapsed": false,
    "pycharm": {
     "name": "#%%\n"
    }
   }
  },
  {
   "cell_type": "code",
   "execution_count": 78,
   "outputs": [],
   "source": [
    "df_enc = pd.read_csv(filepath_enc)\n",
    "df_loit = pd.read_csv(filepath_loit)\n",
    "df_ves = pd.read_csv(filepath_ves)"
   ],
   "metadata": {
    "collapsed": false,
    "pycharm": {
     "name": "#%%\n"
    }
   }
  },
  {
   "cell_type": "markdown",
   "source": [
    "# encounter-events"
   ],
   "metadata": {
    "collapsed": false,
    "pycharm": {
     "name": "#%% md\n"
    }
   }
  },
  {
   "cell_type": "code",
   "execution_count": 79,
   "outputs": [
    {
     "data": {
      "text/plain": "   fishing_vessel_mmsi  transshipment_vessel_mmsi            start_time  \\\n0            416565000                  354240000  2016-11-18T14:30:00Z   \n1            412679190                  354240000  2016-12-11T14:50:00Z   \n2            440863000                  354240000  2017-06-13T12:50:00Z   \n3            416563000                  354240000  2016-11-15T11:30:00Z   \n4            441309000                  354240000  2017-05-19T00:40:00Z   \n\n               end_time  mean_latitude  mean_longitude  duration_hr  \\\n0  2016-11-19T01:50:00Z     -17.039085      -79.063725    11.333333   \n1  2016-12-11T19:50:00Z     -20.269608      -79.244953     5.000000   \n2  2017-06-15T01:20:00Z     -62.640767      -60.690240    36.500000   \n3  2016-11-16T04:00:00Z     -17.046586      -79.061923    16.500000   \n4  2017-05-19T20:50:00Z     -46.627878      -60.554922    20.166667   \n\n   median_distance_km  median_speed_knots  \n0            0.038188            0.585402  \n1            0.020033            0.575663  \n2            0.054992            0.019775  \n3            0.036427            1.023917  \n4            0.034053            0.544031  ",
      "text/html": "<div>\n<style scoped>\n    .dataframe tbody tr th:only-of-type {\n        vertical-align: middle;\n    }\n\n    .dataframe tbody tr th {\n        vertical-align: top;\n    }\n\n    .dataframe thead th {\n        text-align: right;\n    }\n</style>\n<table border=\"1\" class=\"dataframe\">\n  <thead>\n    <tr style=\"text-align: right;\">\n      <th></th>\n      <th>fishing_vessel_mmsi</th>\n      <th>transshipment_vessel_mmsi</th>\n      <th>start_time</th>\n      <th>end_time</th>\n      <th>mean_latitude</th>\n      <th>mean_longitude</th>\n      <th>duration_hr</th>\n      <th>median_distance_km</th>\n      <th>median_speed_knots</th>\n    </tr>\n  </thead>\n  <tbody>\n    <tr>\n      <th>0</th>\n      <td>416565000</td>\n      <td>354240000</td>\n      <td>2016-11-18T14:30:00Z</td>\n      <td>2016-11-19T01:50:00Z</td>\n      <td>-17.039085</td>\n      <td>-79.063725</td>\n      <td>11.333333</td>\n      <td>0.038188</td>\n      <td>0.585402</td>\n    </tr>\n    <tr>\n      <th>1</th>\n      <td>412679190</td>\n      <td>354240000</td>\n      <td>2016-12-11T14:50:00Z</td>\n      <td>2016-12-11T19:50:00Z</td>\n      <td>-20.269608</td>\n      <td>-79.244953</td>\n      <td>5.000000</td>\n      <td>0.020033</td>\n      <td>0.575663</td>\n    </tr>\n    <tr>\n      <th>2</th>\n      <td>440863000</td>\n      <td>354240000</td>\n      <td>2017-06-13T12:50:00Z</td>\n      <td>2017-06-15T01:20:00Z</td>\n      <td>-62.640767</td>\n      <td>-60.690240</td>\n      <td>36.500000</td>\n      <td>0.054992</td>\n      <td>0.019775</td>\n    </tr>\n    <tr>\n      <th>3</th>\n      <td>416563000</td>\n      <td>354240000</td>\n      <td>2016-11-15T11:30:00Z</td>\n      <td>2016-11-16T04:00:00Z</td>\n      <td>-17.046586</td>\n      <td>-79.061923</td>\n      <td>16.500000</td>\n      <td>0.036427</td>\n      <td>1.023917</td>\n    </tr>\n    <tr>\n      <th>4</th>\n      <td>441309000</td>\n      <td>354240000</td>\n      <td>2017-05-19T00:40:00Z</td>\n      <td>2017-05-19T20:50:00Z</td>\n      <td>-46.627878</td>\n      <td>-60.554922</td>\n      <td>20.166667</td>\n      <td>0.034053</td>\n      <td>0.544031</td>\n    </tr>\n  </tbody>\n</table>\n</div>"
     },
     "execution_count": 79,
     "metadata": {},
     "output_type": "execute_result"
    }
   ],
   "source": [
    "df_enc.head()  # look at first five instance"
   ],
   "metadata": {
    "collapsed": false,
    "pycharm": {
     "name": "#%%\n"
    }
   }
  },
  {
   "cell_type": "markdown",
   "source": [
    "First, we look at general information about the encounter dataset."
   ],
   "metadata": {
    "collapsed": false,
    "pycharm": {
     "name": "#%% md\n"
    }
   }
  },
  {
   "cell_type": "code",
   "execution_count": 80,
   "outputs": [
    {
     "name": "stdout",
     "output_type": "stream",
     "text": [
      "<class 'pandas.core.frame.DataFrame'>\n",
      "RangeIndex: 11681 entries, 0 to 11680\n",
      "Data columns (total 9 columns):\n",
      " #   Column                     Non-Null Count  Dtype  \n",
      "---  ------                     --------------  -----  \n",
      " 0   fishing_vessel_mmsi        11681 non-null  int64  \n",
      " 1   transshipment_vessel_mmsi  11681 non-null  int64  \n",
      " 2   start_time                 11681 non-null  object \n",
      " 3   end_time                   11681 non-null  object \n",
      " 4   mean_latitude              11681 non-null  float64\n",
      " 5   mean_longitude             11681 non-null  float64\n",
      " 6   duration_hr                11681 non-null  float64\n",
      " 7   median_distance_km         11681 non-null  float64\n",
      " 8   median_speed_knots         11681 non-null  float64\n",
      "dtypes: float64(5), int64(2), object(2)\n",
      "memory usage: 821.4+ KB\n",
      "Shape:  (11681, 9)\n"
     ]
    }
   ],
   "source": [
    "df_enc.info()\n",
    "print('Shape: ', df_enc.shape)  # get shape of dataframe"
   ],
   "metadata": {
    "collapsed": false,
    "pycharm": {
     "name": "#%%\n"
    }
   }
  },
  {
   "cell_type": "markdown",
   "source": [
    "## Null values and wrong formats"
   ],
   "metadata": {
    "collapsed": false,
    "pycharm": {
     "name": "#%% md\n"
    }
   }
  },
  {
   "cell_type": "markdown",
   "source": [
    "In the next step we check for the length of the mmsi value. First we have to convert values to int so that we don’t have to deal with floats and afterwards to string such that we can check its length."
   ],
   "metadata": {
    "collapsed": false,
    "pycharm": {
     "name": "#%% md\n"
    }
   }
  },
  {
   "cell_type": "code",
   "execution_count": 81,
   "outputs": [
    {
     "data": {
      "text/plain": "       fishing_vessel_mmsi  transshipment_vessel_mmsi            start_time  \\\n1680               2001002                  529844000  2016-09-04T22:50:00Z   \n1681               2001002                  529844000  2016-07-23T11:00:00Z   \n1684               2000080                  529844000  2016-08-05T20:20:00Z   \n2036               2000080                  636017709  2017-05-08T18:20:00Z   \n2992              81561325                  441032000  2017-10-18T22:30:00Z   \n2993              81561325                  441032000  2017-10-18T22:30:00Z   \n5332               2000080                  636018031  2017-07-05T00:30:00Z   \n5522              43676060                  366299000  2015-08-21T07:40:00Z   \n5795              36702190                  366971260  2015-07-09T22:10:00Z   \n10027             76000203                  760000210  2017-06-02T20:40:00Z   \n10028             76000203                  760000210  2017-06-13T04:30:00Z   \n10029             76000203                  760000210  2017-05-18T02:20:00Z   \n10030             76000203                  760000210  2017-06-27T05:40:00Z   \n\n                   end_time  mean_latitude  mean_longitude  duration_hr  \\\n1680   2016-09-05T07:40:00Z     -46.718672      -60.682253     8.833333   \n1681   2016-07-23T18:10:00Z     -46.280606      -60.603301     7.166667   \n1684   2016-08-06T03:20:00Z     -46.569782      -60.564401     7.000000   \n2036   2017-05-09T08:00:00Z     -46.226804      -60.432825    13.666667   \n2992   2017-10-19T17:00:00Z      10.123826     -160.190040    18.500000   \n2993   2017-10-19T17:00:00Z      10.123826     -160.190040    18.500000   \n5332   2017-07-05T17:00:00Z     -46.678699      -60.728187    16.500000   \n5522   2015-08-21T14:40:00Z      60.668679     -147.531834     7.000000   \n5795   2015-07-10T12:40:00Z      58.735782     -157.163742    14.500000   \n10027  2017-06-03T02:10:00Z     -13.467227      -76.203489     5.500000   \n10028  2017-06-13T06:30:00Z     -13.467283      -76.208275     2.000000   \n10029  2017-05-18T05:30:00Z     -13.450772      -76.202677     3.166667   \n10030  2017-06-27T07:40:00Z     -13.464601      -76.205026     2.000000   \n\n       median_distance_km  median_speed_knots  \n1680             0.068711            0.807492  \n1681             0.070593            0.018191  \n1684             0.046944            1.120785  \n2036             0.041068            1.512647  \n2992             0.043220            1.080370  \n2993             0.043220            1.080370  \n5332             0.050615            0.855092  \n5522             0.054439            0.033478  \n5795             0.118578            0.000000  \n10027            0.141302            0.018940  \n10028            0.261914            0.006044  \n10029            0.120132            0.029115  \n10030            0.243262            0.024185  ",
      "text/html": "<div>\n<style scoped>\n    .dataframe tbody tr th:only-of-type {\n        vertical-align: middle;\n    }\n\n    .dataframe tbody tr th {\n        vertical-align: top;\n    }\n\n    .dataframe thead th {\n        text-align: right;\n    }\n</style>\n<table border=\"1\" class=\"dataframe\">\n  <thead>\n    <tr style=\"text-align: right;\">\n      <th></th>\n      <th>fishing_vessel_mmsi</th>\n      <th>transshipment_vessel_mmsi</th>\n      <th>start_time</th>\n      <th>end_time</th>\n      <th>mean_latitude</th>\n      <th>mean_longitude</th>\n      <th>duration_hr</th>\n      <th>median_distance_km</th>\n      <th>median_speed_knots</th>\n    </tr>\n  </thead>\n  <tbody>\n    <tr>\n      <th>1680</th>\n      <td>2001002</td>\n      <td>529844000</td>\n      <td>2016-09-04T22:50:00Z</td>\n      <td>2016-09-05T07:40:00Z</td>\n      <td>-46.718672</td>\n      <td>-60.682253</td>\n      <td>8.833333</td>\n      <td>0.068711</td>\n      <td>0.807492</td>\n    </tr>\n    <tr>\n      <th>1681</th>\n      <td>2001002</td>\n      <td>529844000</td>\n      <td>2016-07-23T11:00:00Z</td>\n      <td>2016-07-23T18:10:00Z</td>\n      <td>-46.280606</td>\n      <td>-60.603301</td>\n      <td>7.166667</td>\n      <td>0.070593</td>\n      <td>0.018191</td>\n    </tr>\n    <tr>\n      <th>1684</th>\n      <td>2000080</td>\n      <td>529844000</td>\n      <td>2016-08-05T20:20:00Z</td>\n      <td>2016-08-06T03:20:00Z</td>\n      <td>-46.569782</td>\n      <td>-60.564401</td>\n      <td>7.000000</td>\n      <td>0.046944</td>\n      <td>1.120785</td>\n    </tr>\n    <tr>\n      <th>2036</th>\n      <td>2000080</td>\n      <td>636017709</td>\n      <td>2017-05-08T18:20:00Z</td>\n      <td>2017-05-09T08:00:00Z</td>\n      <td>-46.226804</td>\n      <td>-60.432825</td>\n      <td>13.666667</td>\n      <td>0.041068</td>\n      <td>1.512647</td>\n    </tr>\n    <tr>\n      <th>2992</th>\n      <td>81561325</td>\n      <td>441032000</td>\n      <td>2017-10-18T22:30:00Z</td>\n      <td>2017-10-19T17:00:00Z</td>\n      <td>10.123826</td>\n      <td>-160.190040</td>\n      <td>18.500000</td>\n      <td>0.043220</td>\n      <td>1.080370</td>\n    </tr>\n    <tr>\n      <th>2993</th>\n      <td>81561325</td>\n      <td>441032000</td>\n      <td>2017-10-18T22:30:00Z</td>\n      <td>2017-10-19T17:00:00Z</td>\n      <td>10.123826</td>\n      <td>-160.190040</td>\n      <td>18.500000</td>\n      <td>0.043220</td>\n      <td>1.080370</td>\n    </tr>\n    <tr>\n      <th>5332</th>\n      <td>2000080</td>\n      <td>636018031</td>\n      <td>2017-07-05T00:30:00Z</td>\n      <td>2017-07-05T17:00:00Z</td>\n      <td>-46.678699</td>\n      <td>-60.728187</td>\n      <td>16.500000</td>\n      <td>0.050615</td>\n      <td>0.855092</td>\n    </tr>\n    <tr>\n      <th>5522</th>\n      <td>43676060</td>\n      <td>366299000</td>\n      <td>2015-08-21T07:40:00Z</td>\n      <td>2015-08-21T14:40:00Z</td>\n      <td>60.668679</td>\n      <td>-147.531834</td>\n      <td>7.000000</td>\n      <td>0.054439</td>\n      <td>0.033478</td>\n    </tr>\n    <tr>\n      <th>5795</th>\n      <td>36702190</td>\n      <td>366971260</td>\n      <td>2015-07-09T22:10:00Z</td>\n      <td>2015-07-10T12:40:00Z</td>\n      <td>58.735782</td>\n      <td>-157.163742</td>\n      <td>14.500000</td>\n      <td>0.118578</td>\n      <td>0.000000</td>\n    </tr>\n    <tr>\n      <th>10027</th>\n      <td>76000203</td>\n      <td>760000210</td>\n      <td>2017-06-02T20:40:00Z</td>\n      <td>2017-06-03T02:10:00Z</td>\n      <td>-13.467227</td>\n      <td>-76.203489</td>\n      <td>5.500000</td>\n      <td>0.141302</td>\n      <td>0.018940</td>\n    </tr>\n    <tr>\n      <th>10028</th>\n      <td>76000203</td>\n      <td>760000210</td>\n      <td>2017-06-13T04:30:00Z</td>\n      <td>2017-06-13T06:30:00Z</td>\n      <td>-13.467283</td>\n      <td>-76.208275</td>\n      <td>2.000000</td>\n      <td>0.261914</td>\n      <td>0.006044</td>\n    </tr>\n    <tr>\n      <th>10029</th>\n      <td>76000203</td>\n      <td>760000210</td>\n      <td>2017-05-18T02:20:00Z</td>\n      <td>2017-05-18T05:30:00Z</td>\n      <td>-13.450772</td>\n      <td>-76.202677</td>\n      <td>3.166667</td>\n      <td>0.120132</td>\n      <td>0.029115</td>\n    </tr>\n    <tr>\n      <th>10030</th>\n      <td>76000203</td>\n      <td>760000210</td>\n      <td>2017-06-27T05:40:00Z</td>\n      <td>2017-06-27T07:40:00Z</td>\n      <td>-13.464601</td>\n      <td>-76.205026</td>\n      <td>2.000000</td>\n      <td>0.243262</td>\n      <td>0.024185</td>\n    </tr>\n  </tbody>\n</table>\n</div>"
     },
     "execution_count": 81,
     "metadata": {},
     "output_type": "execute_result"
    }
   ],
   "source": [
    "df_enc.loc[df_enc['fishing_vessel_mmsi'].fillna(0).astype('int').astype(str).str.len() < 9] # also finds NaN values"
   ],
   "metadata": {
    "collapsed": false,
    "pycharm": {
     "name": "#%%\n"
    }
   }
  },
  {
   "cell_type": "code",
   "execution_count": 82,
   "outputs": [
    {
     "data": {
      "text/plain": "Empty DataFrame\nColumns: [fishing_vessel_mmsi, transshipment_vessel_mmsi, start_time, end_time, mean_latitude, mean_longitude, duration_hr, median_distance_km, median_speed_knots]\nIndex: []",
      "text/html": "<div>\n<style scoped>\n    .dataframe tbody tr th:only-of-type {\n        vertical-align: middle;\n    }\n\n    .dataframe tbody tr th {\n        vertical-align: top;\n    }\n\n    .dataframe thead th {\n        text-align: right;\n    }\n</style>\n<table border=\"1\" class=\"dataframe\">\n  <thead>\n    <tr style=\"text-align: right;\">\n      <th></th>\n      <th>fishing_vessel_mmsi</th>\n      <th>transshipment_vessel_mmsi</th>\n      <th>start_time</th>\n      <th>end_time</th>\n      <th>mean_latitude</th>\n      <th>mean_longitude</th>\n      <th>duration_hr</th>\n      <th>median_distance_km</th>\n      <th>median_speed_knots</th>\n    </tr>\n  </thead>\n  <tbody>\n  </tbody>\n</table>\n</div>"
     },
     "execution_count": 82,
     "metadata": {},
     "output_type": "execute_result"
    }
   ],
   "source": [
    "df_enc.loc[df_enc['transshipment_vessel_mmsi'].fillna(0).astype('int').astype(str).str.len() < 9] # also finds NaN values"
   ],
   "metadata": {
    "collapsed": false,
    "pycharm": {
     "name": "#%%\n"
    }
   }
  },
  {
   "cell_type": "markdown",
   "source": [
    "There are no missing values but some fishing_vessel_mmsi values are corrupted"
   ],
   "metadata": {
    "collapsed": false,
    "pycharm": {
     "name": "#%% md\n"
    }
   }
  },
  {
   "cell_type": "markdown",
   "source": [
    "## Outlier Detection"
   ],
   "metadata": {
    "collapsed": false,
    "pycharm": {
     "name": "#%% md\n"
    }
   }
  },
  {
   "cell_type": "markdown",
   "source": [
    "Now, we want to get some statistical information about the data distribution."
   ],
   "metadata": {
    "collapsed": false,
    "pycharm": {
     "name": "#%% md\n"
    }
   }
  },
  {
   "cell_type": "code",
   "execution_count": 83,
   "outputs": [
    {
     "name": "stdout",
     "output_type": "stream",
     "text": [
      "       fishing_vessel_mmsi  transshipment_vessel_mmsi  mean_latitude  \\\n",
      "count         1.168100e+04               1.168100e+04   11681.000000   \n",
      "mean          3.492475e+08               3.643690e+08      28.148186   \n",
      "std           8.560155e+07               1.150885e+08      39.851397   \n",
      "min           2.000080e+06               2.106310e+08     -64.419519   \n",
      "25%           2.738125e+08               2.733859e+08      -8.003784   \n",
      "50%           3.382500e+08               3.415370e+08      50.804512   \n",
      "75%           4.160038e+08               4.124402e+08      58.732077   \n",
      "max           9.990001e+08               7.600002e+08      78.223238   \n",
      "\n",
      "       mean_longitude   duration_hr  median_distance_km  median_speed_knots  \n",
      "count    11681.000000  11681.000000        11681.000000        11681.000000  \n",
      "mean        33.759551     13.256271            0.059049            0.603595  \n",
      "std        127.808306     27.669774            0.068599            0.566881  \n",
      "min       -179.988139      2.000000            0.000000            0.000000  \n",
      "25%        -79.748356      3.500000            0.029139            0.027816  \n",
      "50%         43.090409      7.333333            0.040268            0.546794  \n",
      "75%        155.393447     16.500000            0.055819            1.044146  \n",
      "max        179.993872   1727.166667            0.498008            1.999870  \n"
     ]
    }
   ],
   "source": [
    "print(df_enc.describe())"
   ],
   "metadata": {
    "collapsed": false,
    "pycharm": {
     "name": "#%%\n"
    }
   }
  },
  {
   "cell_type": "markdown",
   "source": [
    "Just by looking at the standard metrics, it comes to notice that in the attributes duration_hr and median_distance_km the max value seems to be very high compared to 75%-quantile.\n",
    "Also, the fact that the min value in median_distance_km is 0 is worth investigating"
   ],
   "metadata": {
    "collapsed": false,
    "pycharm": {
     "name": "#%% md\n"
    }
   }
  },
  {
   "cell_type": "markdown",
   "source": [
    "### duration_hr\n",
    "We draw a boxplot to get a better understanding of the distribution of the duration_hr column"
   ],
   "metadata": {
    "collapsed": false,
    "pycharm": {
     "name": "#%% md\n"
    }
   }
  },
  {
   "cell_type": "code",
   "execution_count": 84,
   "outputs": [
    {
     "data": {
      "text/plain": "<AxesSubplot:xlabel='duration_hr'>"
     },
     "execution_count": 84,
     "metadata": {},
     "output_type": "execute_result"
    },
    {
     "data": {
      "text/plain": "<Figure size 432x288 with 1 Axes>",
      "image/png": "[encoded data removed]"
     },
     "metadata": {},
     "output_type": "display_data"
    }
   ],
   "source": [
    "sns.set_theme(style=\"darkgrid\")\n",
    "sns.boxplot(x=df_enc['duration_hr'])"
   ],
   "metadata": {
    "collapsed": false,
    "pycharm": {
     "name": "#%%\n"
    }
   }
  },
  {
   "cell_type": "markdown",
   "source": [
    "The number of encounters drop off rapidly with increasing duration. Let's look at how many encounters lasted longer than 65h.\n",
    "Note that this value (65h) was chosen to ensure that no more than 1% of encounters have higher values. The reason for this is that we want to detect outliers. We are lacking the domain knowledge to decide whether these are still plausible transshipments or not."
   ],
   "metadata": {
    "collapsed": false,
    "pycharm": {
     "name": "#%% md\n"
    }
   }
  },
  {
   "cell_type": "code",
   "execution_count": 85,
   "outputs": [
    {
     "name": "stdout",
     "output_type": "stream",
     "text": [
      "113 encounters lasted longer than 65 hours\n",
      "which corresponds to 0.967% of the available data\n"
     ]
    }
   ],
   "source": [
    "print('{} encounters lasted longer than 65 hours'.format(df_enc.loc[df_enc['duration_hr'] > 65].shape[0]))\n",
    "print('which corresponds to {:.3f}% of the available data'.format(100 * df_enc.loc[df_enc['duration_hr'] > 65].shape[0]/df_enc.shape[0]))"
   ],
   "metadata": {
    "collapsed": false,
    "pycharm": {
     "name": "#%%\n"
    }
   }
  },
  {
   "cell_type": "markdown",
   "source": [
    "At a later stage those outliers should be removed"
   ],
   "metadata": {
    "collapsed": false,
    "pycharm": {
     "name": "#%% md\n"
    }
   }
  },
  {
   "cell_type": "markdown",
   "source": [
    "### median_distance\n",
    "Now we are going to take a closer look at the distribution of median distance of the encountering vessels"
   ],
   "metadata": {
    "collapsed": false,
    "pycharm": {
     "name": "#%% md\n"
    }
   }
  },
  {
   "cell_type": "code",
   "execution_count": 86,
   "outputs": [
    {
     "data": {
      "text/plain": "<seaborn.axisgrid.FacetGrid at 0x25ac0699fd0>"
     },
     "execution_count": 86,
     "metadata": {},
     "output_type": "execute_result"
    },
    {
     "data": {
      "text/plain": "<Figure size 360x360 with 1 Axes>",
      "image/png": "[encoded data removed]"
     },
     "metadata": {},
     "output_type": "display_data"
    }
   ],
   "source": [
    "sns.displot(x=df_enc['median_distance_km'])"
   ],
   "metadata": {
    "collapsed": false,
    "pycharm": {
     "name": "#%%\n"
    }
   }
  },
  {
   "cell_type": "code",
   "execution_count": 87,
   "outputs": [
    {
     "name": "stdout",
     "output_type": "stream",
     "text": [
      "617 encounters happened under a median distance of 0 km\n",
      "which corresponds to 5.282% of the available data\n"
     ]
    }
   ],
   "source": [
    "print('{} encounters happened under a median distance of 0 km'.format(df_enc.loc[df_enc['median_distance_km'] > 0.2].shape[0]))\n",
    "print('which corresponds to {:.3f}% of the available data'.format(100 * df_enc.loc[df_enc['median_distance_km'] > 0.2].shape[0]/df_enc.shape[0]))"
   ],
   "metadata": {
    "collapsed": false,
    "pycharm": {
     "name": "#%%\n"
    }
   }
  },
  {
   "cell_type": "markdown",
   "source": [
    "As of now, we are lacking the domain knowledge to decide whether those instances are erroneous or valid."
   ],
   "metadata": {
    "collapsed": false,
    "pycharm": {
     "name": "#%% md\n"
    }
   }
  },
  {
   "cell_type": "markdown",
   "source": [
    "## Duplicates\n",
    "Let's take a look at the duplicates"
   ],
   "metadata": {
    "collapsed": false,
    "pycharm": {
     "name": "#%% md\n"
    }
   }
  },
  {
   "cell_type": "code",
   "execution_count": 88,
   "outputs": [
    {
     "data": {
      "text/plain": "      fishing_vessel_mmsi  transshipment_vessel_mmsi            start_time  \\\n2926            367109910                  356616000  2016-05-05T17:00:00Z   \n2927            367109910                  356616000  2016-04-19T16:50:00Z   \n2928            367109910                  356616000  2016-05-05T17:00:00Z   \n2929            367109910                  356616000  2016-04-19T16:50:00Z   \n2930            367176240                  356616000  2016-04-29T13:20:00Z   \n...                   ...                        ...                   ...   \n8781            441050000                  351747000  2015-03-07T23:20:00Z   \n8782            412694470                  351747000  2014-02-12T12:50:00Z   \n8783            412694470                  351747000  2014-02-12T12:50:00Z   \n8784            412326887                  351747000  2015-03-18T14:50:00Z   \n8785            412326887                  351747000  2015-03-18T14:50:00Z   \n\n                  end_time  mean_latitude  mean_longitude  duration_hr  \\\n2926  2016-05-06T05:50:00Z      58.945379     -160.351627    12.833333   \n2927  2016-04-19T23:20:00Z      58.932539     -160.351094     6.500000   \n2928  2016-05-06T05:50:00Z      58.945379     -160.351627    12.833333   \n2929  2016-04-19T23:20:00Z      58.932539     -160.351094     6.500000   \n2930  2016-04-29T16:30:00Z      58.948640     -160.352834     3.166667   \n...                    ...            ...             ...          ...   \n8781  2015-03-08T02:40:00Z     -46.584928      -60.515765     3.333333   \n8782  2014-02-12T14:50:00Z     -45.363888      -60.356422     2.000000   \n8783  2014-02-12T14:50:00Z     -45.363888      -60.356422     2.000000   \n8784  2015-03-19T04:20:00Z     -45.611226      -60.461174    13.500000   \n8785  2015-03-19T04:20:00Z     -45.611226      -60.461174    13.500000   \n\n      median_distance_km  median_speed_knots  \n2926            0.050434            0.018369  \n2927            0.052085            0.011709  \n2928            0.050434            0.018369  \n2929            0.052085            0.011709  \n2930            0.042844            0.008595  \n...                  ...                 ...  \n8781            0.025681            0.794415  \n8782            0.056315            0.019153  \n8783            0.056315            0.019153  \n8784            0.052594            0.228609  \n8785            0.052594            0.228609  \n\n[196 rows x 9 columns]",
      "text/html": "<div>\n<style scoped>\n    .dataframe tbody tr th:only-of-type {\n        vertical-align: middle;\n    }\n\n    .dataframe tbody tr th {\n        vertical-align: top;\n    }\n\n    .dataframe thead th {\n        text-align: right;\n    }\n</style>\n<table border=\"1\" class=\"dataframe\">\n  <thead>\n    <tr style=\"text-align: right;\">\n      <th></th>\n      <th>fishing_vessel_mmsi</th>\n      <th>transshipment_vessel_mmsi</th>\n      <th>start_time</th>\n      <th>end_time</th>\n      <th>mean_latitude</th>\n      <th>mean_longitude</th>\n      <th>duration_hr</th>\n      <th>median_distance_km</th>\n      <th>median_speed_knots</th>\n    </tr>\n  </thead>\n  <tbody>\n    <tr>\n      <th>2926</th>\n      <td>367109910</td>\n      <td>356616000</td>\n      <td>2016-05-05T17:00:00Z</td>\n      <td>2016-05-06T05:50:00Z</td>\n      <td>58.945379</td>\n      <td>-160.351627</td>\n      <td>12.833333</td>\n      <td>0.050434</td>\n      <td>0.018369</td>\n    </tr>\n    <tr>\n      <th>2927</th>\n      <td>367109910</td>\n      <td>356616000</td>\n      <td>2016-04-19T16:50:00Z</td>\n      <td>2016-04-19T23:20:00Z</td>\n      <td>58.932539</td>\n      <td>-160.351094</td>\n      <td>6.500000</td>\n      <td>0.052085</td>\n      <td>0.011709</td>\n    </tr>\n    <tr>\n      <th>2928</th>\n      <td>367109910</td>\n      <td>356616000</td>\n      <td>2016-05-05T17:00:00Z</td>\n      <td>2016-05-06T05:50:00Z</td>\n      <td>58.945379</td>\n      <td>-160.351627</td>\n      <td>12.833333</td>\n      <td>0.050434</td>\n      <td>0.018369</td>\n    </tr>\n    <tr>\n      <th>2929</th>\n      <td>367109910</td>\n      <td>356616000</td>\n      <td>2016-04-19T16:50:00Z</td>\n      <td>2016-04-19T23:20:00Z</td>\n      <td>58.932539</td>\n      <td>-160.351094</td>\n      <td>6.500000</td>\n      <td>0.052085</td>\n      <td>0.011709</td>\n    </tr>\n    <tr>\n      <th>2930</th>\n      <td>367176240</td>\n      <td>356616000</td>\n      <td>2016-04-29T13:20:00Z</td>\n      <td>2016-04-29T16:30:00Z</td>\n      <td>58.948640</td>\n      <td>-160.352834</td>\n      <td>3.166667</td>\n      <td>0.042844</td>\n      <td>0.008595</td>\n    </tr>\n    <tr>\n      <th>...</th>\n      <td>...</td>\n      <td>...</td>\n      <td>...</td>\n      <td>...</td>\n      <td>...</td>\n      <td>...</td>\n      <td>...</td>\n      <td>...</td>\n      <td>...</td>\n    </tr>\n    <tr>\n      <th>8781</th>\n      <td>441050000</td>\n      <td>351747000</td>\n      <td>2015-03-07T23:20:00Z</td>\n      <td>2015-03-08T02:40:00Z</td>\n      <td>-46.584928</td>\n      <td>-60.515765</td>\n      <td>3.333333</td>\n      <td>0.025681</td>\n      <td>0.794415</td>\n    </tr>\n    <tr>\n      <th>8782</th>\n      <td>412694470</td>\n      <td>351747000</td>\n      <td>2014-02-12T12:50:00Z</td>\n      <td>2014-02-12T14:50:00Z</td>\n      <td>-45.363888</td>\n      <td>-60.356422</td>\n      <td>2.000000</td>\n      <td>0.056315</td>\n      <td>0.019153</td>\n    </tr>\n    <tr>\n      <th>8783</th>\n      <td>412694470</td>\n      <td>351747000</td>\n      <td>2014-02-12T12:50:00Z</td>\n      <td>2014-02-12T14:50:00Z</td>\n      <td>-45.363888</td>\n      <td>-60.356422</td>\n      <td>2.000000</td>\n      <td>0.056315</td>\n      <td>0.019153</td>\n    </tr>\n    <tr>\n      <th>8784</th>\n      <td>412326887</td>\n      <td>351747000</td>\n      <td>2015-03-18T14:50:00Z</td>\n      <td>2015-03-19T04:20:00Z</td>\n      <td>-45.611226</td>\n      <td>-60.461174</td>\n      <td>13.500000</td>\n      <td>0.052594</td>\n      <td>0.228609</td>\n    </tr>\n    <tr>\n      <th>8785</th>\n      <td>412326887</td>\n      <td>351747000</td>\n      <td>2015-03-18T14:50:00Z</td>\n      <td>2015-03-19T04:20:00Z</td>\n      <td>-45.611226</td>\n      <td>-60.461174</td>\n      <td>13.500000</td>\n      <td>0.052594</td>\n      <td>0.228609</td>\n    </tr>\n  </tbody>\n</table>\n<p>196 rows × 9 columns</p>\n</div>"
     },
     "execution_count": 88,
     "metadata": {},
     "output_type": "execute_result"
    }
   ],
   "source": [
    "df_enc.loc[df_enc.duplicated(keep=False)]"
   ],
   "metadata": {
    "collapsed": false,
    "pycharm": {
     "name": "#%%\n"
    }
   }
  },
  {
   "cell_type": "markdown",
   "source": [
    "E.g.: Instance 2926 and 2928 or 2927 and 2929 are clearly duplicates that should be removed from the dataset"
   ],
   "metadata": {
    "collapsed": false,
    "pycharm": {
     "name": "#%% md\n"
    }
   }
  },
  {
   "cell_type": "markdown",
   "source": [
    "# loitering-events"
   ],
   "metadata": {
    "collapsed": false,
    "pycharm": {
     "name": "#%% md\n"
    }
   }
  },
  {
   "cell_type": "code",
   "execution_count": 89,
   "outputs": [
    {
     "name": "stdout",
     "output_type": "stream",
     "text": [
      "<class 'pandas.core.frame.DataFrame'>\n",
      "RangeIndex: 46569 entries, 0 to 46568\n",
      "Data columns (total 9 columns):\n",
      " #   Column                Non-Null Count  Dtype  \n",
      "---  ------                --------------  -----  \n",
      " 0   transshipment_mmsi    46569 non-null  int64  \n",
      " 1   starting_latitude     46569 non-null  float64\n",
      " 2   starting_longitude    46569 non-null  float64\n",
      " 3   ending_latitude       46569 non-null  float64\n",
      " 4   ending_longitude      46569 non-null  float64\n",
      " 5   starting_timestamp    46569 non-null  object \n",
      " 6   ending_timestamp      46569 non-null  object \n",
      " 7   median_speed_knots    46569 non-null  float64\n",
      " 8   total_event_duration  46569 non-null  float64\n",
      "dtypes: float64(6), int64(1), object(2)\n",
      "memory usage: 3.2+ MB\n",
      "Shape:  (46569, 9)\n"
     ]
    }
   ],
   "source": [
    "df_loit.info()\n",
    "print('Shape: ', df_loit.shape)  # get shape of dataframe"
   ],
   "metadata": {
    "collapsed": false,
    "pycharm": {
     "name": "#%%\n"
    }
   }
  },
  {
   "cell_type": "markdown",
   "source": [
    "## Null Values and wrong formats"
   ],
   "metadata": {
    "collapsed": false,
    "pycharm": {
     "name": "#%% md\n"
    }
   }
  },
  {
   "cell_type": "markdown",
   "source": [
    "In the next step we check for the length of the mmsi value. First we have to convert values to int so that we don’t have to deal with floats and afterwards to string such that we can check its length."
   ],
   "metadata": {
    "collapsed": false,
    "pycharm": {
     "name": "#%% md\n"
    }
   }
  },
  {
   "cell_type": "code",
   "execution_count": 90,
   "outputs": [
    {
     "data": {
      "text/plain": "Empty DataFrame\nColumns: [fishing_vessel_mmsi, transshipment_vessel_mmsi, start_time, end_time, mean_latitude, mean_longitude, duration_hr, median_distance_km, median_speed_knots]\nIndex: []",
      "text/html": "<div>\n<style scoped>\n    .dataframe tbody tr th:only-of-type {\n        vertical-align: middle;\n    }\n\n    .dataframe tbody tr th {\n        vertical-align: top;\n    }\n\n    .dataframe thead th {\n        text-align: right;\n    }\n</style>\n<table border=\"1\" class=\"dataframe\">\n  <thead>\n    <tr style=\"text-align: right;\">\n      <th></th>\n      <th>fishing_vessel_mmsi</th>\n      <th>transshipment_vessel_mmsi</th>\n      <th>start_time</th>\n      <th>end_time</th>\n      <th>mean_latitude</th>\n      <th>mean_longitude</th>\n      <th>duration_hr</th>\n      <th>median_distance_km</th>\n      <th>median_speed_knots</th>\n    </tr>\n  </thead>\n  <tbody>\n  </tbody>\n</table>\n</div>"
     },
     "execution_count": 90,
     "metadata": {},
     "output_type": "execute_result"
    }
   ],
   "source": [
    "df_enc.loc[df_enc['transshipment_vessel_mmsi'].fillna(0).astype('int').astype(str).str.len() < 9] # also finds NaN values in that column"
   ],
   "metadata": {
    "collapsed": false,
    "pycharm": {
     "name": "#%%\n"
    }
   }
  },
  {
   "cell_type": "markdown",
   "source": [
    "## Outlier detection"
   ],
   "metadata": {
    "collapsed": false,
    "pycharm": {
     "name": "#%% md\n"
    }
   }
  },
  {
   "cell_type": "code",
   "execution_count": 91,
   "outputs": [
    {
     "data": {
      "text/plain": "       transshipment_mmsi  starting_latitude  starting_longitude  \\\ncount        4.656900e+04       46569.000000        46569.000000   \nmean         3.988001e+08          13.332827           37.299625   \nstd          1.222684e+08          35.386898          109.768020   \nmin          2.000011e+08         -73.196533         -179.998672   \n25%          2.738294e+08         -12.631552          -60.474194   \n50%          3.578050e+08           8.495400           32.832062   \n75%          5.145650e+08          45.397766          150.625595   \nmax          8.006687e+08          80.176160          179.995407   \n\n       ending_latitude  ending_longitude  median_speed_knots  \\\ncount     46569.000000      46569.000000        46569.000000   \nmean         13.380619         37.359351            1.007226   \nstd          35.322708        109.733637            0.415658   \nmin         -87.215640       -179.985580            0.000000   \n25%         -12.475266        -60.391735            0.748288   \n50%           8.483275         33.012684            1.017809   \n75%          45.393921        150.639787            1.298791   \nmax          80.415280        179.998611            1.996064   \n\n       total_event_duration  \ncount          46569.000000  \nmean              32.725295  \nstd               45.276891  \nmin                8.000000  \n25%               12.888194  \n50%               19.775278  \n75%               36.230417  \nmax             2437.876806  ",
      "text/html": "<div>\n<style scoped>\n    .dataframe tbody tr th:only-of-type {\n        vertical-align: middle;\n    }\n\n    .dataframe tbody tr th {\n        vertical-align: top;\n    }\n\n    .dataframe thead th {\n        text-align: right;\n    }\n</style>\n<table border=\"1\" class=\"dataframe\">\n  <thead>\n    <tr style=\"text-align: right;\">\n      <th></th>\n      <th>transshipment_mmsi</th>\n      <th>starting_latitude</th>\n      <th>starting_longitude</th>\n      <th>ending_latitude</th>\n      <th>ending_longitude</th>\n      <th>median_speed_knots</th>\n      <th>total_event_duration</th>\n    </tr>\n  </thead>\n  <tbody>\n    <tr>\n      <th>count</th>\n      <td>4.656900e+04</td>\n      <td>46569.000000</td>\n      <td>46569.000000</td>\n      <td>46569.000000</td>\n      <td>46569.000000</td>\n      <td>46569.000000</td>\n      <td>46569.000000</td>\n    </tr>\n    <tr>\n      <th>mean</th>\n      <td>3.988001e+08</td>\n      <td>13.332827</td>\n      <td>37.299625</td>\n      <td>13.380619</td>\n      <td>37.359351</td>\n      <td>1.007226</td>\n      <td>32.725295</td>\n    </tr>\n    <tr>\n      <th>std</th>\n      <td>1.222684e+08</td>\n      <td>35.386898</td>\n      <td>109.768020</td>\n      <td>35.322708</td>\n      <td>109.733637</td>\n      <td>0.415658</td>\n      <td>45.276891</td>\n    </tr>\n    <tr>\n      <th>min</th>\n      <td>2.000011e+08</td>\n      <td>-73.196533</td>\n      <td>-179.998672</td>\n      <td>-87.215640</td>\n      <td>-179.985580</td>\n      <td>0.000000</td>\n      <td>8.000000</td>\n    </tr>\n    <tr>\n      <th>25%</th>\n      <td>2.738294e+08</td>\n      <td>-12.631552</td>\n      <td>-60.474194</td>\n      <td>-12.475266</td>\n      <td>-60.391735</td>\n      <td>0.748288</td>\n      <td>12.888194</td>\n    </tr>\n    <tr>\n      <th>50%</th>\n      <td>3.578050e+08</td>\n      <td>8.495400</td>\n      <td>32.832062</td>\n      <td>8.483275</td>\n      <td>33.012684</td>\n      <td>1.017809</td>\n      <td>19.775278</td>\n    </tr>\n    <tr>\n      <th>75%</th>\n      <td>5.145650e+08</td>\n      <td>45.397766</td>\n      <td>150.625595</td>\n      <td>45.393921</td>\n      <td>150.639787</td>\n      <td>1.298791</td>\n      <td>36.230417</td>\n    </tr>\n    <tr>\n      <th>max</th>\n      <td>8.006687e+08</td>\n      <td>80.176160</td>\n      <td>179.995407</td>\n      <td>80.415280</td>\n      <td>179.998611</td>\n      <td>1.996064</td>\n      <td>2437.876806</td>\n    </tr>\n  </tbody>\n</table>\n</div>"
     },
     "execution_count": 91,
     "metadata": {},
     "output_type": "execute_result"
    }
   ],
   "source": [
    "df_loit.describe()"
   ],
   "metadata": {
    "collapsed": false,
    "pycharm": {
     "name": "#%%\n"
    }
   }
  },
  {
   "cell_type": "markdown",
   "source": [
    "Again, the max value of the total_event_duration column seems far off. In the next step we are going to take a closer look at it."
   ],
   "metadata": {
    "collapsed": false,
    "pycharm": {
     "name": "#%% md\n"
    }
   }
  },
  {
   "cell_type": "markdown",
   "source": [
    "### loitering duration\n",
    "First, we look at a boxplot of the data"
   ],
   "metadata": {
    "collapsed": false,
    "pycharm": {
     "name": "#%% md\n"
    }
   }
  },
  {
   "cell_type": "code",
   "execution_count": 92,
   "outputs": [
    {
     "data": {
      "text/plain": "<AxesSubplot:xlabel='total_event_duration'>"
     },
     "execution_count": 92,
     "metadata": {},
     "output_type": "execute_result"
    },
    {
     "data": {
      "text/plain": "<Figure size 432x288 with 1 Axes>",
      "image/png": "[encoded data removed]"
     },
     "metadata": {},
     "output_type": "display_data"
    }
   ],
   "source": [
    "sns.set_theme(style=\"darkgrid\")\n",
    "sns.boxplot(x=df_loit['total_event_duration'])"
   ],
   "metadata": {
    "collapsed": false,
    "pycharm": {
     "name": "#%%\n"
    }
   }
  },
  {
   "cell_type": "markdown",
   "source": [
    "Again, the Boxplot is hard to interpret, so we create a distribution plot"
   ],
   "metadata": {
    "collapsed": false,
    "pycharm": {
     "name": "#%% md\n"
    }
   }
  },
  {
   "cell_type": "code",
   "execution_count": 93,
   "outputs": [
    {
     "data": {
      "text/plain": "<seaborn.axisgrid.FacetGrid at 0x25ac7ef1f40>"
     },
     "execution_count": 93,
     "metadata": {},
     "output_type": "execute_result"
    },
    {
     "data": {
      "text/plain": "<Figure size 360x360 with 1 Axes>",
      "image/png": "[encoded data removed]"
     },
     "metadata": {},
     "output_type": "display_data"
    }
   ],
   "source": [
    "sns.displot(x=df_loit['total_event_duration'])"
   ],
   "metadata": {
    "collapsed": false,
    "pycharm": {
     "name": "#%%\n"
    }
   }
  },
  {
   "cell_type": "code",
   "execution_count": 94,
   "outputs": [
    {
     "name": "stdout",
     "output_type": "stream",
     "text": [
      "468 loitering events lasted longer than 200 hours\n",
      "which corresponds to 1.005% of the available data\n"
     ]
    }
   ],
   "source": [
    "print('{} loitering events lasted longer than 200 hours'.format(df_loit.loc[df_loit['total_event_duration'] > 200].shape[0]))\n",
    "print('which corresponds to {:.3f}% of the available data'.format(100 * df_loit.loc[df_loit['total_event_duration'] > 200].shape[0]/df_loit.shape[0]))"
   ],
   "metadata": {
    "collapsed": false,
    "pycharm": {
     "name": "#%%\n"
    }
   }
  },
  {
   "cell_type": "markdown",
   "source": [
    "## Duplicates"
   ],
   "metadata": {
    "collapsed": false,
    "pycharm": {
     "name": "#%% md\n"
    }
   }
  },
  {
   "cell_type": "code",
   "execution_count": 95,
   "outputs": [
    {
     "data": {
      "text/plain": "       transshipment_mmsi  starting_latitude  starting_longitude  \\\n428             306752000           9.182422          -14.847557   \n429             306752000           9.182422          -14.847557   \n438             306752000          11.797778          -16.877113   \n439             306752000          11.797778          -16.877113   \n486             351776000         -15.706367          -80.191765   \n...                   ...                ...                 ...   \n45910           341099000          69.985550            2.477125   \n45918           341099000          71.003349            3.094707   \n45919           341099000          71.003349            3.094707   \n46272           636011004          10.508250          -16.424566   \n46273           636011004          10.508250          -16.424566   \n\n       ending_latitude  ending_longitude    starting_timestamp  \\\n428           8.624799        -14.198190  2013-02-03T15:11:09Z   \n429           8.624799        -14.198190  2013-02-03T15:11:09Z   \n438          11.796393        -16.878798  2013-02-14T10:46:54Z   \n439          11.796393        -16.878798  2013-02-14T10:46:54Z   \n486         -15.486032        -80.319771  2014-10-06T15:51:13Z   \n...                ...               ...                   ...   \n45910        70.353836          2.463603  2013-07-30T11:05:32Z   \n45918        71.510406          3.948313  2013-07-21T09:20:24Z   \n45919        71.510406          3.948313  2013-07-21T09:20:24Z   \n46272        10.507800        -16.423834  2015-01-30T19:14:12Z   \n46273        10.507800        -16.423834  2015-01-30T19:14:12Z   \n\n           ending_timestamp  median_speed_knots  total_event_duration  \n428    2013-02-07T08:47:50Z            0.733918             89.838333  \n429    2013-02-07T08:47:50Z            0.733918             89.838333  \n438    2013-02-15T14:55:51Z            0.037183             28.775139  \n439    2013-02-15T14:55:51Z            0.037183             28.775139  \n486    2014-10-07T05:48:13Z            1.107937             14.894444  \n...                     ...                 ...                   ...  \n45910  2013-07-31T19:56:26Z            0.757203             33.048333  \n45918  2013-07-23T17:57:37Z            1.071254             58.858750  \n45919  2013-07-23T17:57:37Z            1.071254             58.858750  \n46272  2015-02-02T16:59:12Z            0.075382             71.684444  \n46273  2015-02-02T16:59:12Z            0.075382             71.684444  \n\n[342 rows x 9 columns]",
      "text/html": "<div>\n<style scoped>\n    .dataframe tbody tr th:only-of-type {\n        vertical-align: middle;\n    }\n\n    .dataframe tbody tr th {\n        vertical-align: top;\n    }\n\n    .dataframe thead th {\n        text-align: right;\n    }\n</style>\n<table border=\"1\" class=\"dataframe\">\n  <thead>\n    <tr style=\"text-align: right;\">\n      <th></th>\n      <th>transshipment_mmsi</th>\n      <th>starting_latitude</th>\n      <th>starting_longitude</th>\n      <th>ending_latitude</th>\n      <th>ending_longitude</th>\n      <th>starting_timestamp</th>\n      <th>ending_timestamp</th>\n      <th>median_speed_knots</th>\n      <th>total_event_duration</th>\n    </tr>\n  </thead>\n  <tbody>\n    <tr>\n      <th>428</th>\n      <td>306752000</td>\n      <td>9.182422</td>\n      <td>-14.847557</td>\n      <td>8.624799</td>\n      <td>-14.198190</td>\n      <td>2013-02-03T15:11:09Z</td>\n      <td>2013-02-07T08:47:50Z</td>\n      <td>0.733918</td>\n      <td>89.838333</td>\n    </tr>\n    <tr>\n      <th>429</th>\n      <td>306752000</td>\n      <td>9.182422</td>\n      <td>-14.847557</td>\n      <td>8.624799</td>\n      <td>-14.198190</td>\n      <td>2013-02-03T15:11:09Z</td>\n      <td>2013-02-07T08:47:50Z</td>\n      <td>0.733918</td>\n      <td>89.838333</td>\n    </tr>\n    <tr>\n      <th>438</th>\n      <td>306752000</td>\n      <td>11.797778</td>\n      <td>-16.877113</td>\n      <td>11.796393</td>\n      <td>-16.878798</td>\n      <td>2013-02-14T10:46:54Z</td>\n      <td>2013-02-15T14:55:51Z</td>\n      <td>0.037183</td>\n      <td>28.775139</td>\n    </tr>\n    <tr>\n      <th>439</th>\n      <td>306752000</td>\n      <td>11.797778</td>\n      <td>-16.877113</td>\n      <td>11.796393</td>\n      <td>-16.878798</td>\n      <td>2013-02-14T10:46:54Z</td>\n      <td>2013-02-15T14:55:51Z</td>\n      <td>0.037183</td>\n      <td>28.775139</td>\n    </tr>\n    <tr>\n      <th>486</th>\n      <td>351776000</td>\n      <td>-15.706367</td>\n      <td>-80.191765</td>\n      <td>-15.486032</td>\n      <td>-80.319771</td>\n      <td>2014-10-06T15:51:13Z</td>\n      <td>2014-10-07T05:48:13Z</td>\n      <td>1.107937</td>\n      <td>14.894444</td>\n    </tr>\n    <tr>\n      <th>...</th>\n      <td>...</td>\n      <td>...</td>\n      <td>...</td>\n      <td>...</td>\n      <td>...</td>\n      <td>...</td>\n      <td>...</td>\n      <td>...</td>\n      <td>...</td>\n    </tr>\n    <tr>\n      <th>45910</th>\n      <td>341099000</td>\n      <td>69.985550</td>\n      <td>2.477125</td>\n      <td>70.353836</td>\n      <td>2.463603</td>\n      <td>2013-07-30T11:05:32Z</td>\n      <td>2013-07-31T19:56:26Z</td>\n      <td>0.757203</td>\n      <td>33.048333</td>\n    </tr>\n    <tr>\n      <th>45918</th>\n      <td>341099000</td>\n      <td>71.003349</td>\n      <td>3.094707</td>\n      <td>71.510406</td>\n      <td>3.948313</td>\n      <td>2013-07-21T09:20:24Z</td>\n      <td>2013-07-23T17:57:37Z</td>\n      <td>1.071254</td>\n      <td>58.858750</td>\n    </tr>\n    <tr>\n      <th>45919</th>\n      <td>341099000</td>\n      <td>71.003349</td>\n      <td>3.094707</td>\n      <td>71.510406</td>\n      <td>3.948313</td>\n      <td>2013-07-21T09:20:24Z</td>\n      <td>2013-07-23T17:57:37Z</td>\n      <td>1.071254</td>\n      <td>58.858750</td>\n    </tr>\n    <tr>\n      <th>46272</th>\n      <td>636011004</td>\n      <td>10.508250</td>\n      <td>-16.424566</td>\n      <td>10.507800</td>\n      <td>-16.423834</td>\n      <td>2015-01-30T19:14:12Z</td>\n      <td>2015-02-02T16:59:12Z</td>\n      <td>0.075382</td>\n      <td>71.684444</td>\n    </tr>\n    <tr>\n      <th>46273</th>\n      <td>636011004</td>\n      <td>10.508250</td>\n      <td>-16.424566</td>\n      <td>10.507800</td>\n      <td>-16.423834</td>\n      <td>2015-01-30T19:14:12Z</td>\n      <td>2015-02-02T16:59:12Z</td>\n      <td>0.075382</td>\n      <td>71.684444</td>\n    </tr>\n  </tbody>\n</table>\n<p>342 rows × 9 columns</p>\n</div>"
     },
     "execution_count": 95,
     "metadata": {},
     "output_type": "execute_result"
    }
   ],
   "source": [
    "df_loit.loc[df_loit.duplicated(keep=False)]"
   ],
   "metadata": {
    "collapsed": false,
    "pycharm": {
     "name": "#%%\n"
    }
   }
  },
  {
   "cell_type": "markdown",
   "source": [
    "Again, we can find many duplicates in the dataset that have to be removed at a later stage!"
   ],
   "metadata": {
    "collapsed": false,
    "pycharm": {
     "name": "#%% md\n"
    }
   }
  },
  {
   "cell_type": "markdown",
   "source": [
    "# Transshipment Vessels"
   ],
   "metadata": {
    "collapsed": false,
    "pycharm": {
     "name": "#%% md\n"
    }
   }
  },
  {
   "cell_type": "code",
   "execution_count": 96,
   "outputs": [
    {
     "name": "stdout",
     "output_type": "stream",
     "text": [
      "<class 'pandas.core.frame.DataFrame'>\n",
      "RangeIndex: 1124 entries, 0 to 1123\n",
      "Data columns (total 7 columns):\n",
      " #   Column           Non-Null Count  Dtype  \n",
      "---  ------           --------------  -----  \n",
      " 0   mmsi             1070 non-null   float64\n",
      " 1   shipname         1123 non-null   object \n",
      " 2   callsign         1106 non-null   object \n",
      " 3   flag             1124 non-null   object \n",
      " 4   imo              1074 non-null   float64\n",
      " 5   first_timestamp  1070 non-null   object \n",
      " 6   last_timestamp   1070 non-null   object \n",
      "dtypes: float64(2), object(5)\n",
      "memory usage: 61.6+ KB\n",
      "Shape:  (1124, 7)\n"
     ]
    }
   ],
   "source": [
    "df_ves.info()\n",
    "print('Shape: ', df_ves.shape)  # get shape of dataframe"
   ],
   "metadata": {
    "collapsed": false,
    "pycharm": {
     "name": "#%%\n"
    }
   }
  },
  {
   "cell_type": "markdown",
   "source": [
    "## Null values and wrong formats"
   ],
   "metadata": {
    "collapsed": false,
    "pycharm": {
     "name": "#%% md\n"
    }
   }
  },
  {
   "cell_type": "markdown",
   "source": [
    "In the next step we check for the length of the mmsi value. First we have to convert values to int so that we don't have to deal with floats and afterwards to string such that we can check its length."
   ],
   "metadata": {
    "collapsed": false,
    "pycharm": {
     "name": "#%% md\n"
    }
   }
  },
  {
   "cell_type": "code",
   "execution_count": 97,
   "outputs": [
    {
     "data": {
      "text/plain": "           mmsi        shipname callsign flag        imo  \\\n2      309681.0     GREENBRAZIL    C6WH6  BHS  9045792.0   \n316   3530564.0      BAYPHOENIX    A8OE5  LBR  9047271.0   \n317   8442807.0     BAY PHOENIX    A8OE5  LBR  9047271.0   \n408   1193046.0           AUXIS     3BSD  MUS  8819287.0   \n447   1193046.0       MONTECRUZ    3FUH5  PAN  7710276.0   \n...         ...             ...      ...  ...        ...   \n1119        NaN     BWMPRINCESA      NaN  THA  7713228.0   \n1120        NaN       SPRINCESA  HSB5949  THA  7713228.0   \n1121        NaN  SUPERIORREEFER  HSB3113  THA  7811513.0   \n1122        NaN         TIANTAI    JVHH9  TZA  7905039.0   \n1123        NaN          SERVIS  J8B3225  VCT  7368621.0   \n\n           first_timestamp        last_timestamp  \n2     2018-06-29T10:34:00Z  2018-06-30T23:47:40Z  \n316   2018-06-25T02:30:55Z  2018-06-30T12:57:31Z  \n317   2013-06-09T18:35:45Z  2013-07-04T20:31:55Z  \n408   2015-03-02T20:25:30Z  2016-07-13T03:57:23Z  \n447   2013-01-11T05:37:04Z  2017-04-24T18:55:51Z  \n...                    ...                   ...  \n1119                   NaN                   NaN  \n1120                   NaN                   NaN  \n1121                   NaN                   NaN  \n1122                   NaN                   NaN  \n1123                   NaN                   NaN  \n\n[63 rows x 7 columns]",
      "text/html": "<div>\n<style scoped>\n    .dataframe tbody tr th:only-of-type {\n        vertical-align: middle;\n    }\n\n    .dataframe tbody tr th {\n        vertical-align: top;\n    }\n\n    .dataframe thead th {\n        text-align: right;\n    }\n</style>\n<table border=\"1\" class=\"dataframe\">\n  <thead>\n    <tr style=\"text-align: right;\">\n      <th></th>\n      <th>mmsi</th>\n      <th>shipname</th>\n      <th>callsign</th>\n      <th>flag</th>\n      <th>imo</th>\n      <th>first_timestamp</th>\n      <th>last_timestamp</th>\n    </tr>\n  </thead>\n  <tbody>\n    <tr>\n      <th>2</th>\n      <td>309681.0</td>\n      <td>GREENBRAZIL</td>\n      <td>C6WH6</td>\n      <td>BHS</td>\n      <td>9045792.0</td>\n      <td>2018-06-29T10:34:00Z</td>\n      <td>2018-06-30T23:47:40Z</td>\n    </tr>\n    <tr>\n      <th>316</th>\n      <td>3530564.0</td>\n      <td>BAYPHOENIX</td>\n      <td>A8OE5</td>\n      <td>LBR</td>\n      <td>9047271.0</td>\n      <td>2018-06-25T02:30:55Z</td>\n      <td>2018-06-30T12:57:31Z</td>\n    </tr>\n    <tr>\n      <th>317</th>\n      <td>8442807.0</td>\n      <td>BAY PHOENIX</td>\n      <td>A8OE5</td>\n      <td>LBR</td>\n      <td>9047271.0</td>\n      <td>2013-06-09T18:35:45Z</td>\n      <td>2013-07-04T20:31:55Z</td>\n    </tr>\n    <tr>\n      <th>408</th>\n      <td>1193046.0</td>\n      <td>AUXIS</td>\n      <td>3BSD</td>\n      <td>MUS</td>\n      <td>8819287.0</td>\n      <td>2015-03-02T20:25:30Z</td>\n      <td>2016-07-13T03:57:23Z</td>\n    </tr>\n    <tr>\n      <th>447</th>\n      <td>1193046.0</td>\n      <td>MONTECRUZ</td>\n      <td>3FUH5</td>\n      <td>PAN</td>\n      <td>7710276.0</td>\n      <td>2013-01-11T05:37:04Z</td>\n      <td>2017-04-24T18:55:51Z</td>\n    </tr>\n    <tr>\n      <th>...</th>\n      <td>...</td>\n      <td>...</td>\n      <td>...</td>\n      <td>...</td>\n      <td>...</td>\n      <td>...</td>\n      <td>...</td>\n    </tr>\n    <tr>\n      <th>1119</th>\n      <td>NaN</td>\n      <td>BWMPRINCESA</td>\n      <td>NaN</td>\n      <td>THA</td>\n      <td>7713228.0</td>\n      <td>NaN</td>\n      <td>NaN</td>\n    </tr>\n    <tr>\n      <th>1120</th>\n      <td>NaN</td>\n      <td>SPRINCESA</td>\n      <td>HSB5949</td>\n      <td>THA</td>\n      <td>7713228.0</td>\n      <td>NaN</td>\n      <td>NaN</td>\n    </tr>\n    <tr>\n      <th>1121</th>\n      <td>NaN</td>\n      <td>SUPERIORREEFER</td>\n      <td>HSB3113</td>\n      <td>THA</td>\n      <td>7811513.0</td>\n      <td>NaN</td>\n      <td>NaN</td>\n    </tr>\n    <tr>\n      <th>1122</th>\n      <td>NaN</td>\n      <td>TIANTAI</td>\n      <td>JVHH9</td>\n      <td>TZA</td>\n      <td>7905039.0</td>\n      <td>NaN</td>\n      <td>NaN</td>\n    </tr>\n    <tr>\n      <th>1123</th>\n      <td>NaN</td>\n      <td>SERVIS</td>\n      <td>J8B3225</td>\n      <td>VCT</td>\n      <td>7368621.0</td>\n      <td>NaN</td>\n      <td>NaN</td>\n    </tr>\n  </tbody>\n</table>\n<p>63 rows × 7 columns</p>\n</div>"
     },
     "execution_count": 97,
     "metadata": {},
     "output_type": "execute_result"
    }
   ],
   "source": [
    "df_ves.loc[df_ves['mmsi'].fillna(0).astype('int').astype(str).str.len() < 9]"
   ],
   "metadata": {
    "collapsed": false,
    "pycharm": {
     "name": "#%%\n"
    }
   }
  },
  {
   "cell_type": "markdown",
   "source": [
    "## Outlier detection"
   ],
   "metadata": {
    "collapsed": false,
    "pycharm": {
     "name": "#%% md\n"
    }
   }
  },
  {
   "cell_type": "code",
   "execution_count": 98,
   "outputs": [
    {
     "data": {
      "text/plain": "<seaborn.axisgrid.FacetGrid at 0x25abfca3d00>"
     },
     "execution_count": 98,
     "metadata": {},
     "output_type": "execute_result"
    },
    {
     "data": {
      "text/plain": "<Figure size 360x360 with 1 Axes>",
      "image/png": "[encoded data removed]"
     },
     "metadata": {},
     "output_type": "display_data"
    }
   ],
   "source": [
    "sns.displot(x=df_ves.mmsi)"
   ],
   "metadata": {
    "collapsed": false,
    "pycharm": {
     "name": "#%%\n"
    }
   }
  },
  {
   "cell_type": "markdown",
   "source": [
    "We will remove the outliers at a later stage of the project, but we already note there existence here."
   ],
   "metadata": {
    "collapsed": false,
    "pycharm": {
     "name": "#%% md\n"
    }
   }
  },
  {
   "cell_type": "markdown",
   "source": [
    "## Duplicates"
   ],
   "metadata": {
    "collapsed": false,
    "pycharm": {
     "name": "#%% md\n"
    }
   }
  },
  {
   "cell_type": "code",
   "execution_count": 99,
   "outputs": [
    {
     "data": {
      "text/plain": "Empty DataFrame\nColumns: [mmsi, shipname, callsign, flag, imo, first_timestamp, last_timestamp]\nIndex: []",
      "text/html": "<div>\n<style scoped>\n    .dataframe tbody tr th:only-of-type {\n        vertical-align: middle;\n    }\n\n    .dataframe tbody tr th {\n        vertical-align: top;\n    }\n\n    .dataframe thead th {\n        text-align: right;\n    }\n</style>\n<table border=\"1\" class=\"dataframe\">\n  <thead>\n    <tr style=\"text-align: right;\">\n      <th></th>\n      <th>mmsi</th>\n      <th>shipname</th>\n      <th>callsign</th>\n      <th>flag</th>\n      <th>imo</th>\n      <th>first_timestamp</th>\n      <th>last_timestamp</th>\n    </tr>\n  </thead>\n  <tbody>\n  </tbody>\n</table>\n</div>"
     },
     "execution_count": 99,
     "metadata": {},
     "output_type": "execute_result"
    }
   ],
   "source": [
    "df_ves.loc[df_ves.duplicated(keep=False)]"
   ],
   "metadata": {
    "collapsed": false,
    "pycharm": {
     "name": "#%%\n"
    }
   }
  },
  {
   "cell_type": "markdown",
   "source": [
    "No duplicates in the transshipment vessel dataset"
   ],
   "metadata": {
    "collapsed": false,
    "pycharm": {
     "name": "#%% md\n"
    }
   }
  }
 ],
 "metadata": {
  "kernelspec": {
   "display_name": "Python 3",
   "language": "python",
   "name": "python3"
  },
  "language_info": {
   "codemirror_mode": {
    "name": "ipython",
    "version": 2
   },
   "file_extension": ".py",
   "mimetype": "text/x-python",
   "name": "python",
   "nbconvert_exporter": "python",
   "pygments_lexer": "ipython2",
   "version": "2.7.6"
  }
 },
 "nbformat": 4,
 "nbformat_minor": 0
}
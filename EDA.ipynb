{
 "cells": [
  {
   "cell_type": "code",
   "execution_count": null,
   "outputs": [],
   "source": [
    "import pandas as pd\n",
    "import numpy as np\n",
    "import sklearn\n",
    "import seaborn as sns\n"
   ],
   "metadata": {
    "collapsed": false,
    "pycharm": {
     "name": "#%%\n"
    }
   }
  },
  {
   "cell_type": "code",
   "execution_count": 12,
   "outputs": [],
   "source": [
    "filepath_enc = 'data/encounter-events.csv'\n",
    "filepath_loit = 'data/loitering-events.csv'\n",
    "filepath_tran = 'data/transshipment-vessels.csv'"
   ],
   "metadata": {
    "collapsed": false,
    "pycharm": {
     "name": "#%%\n"
    }
   }
  },
  {
   "cell_type": "code",
   "execution_count": 15,
   "outputs": [],
   "source": [
    "df_enc = pd.read_csv(filepath_enc)\n",
    "df_loit = pd.read_csv(filepath_loit)\n",
    "df_tran = pd.read_csv(filepath_tran)"
   ],
   "metadata": {
    "collapsed": false,
    "pycharm": {
     "name": "#%%\n"
    }
   }
  },
  {
   "cell_type": "code",
   "execution_count": 17,
   "outputs": [
    {
     "name": "stdout",
     "output_type": "stream",
     "text": [
      "       fishing_vessel_mmsi  transshipment_vessel_mmsi  mean_latitude  \\\n",
      "count         1.168100e+04               1.168100e+04   11681.000000   \n",
      "mean          3.492475e+08               3.643690e+08      28.148186   \n",
      "std           8.560155e+07               1.150885e+08      39.851397   \n",
      "min           2.000080e+06               2.106310e+08     -64.419519   \n",
      "25%           2.738125e+08               2.733859e+08      -8.003784   \n",
      "50%           3.382500e+08               3.415370e+08      50.804512   \n",
      "75%           4.160038e+08               4.124402e+08      58.732077   \n",
      "max           9.990001e+08               7.600002e+08      78.223238   \n",
      "\n",
      "       mean_longitude   duration_hr  median_distance_km  median_speed_knots  \n",
      "count    11681.000000  11681.000000        11681.000000        11681.000000  \n",
      "mean        33.759551     13.256271            0.059049            0.603595  \n",
      "std        127.808306     27.669774            0.068599            0.566881  \n",
      "min       -179.988139      2.000000            0.000000            0.000000  \n",
      "25%        -79.748356      3.500000            0.029139            0.027816  \n",
      "50%         43.090409      7.333333            0.040268            0.546794  \n",
      "75%        155.393447     16.500000            0.055819            1.044146  \n",
      "max        179.993872   1727.166667            0.498008            1.999870  \n",
      "<class 'pandas.core.frame.DataFrame'>\n",
      "RangeIndex: 11681 entries, 0 to 11680\n",
      "Data columns (total 9 columns):\n",
      "fishing_vessel_mmsi          11681 non-null int64\n",
      "transshipment_vessel_mmsi    11681 non-null int64\n",
      "start_time                   11681 non-null object\n",
      "end_time                     11681 non-null object\n",
      "mean_latitude                11681 non-null float64\n",
      "mean_longitude               11681 non-null float64\n",
      "duration_hr                  11681 non-null float64\n",
      "median_distance_km           11681 non-null float64\n",
      "median_speed_knots           11681 non-null float64\n",
      "dtypes: float64(5), int64(2), object(2)\n",
      "memory usage: 821.4+ KB\n",
      "None\n",
      "All columns:  Index(['fishing_vessel_mmsi', 'transshipment_vessel_mmsi', 'start_time',\n",
      "       'end_time', 'mean_latitude', 'mean_longitude', 'duration_hr',\n",
      "       'median_distance_km', 'median_speed_knots'],\n",
      "      dtype='object')\n",
      "Shape:  (11681, 9)\n"
     ]
    }
   ],
   "source": [
    "print('encounter-events dataframe:')\n",
    "# print(df_enc.head())  # look at first five instance\n",
    "print(df_enc.describe())  # get some insight in the data distribution\n",
    "print(df_enc.info())  # get some insight about data quality\n",
    "print('All columns: ', df_enc.columns)  # print column names\n",
    "print('Shape: ', df_enc.shape)  # get shape of dataframe"
   ],
   "metadata": {
    "collapsed": false,
    "pycharm": {
     "name": "#%%\n"
    }
   }
  },
  {
   "cell_type": "code",
   "execution_count": null,
   "outputs": [],
   "source": [],
   "metadata": {
    "collapsed": false,
    "pycharm": {
     "name": "#%%\n"
    }
   }
  }
 ],
 "metadata": {
  "kernelspec": {
   "display_name": "Python 3",
   "language": "python",
   "name": "python3"
  },
  "language_info": {
   "codemirror_mode": {
    "name": "ipython",
    "version": 2
   },
   "file_extension": ".py",
   "mimetype": "text/x-python",
   "name": "python",
   "nbconvert_exporter": "python",
   "pygments_lexer": "ipython2",
   "version": "2.7.6"
  }
 },
 "nbformat": 4,
 "nbformat_minor": 0
}

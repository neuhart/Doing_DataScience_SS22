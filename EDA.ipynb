{
 "cells": [
  {
   "cell_type": "code",
   "execution_count": 106,
   "outputs": [],
   "source": [
    "import pandas as pd\n",
    "import seaborn as sns\n"
   ],
   "metadata": {
    "collapsed": false,
    "pycharm": {
     "name": "#%%\n"
    }
   }
  },
  {
   "cell_type": "code",
   "execution_count": 107,
   "outputs": [],
   "source": [
    "filepath_enc = 'data/encounter-events.csv'\n",
    "filepath_loit = 'data/loitering-events.csv'\n",
    "filepath_tran = 'data/transshipment-vessels.csv'"
   ],
   "metadata": {
    "collapsed": false,
    "pycharm": {
     "name": "#%%\n"
    }
   }
  },
  {
   "cell_type": "code",
   "execution_count": 108,
   "outputs": [],
   "source": [
    "df_enc = pd.read_csv(filepath_enc)\n",
    "df_loit = pd.read_csv(filepath_loit)\n",
    "df_tran = pd.read_csv(filepath_tran)"
   ],
   "metadata": {
    "collapsed": false,
    "pycharm": {
     "name": "#%%\n"
    }
   }
  },
  {
   "cell_type": "markdown",
   "source": [
    "# encounter-events"
   ],
   "metadata": {
    "collapsed": false,
    "pycharm": {
     "name": "#%% md\n"
    }
   }
  },
  {
   "cell_type": "code",
   "execution_count": 109,
   "outputs": [
    {
     "data": {
      "text/plain": "   fishing_vessel_mmsi  transshipment_vessel_mmsi            start_time  \\\n0            416565000                  354240000  2016-11-18T14:30:00Z   \n1            412679190                  354240000  2016-12-11T14:50:00Z   \n2            440863000                  354240000  2017-06-13T12:50:00Z   \n3            416563000                  354240000  2016-11-15T11:30:00Z   \n4            441309000                  354240000  2017-05-19T00:40:00Z   \n\n               end_time  mean_latitude  mean_longitude  duration_hr  \\\n0  2016-11-19T01:50:00Z     -17.039085      -79.063725    11.333333   \n1  2016-12-11T19:50:00Z     -20.269608      -79.244953     5.000000   \n2  2017-06-15T01:20:00Z     -62.640767      -60.690240    36.500000   \n3  2016-11-16T04:00:00Z     -17.046586      -79.061923    16.500000   \n4  2017-05-19T20:50:00Z     -46.627878      -60.554922    20.166667   \n\n   median_distance_km  median_speed_knots  \n0            0.038188            0.585402  \n1            0.020033            0.575663  \n2            0.054992            0.019775  \n3            0.036427            1.023917  \n4            0.034053            0.544031  ",
      "text/html": "<div>\n<style scoped>\n    .dataframe tbody tr th:only-of-type {\n        vertical-align: middle;\n    }\n\n    .dataframe tbody tr th {\n        vertical-align: top;\n    }\n\n    .dataframe thead th {\n        text-align: right;\n    }\n</style>\n<table border=\"1\" class=\"dataframe\">\n  <thead>\n    <tr style=\"text-align: right;\">\n      <th></th>\n      <th>fishing_vessel_mmsi</th>\n      <th>transshipment_vessel_mmsi</th>\n      <th>start_time</th>\n      <th>end_time</th>\n      <th>mean_latitude</th>\n      <th>mean_longitude</th>\n      <th>duration_hr</th>\n      <th>median_distance_km</th>\n      <th>median_speed_knots</th>\n    </tr>\n  </thead>\n  <tbody>\n    <tr>\n      <th>0</th>\n      <td>416565000</td>\n      <td>354240000</td>\n      <td>2016-11-18T14:30:00Z</td>\n      <td>2016-11-19T01:50:00Z</td>\n      <td>-17.039085</td>\n      <td>-79.063725</td>\n      <td>11.333333</td>\n      <td>0.038188</td>\n      <td>0.585402</td>\n    </tr>\n    <tr>\n      <th>1</th>\n      <td>412679190</td>\n      <td>354240000</td>\n      <td>2016-12-11T14:50:00Z</td>\n      <td>2016-12-11T19:50:00Z</td>\n      <td>-20.269608</td>\n      <td>-79.244953</td>\n      <td>5.000000</td>\n      <td>0.020033</td>\n      <td>0.575663</td>\n    </tr>\n    <tr>\n      <th>2</th>\n      <td>440863000</td>\n      <td>354240000</td>\n      <td>2017-06-13T12:50:00Z</td>\n      <td>2017-06-15T01:20:00Z</td>\n      <td>-62.640767</td>\n      <td>-60.690240</td>\n      <td>36.500000</td>\n      <td>0.054992</td>\n      <td>0.019775</td>\n    </tr>\n    <tr>\n      <th>3</th>\n      <td>416563000</td>\n      <td>354240000</td>\n      <td>2016-11-15T11:30:00Z</td>\n      <td>2016-11-16T04:00:00Z</td>\n      <td>-17.046586</td>\n      <td>-79.061923</td>\n      <td>16.500000</td>\n      <td>0.036427</td>\n      <td>1.023917</td>\n    </tr>\n    <tr>\n      <th>4</th>\n      <td>441309000</td>\n      <td>354240000</td>\n      <td>2017-05-19T00:40:00Z</td>\n      <td>2017-05-19T20:50:00Z</td>\n      <td>-46.627878</td>\n      <td>-60.554922</td>\n      <td>20.166667</td>\n      <td>0.034053</td>\n      <td>0.544031</td>\n    </tr>\n  </tbody>\n</table>\n</div>"
     },
     "execution_count": 109,
     "metadata": {},
     "output_type": "execute_result"
    }
   ],
   "source": [
    "df_enc.head()  # look at first five instance"
   ],
   "metadata": {
    "collapsed": false,
    "pycharm": {
     "name": "#%%\n"
    }
   }
  },
  {
   "cell_type": "markdown",
   "source": [
    "First, we look at general information about the encounter dataset."
   ],
   "metadata": {
    "collapsed": false,
    "pycharm": {
     "name": "#%% md\n"
    }
   }
  },
  {
   "cell_type": "code",
   "execution_count": 110,
   "outputs": [
    {
     "name": "stdout",
     "output_type": "stream",
     "text": [
      "<class 'pandas.core.frame.DataFrame'>\n",
      "RangeIndex: 11681 entries, 0 to 11680\n",
      "Data columns (total 9 columns):\n",
      " #   Column                     Non-Null Count  Dtype  \n",
      "---  ------                     --------------  -----  \n",
      " 0   fishing_vessel_mmsi        11681 non-null  int64  \n",
      " 1   transshipment_vessel_mmsi  11681 non-null  int64  \n",
      " 2   start_time                 11681 non-null  object \n",
      " 3   end_time                   11681 non-null  object \n",
      " 4   mean_latitude              11681 non-null  float64\n",
      " 5   mean_longitude             11681 non-null  float64\n",
      " 6   duration_hr                11681 non-null  float64\n",
      " 7   median_distance_km         11681 non-null  float64\n",
      " 8   median_speed_knots         11681 non-null  float64\n",
      "dtypes: float64(5), int64(2), object(2)\n",
      "memory usage: 821.4+ KB\n",
      "Shape:  (11681, 9)\n"
     ]
    }
   ],
   "source": [
    "df_enc.info()\n",
    "print('Shape: ', df_enc.shape)  # get shape of dataframe"
   ],
   "metadata": {
    "collapsed": false,
    "pycharm": {
     "name": "#%%\n"
    }
   }
  },
  {
   "cell_type": "markdown",
   "source": [
    "Now, we want to get some statistical information about the data distribution."
   ],
   "metadata": {
    "collapsed": false,
    "pycharm": {
     "name": "#%% md\n"
    }
   }
  },
  {
   "cell_type": "code",
   "execution_count": 111,
   "outputs": [
    {
     "name": "stdout",
     "output_type": "stream",
     "text": [
      "       fishing_vessel_mmsi  transshipment_vessel_mmsi  mean_latitude  \\\n",
      "count         1.168100e+04               1.168100e+04   11681.000000   \n",
      "mean          3.492475e+08               3.643690e+08      28.148186   \n",
      "std           8.560155e+07               1.150885e+08      39.851397   \n",
      "min           2.000080e+06               2.106310e+08     -64.419519   \n",
      "25%           2.738125e+08               2.733859e+08      -8.003784   \n",
      "50%           3.382500e+08               3.415370e+08      50.804512   \n",
      "75%           4.160038e+08               4.124402e+08      58.732077   \n",
      "max           9.990001e+08               7.600002e+08      78.223238   \n",
      "\n",
      "       mean_longitude   duration_hr  median_distance_km  median_speed_knots  \n",
      "count    11681.000000  11681.000000        11681.000000        11681.000000  \n",
      "mean        33.759551     13.256271            0.059049            0.603595  \n",
      "std        127.808306     27.669774            0.068599            0.566881  \n",
      "min       -179.988139      2.000000            0.000000            0.000000  \n",
      "25%        -79.748356      3.500000            0.029139            0.027816  \n",
      "50%         43.090409      7.333333            0.040268            0.546794  \n",
      "75%        155.393447     16.500000            0.055819            1.044146  \n",
      "max        179.993872   1727.166667            0.498008            1.999870  \n"
     ]
    }
   ],
   "source": [
    "print(df_enc.describe())"
   ],
   "metadata": {
    "collapsed": false,
    "pycharm": {
     "name": "#%%\n"
    }
   }
  },
  {
   "cell_type": "markdown",
   "source": [
    "Just by looking at the standard metrics, it comes to notice that in the attributes duration_hr and median_distance_km the max value seems to be very high compared to 75%-quantile.\n",
    "Also, the fact that the min value in median_distance_km is 0 is worth investigating"
   ],
   "metadata": {
    "collapsed": false,
    "pycharm": {
     "name": "#%% md\n"
    }
   }
  },
  {
   "cell_type": "markdown",
   "source": [
    "## duration_hr\n",
    "We draw a boxplot to get a better understanding of the distribution of the duration_hr column"
   ],
   "metadata": {
    "collapsed": false,
    "pycharm": {
     "name": "#%% md\n"
    }
   }
  },
  {
   "cell_type": "code",
   "execution_count": 112,
   "outputs": [
    {
     "data": {
      "text/plain": "<AxesSubplot:xlabel='duration_hr'>"
     },
     "execution_count": 112,
     "metadata": {},
     "output_type": "execute_result"
    },
    {
     "data": {
      "text/plain": "<Figure size 432x288 with 1 Axes>",
      "image/png": "[encoded data removed]"
     },
     "metadata": {},
     "output_type": "display_data"
    }
   ],
   "source": [
    "sns.set_theme(style=\"darkgrid\")\n",
    "sns.boxplot(x=df_enc['duration_hr'])"
   ],
   "metadata": {
    "collapsed": false,
    "pycharm": {
     "name": "#%%\n"
    }
   }
  },
  {
   "cell_type": "code",
   "execution_count": 113,
   "outputs": [
    {
     "data": {
      "text/plain": "<seaborn.axisgrid.FacetGrid at 0x14c8424cfa0>"
     },
     "execution_count": 113,
     "metadata": {},
     "output_type": "execute_result"
    },
    {
     "data": {
      "text/plain": "<Figure size 360x360 with 1 Axes>",
      "image/png": "[encoded data removed]"
     },
     "metadata": {},
     "output_type": "display_data"
    }
   ],
   "source": [
    "sns.displot(x=df_enc['duration_hr'])"
   ],
   "metadata": {
    "collapsed": false,
    "pycharm": {
     "name": "#%%\n"
    }
   }
  },
  {
   "cell_type": "markdown",
   "source": [
    "The number of encounterings drop of rapidly with increasing duration. Let's look at how many encounterings lasted longer than 65h.\n",
    "Note that this value (65h) was chosen to ensure that no more than 1% of encounterings have higher values. The reason for this is that we want to detect outliers. We are lacking the domain knowledge to decide whether these are still plausible transshipments or not."
   ],
   "metadata": {
    "collapsed": false,
    "pycharm": {
     "name": "#%% md\n"
    }
   }
  },
  {
   "cell_type": "code",
   "execution_count": 114,
   "outputs": [
    {
     "name": "stdout",
     "output_type": "stream",
     "text": [
      "113 encounterings lasted longer than 65 hours\n",
      "which corresponds to 0.967% of the available data\n"
     ]
    }
   ],
   "source": [
    "print('{} encounterings lasted longer than 65 hours'.format(df_enc.loc[df_enc['duration_hr'] > 65].shape[0]))\n",
    "print('which corresponds to {:.3f}% of the available data'.format(100 * df_enc.loc[df_enc['duration_hr'] > 65].shape[0]/df_enc.shape[0]))"
   ],
   "metadata": {
    "collapsed": false,
    "pycharm": {
     "name": "#%%\n"
    }
   }
  },
  {
   "cell_type": "markdown",
   "source": [
    "We are going to remove those entries from the dataset"
   ],
   "metadata": {
    "collapsed": false,
    "pycharm": {
     "name": "#%% md\n"
    }
   }
  },
  {
   "cell_type": "code",
   "execution_count": 115,
   "outputs": [
    {
     "name": "stdout",
     "output_type": "stream",
     "text": [
      "11681 encounterings left in the dataset\n"
     ]
    }
   ],
   "source": [
    "#df_enc = df_enc.loc[df_enc['duration_hr'] <= 65]\n",
    "#print('{} encounterings left in the dataset'.format(df_enc.shape[0]))"
   ],
   "metadata": {
    "collapsed": false,
    "pycharm": {
     "name": "#%%\n"
    }
   }
  },
  {
   "cell_type": "code",
   "execution_count": 116,
   "outputs": [
    {
     "data": {
      "text/plain": "<AxesSubplot:xlabel='duration_hr'>"
     },
     "execution_count": 116,
     "metadata": {},
     "output_type": "execute_result"
    },
    {
     "data": {
      "text/plain": "<Figure size 432x288 with 1 Axes>",
      "image/png": "[encoded data removed]"
     },
     "metadata": {},
     "output_type": "display_data"
    }
   ],
   "source": [
    "#sns.set_theme(style=\"darkgrid\")\n",
    "#sns.boxplot(x=df_enc['duration_hr'])"
   ],
   "metadata": {
    "collapsed": false,
    "pycharm": {
     "name": "#%%\n"
    }
   }
  },
  {
   "cell_type": "markdown",
   "source": [],
   "metadata": {
    "collapsed": false,
    "pycharm": {
     "name": "#%% md\n"
    }
   }
  },
  {
   "cell_type": "code",
   "execution_count": 117,
   "outputs": [
    {
     "data": {
      "text/plain": "<seaborn.axisgrid.FacetGrid at 0x14c81dec670>"
     },
     "execution_count": 117,
     "metadata": {},
     "output_type": "execute_result"
    },
    {
     "data": {
      "text/plain": "<Figure size 360x360 with 1 Axes>",
      "image/png": "[encoded data removed]"
     },
     "metadata": {},
     "output_type": "display_data"
    }
   ],
   "source": [
    "#sns.displot(x=df_enc['duration_hr'])"
   ],
   "metadata": {
    "collapsed": false,
    "pycharm": {
     "name": "#%%\n"
    }
   }
  },
  {
   "cell_type": "markdown",
   "source": [
    "## median_distance\n",
    "Now we are going to take a closer look at the distribution of median distance of the encountering vessels"
   ],
   "metadata": {
    "collapsed": false,
    "pycharm": {
     "name": "#%% md\n"
    }
   }
  },
  {
   "cell_type": "code",
   "execution_count": 118,
   "outputs": [
    {
     "data": {
      "text/plain": "<seaborn.axisgrid.FacetGrid at 0x14c84be17c0>"
     },
     "execution_count": 118,
     "metadata": {},
     "output_type": "execute_result"
    },
    {
     "data": {
      "text/plain": "<Figure size 360x360 with 1 Axes>",
      "image/png": "[encoded data removed]"
     },
     "metadata": {},
     "output_type": "display_data"
    }
   ],
   "source": [
    "sns.displot(x=df_enc['median_distance_km'])"
   ],
   "metadata": {
    "collapsed": false,
    "pycharm": {
     "name": "#%%\n"
    }
   }
  },
  {
   "cell_type": "code",
   "execution_count": 125,
   "outputs": [
    {
     "name": "stdout",
     "output_type": "stream",
     "text": [
      "617 encounterings happened under a median distance of 0 km\n",
      "which corresponds to 5.282% of the available data\n"
     ]
    }
   ],
   "source": [
    "print('{} encounterings happened under a median distance of 0 km'.format(df_enc.loc[df_enc['median_distance_km'] > 0.2].shape[0]))\n",
    "print('which corresponds to {:.3f}% of the available data'.format(100 * df_enc.loc[df_enc['median_distance_km'] > 0.2].shape[0]/df_enc.shape[0]))"
   ],
   "metadata": {
    "collapsed": false,
    "pycharm": {
     "name": "#%%\n"
    }
   }
  },
  {
   "cell_type": "markdown",
   "source": [
    "As of now, we are lacking the domain knowledge to decide whether those instances are erroneous or valid."
   ],
   "metadata": {
    "collapsed": false,
    "pycharm": {
     "name": "#%% md\n"
    }
   }
  },
  {
   "cell_type": "markdown",
   "source": [
    "# loitering-events dataframe metadata"
   ],
   "metadata": {
    "collapsed": false,
    "pycharm": {
     "name": "#%% md\n"
    }
   }
  },
  {
   "cell_type": "code",
   "execution_count": 120,
   "outputs": [
    {
     "name": "stdout",
     "output_type": "stream",
     "text": [
      "       transshipment_mmsi  starting_latitude  starting_longitude  \\\n",
      "count        4.656900e+04       46569.000000        46569.000000   \n",
      "mean         3.988001e+08          13.332827           37.299625   \n",
      "std          1.222684e+08          35.386898          109.768020   \n",
      "min          2.000011e+08         -73.196533         -179.998672   \n",
      "25%          2.738294e+08         -12.631552          -60.474194   \n",
      "50%          3.578050e+08           8.495400           32.832062   \n",
      "75%          5.145650e+08          45.397766          150.625595   \n",
      "max          8.006687e+08          80.176160          179.995407   \n",
      "\n",
      "       ending_latitude  ending_longitude  median_speed_knots  \\\n",
      "count     46569.000000      46569.000000        46569.000000   \n",
      "mean         13.380619         37.359351            1.007226   \n",
      "std          35.322708        109.733637            0.415658   \n",
      "min         -87.215640       -179.985580            0.000000   \n",
      "25%         -12.475266        -60.391735            0.748288   \n",
      "50%           8.483275         33.012684            1.017809   \n",
      "75%          45.393921        150.639787            1.298791   \n",
      "max          80.415280        179.998611            1.996064   \n",
      "\n",
      "       total_event_duration  \n",
      "count          46569.000000  \n",
      "mean              32.725295  \n",
      "std               45.276891  \n",
      "min                8.000000  \n",
      "25%               12.888194  \n",
      "50%               19.775278  \n",
      "75%               36.230417  \n",
      "max             2437.876806  \n",
      "<class 'pandas.core.frame.DataFrame'>\n",
      "RangeIndex: 46569 entries, 0 to 46568\n",
      "Data columns (total 9 columns):\n",
      " #   Column                Non-Null Count  Dtype  \n",
      "---  ------                --------------  -----  \n",
      " 0   transshipment_mmsi    46569 non-null  int64  \n",
      " 1   starting_latitude     46569 non-null  float64\n",
      " 2   starting_longitude    46569 non-null  float64\n",
      " 3   ending_latitude       46569 non-null  float64\n",
      " 4   ending_longitude      46569 non-null  float64\n",
      " 5   starting_timestamp    46569 non-null  object \n",
      " 6   ending_timestamp      46569 non-null  object \n",
      " 7   median_speed_knots    46569 non-null  float64\n",
      " 8   total_event_duration  46569 non-null  float64\n",
      "dtypes: float64(6), int64(1), object(2)\n",
      "memory usage: 3.2+ MB\n",
      "None\n",
      "All columns:  Index(['transshipment_mmsi', 'starting_latitude', 'starting_longitude',\n",
      "       'ending_latitude', 'ending_longitude', 'starting_timestamp',\n",
      "       'ending_timestamp', 'median_speed_knots', 'total_event_duration'],\n",
      "      dtype='object')\n",
      "Shape:  (46569, 9)\n"
     ]
    }
   ],
   "source": [
    "print(df_loit.describe())  # get some insight in the data distribution\n",
    "print(df_loit.info())  # get some insight about data quality\n",
    "print('All columns: ', df_loit.columns)  # print column names\n",
    "print('Shape: ', df_loit.shape)  # get shape of dataframe"
   ],
   "metadata": {
    "collapsed": false,
    "pycharm": {
     "name": "#%%\n"
    }
   }
  },
  {
   "cell_type": "markdown",
   "source": [
    "# transshipment-events dataframe metadata"
   ],
   "metadata": {
    "collapsed": false,
    "pycharm": {
     "name": "#%% md\n"
    }
   }
  },
  {
   "cell_type": "code",
   "execution_count": 121,
   "outputs": [
    {
     "name": "stdout",
     "output_type": "stream",
     "text": [
      "               mmsi           imo\n",
      "count  1.070000e+03  1.074000e+03\n",
      "mean   3.956385e+08  8.618462e+06\n",
      "std    1.330097e+08  6.169946e+05\n",
      "min    5.004000e+03  5.007510e+06\n",
      "25%    2.738432e+08  8.225723e+06\n",
      "50%    3.569255e+08  8.807662e+06\n",
      "75%    5.141800e+08  9.047266e+06\n",
      "max    9.927244e+08  9.821134e+06\n",
      "<class 'pandas.core.frame.DataFrame'>\n",
      "RangeIndex: 1124 entries, 0 to 1123\n",
      "Data columns (total 7 columns):\n",
      " #   Column           Non-Null Count  Dtype  \n",
      "---  ------           --------------  -----  \n",
      " 0   mmsi             1070 non-null   float64\n",
      " 1   shipname         1123 non-null   object \n",
      " 2   callsign         1106 non-null   object \n",
      " 3   flag             1124 non-null   object \n",
      " 4   imo              1074 non-null   float64\n",
      " 5   first_timestamp  1070 non-null   object \n",
      " 6   last_timestamp   1070 non-null   object \n",
      "dtypes: float64(2), object(5)\n",
      "memory usage: 61.6+ KB\n",
      "None\n",
      "All columns:  Index(['mmsi', 'shipname', 'callsign', 'flag', 'imo', 'first_timestamp',\n",
      "       'last_timestamp'],\n",
      "      dtype='object')\n",
      "Shape:  (1124, 7)\n"
     ]
    }
   ],
   "source": [
    "print(df_tran.describe())  # get some insight in the data distribution\n",
    "print(df_tran.info())  # get some insight about data quality\n",
    "print('All columns: ', df_tran.columns)  # print column names\n",
    "print('Shape: ', df_tran.shape)  # get shape of dataframe"
   ],
   "metadata": {
    "collapsed": false,
    "pycharm": {
     "name": "#%%\n"
    }
   }
  },
  {
   "cell_type": "markdown",
   "source": [],
   "metadata": {
    "collapsed": false,
    "pycharm": {
     "name": "#%% md\n"
    }
   }
  }
 ],
 "metadata": {
  "kernelspec": {
   "display_name": "Python 3",
   "language": "python",
   "name": "python3"
  },
  "language_info": {
   "codemirror_mode": {
    "name": "ipython",
    "version": 2
   },
   "file_extension": ".py",
   "mimetype": "text/x-python",
   "name": "python",
   "nbconvert_exporter": "python",
   "pygments_lexer": "ipython2",
   "version": "2.7.6"
  }
 },
 "nbformat": 4,
 "nbformat_minor": 0
}
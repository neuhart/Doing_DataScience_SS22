{
 "cells": [
  {
   "cell_type": "code",
   "execution_count": 70,
   "outputs": [],
   "source": [
    "import pandas as pd\n",
    "import seaborn as sns\n",
    "import matplotlib.pyplot as plt"
   ],
   "metadata": {
    "collapsed": false,
    "pycharm": {
     "name": "#%%\n"
    }
   }
  },
  {
   "cell_type": "code",
   "execution_count": 71,

   "outputs": [],
   "source": [
    "filepath_enc = 'data/encounter-events.csv'\n",
    "filepath_loit = 'data/loitering-events.csv'\n",
    "filepath_ves = 'data/transshipment-vessels.csv'"
   ],
   "metadata": {
    "collapsed": false,
    "pycharm": {
     "name": "#%%\n"
    }
   }
  },
  {
   "cell_type": "code",
   "execution_count": 72,
   "outputs": [],
   "source": [
    "df_enc = pd.read_csv(filepath_enc)\n",
    "df_loit = pd.read_csv(filepath_loit)\n",
    "df_ves = pd.read_csv(filepath_ves)"
   ],
   "metadata": {
    "collapsed": false,
    "pycharm": {
     "name": "#%%\n"
    }
   }
  },
  {
   "cell_type": "markdown",
   "source": [
    "# encounter-events"
   ],
   "metadata": {
    "collapsed": false,
    "pycharm": {
     "name": "#%% md\n"
    }
   }
  },
  {
   "cell_type": "code",
   "execution_count": 73,

   "outputs": [
    {
     "data": {
      "text/plain": "   fishing_vessel_mmsi  transshipment_vessel_mmsi            start_time  \\\n0            416565000                  354240000  2016-11-18T14:30:00Z   \n1            412679190                  354240000  2016-12-11T14:50:00Z   \n2            440863000                  354240000  2017-06-13T12:50:00Z   \n3            416563000                  354240000  2016-11-15T11:30:00Z   \n4            441309000                  354240000  2017-05-19T00:40:00Z   \n\n               end_time  mean_latitude  mean_longitude  duration_hr  \\\n0  2016-11-19T01:50:00Z     -17.039085      -79.063725    11.333333   \n1  2016-12-11T19:50:00Z     -20.269608      -79.244953     5.000000   \n2  2017-06-15T01:20:00Z     -62.640767      -60.690240    36.500000   \n3  2016-11-16T04:00:00Z     -17.046586      -79.061923    16.500000   \n4  2017-05-19T20:50:00Z     -46.627878      -60.554922    20.166667   \n\n   median_distance_km  median_speed_knots  \n0            0.038188            0.585402  \n1            0.020033            0.575663  \n2            0.054992            0.019775  \n3            0.036427            1.023917  \n4            0.034053            0.544031  ",
      "text/html": "<div>\n<style scoped>\n    .dataframe tbody tr th:only-of-type {\n        vertical-align: middle;\n    }\n\n    .dataframe tbody tr th {\n        vertical-align: top;\n    }\n\n    .dataframe thead th {\n        text-align: right;\n    }\n</style>\n<table border=\"1\" class=\"dataframe\">\n  <thead>\n    <tr style=\"text-align: right;\">\n      <th></th>\n      <th>fishing_vessel_mmsi</th>\n      <th>transshipment_vessel_mmsi</th>\n      <th>start_time</th>\n      <th>end_time</th>\n      <th>mean_latitude</th>\n      <th>mean_longitude</th>\n      <th>duration_hr</th>\n      <th>median_distance_km</th>\n      <th>median_speed_knots</th>\n    </tr>\n  </thead>\n  <tbody>\n    <tr>\n      <th>0</th>\n      <td>416565000</td>\n      <td>354240000</td>\n      <td>2016-11-18T14:30:00Z</td>\n      <td>2016-11-19T01:50:00Z</td>\n      <td>-17.039085</td>\n      <td>-79.063725</td>\n      <td>11.333333</td>\n      <td>0.038188</td>\n      <td>0.585402</td>\n    </tr>\n    <tr>\n      <th>1</th>\n      <td>412679190</td>\n      <td>354240000</td>\n      <td>2016-12-11T14:50:00Z</td>\n      <td>2016-12-11T19:50:00Z</td>\n      <td>-20.269608</td>\n      <td>-79.244953</td>\n      <td>5.000000</td>\n      <td>0.020033</td>\n      <td>0.575663</td>\n    </tr>\n    <tr>\n      <th>2</th>\n      <td>440863000</td>\n      <td>354240000</td>\n      <td>2017-06-13T12:50:00Z</td>\n      <td>2017-06-15T01:20:00Z</td>\n      <td>-62.640767</td>\n      <td>-60.690240</td>\n      <td>36.500000</td>\n      <td>0.054992</td>\n      <td>0.019775</td>\n    </tr>\n    <tr>\n      <th>3</th>\n      <td>416563000</td>\n      <td>354240000</td>\n      <td>2016-11-15T11:30:00Z</td>\n      <td>2016-11-16T04:00:00Z</td>\n      <td>-17.046586</td>\n      <td>-79.061923</td>\n      <td>16.500000</td>\n      <td>0.036427</td>\n      <td>1.023917</td>\n    </tr>\n    <tr>\n      <th>4</th>\n      <td>441309000</td>\n      <td>354240000</td>\n      <td>2017-05-19T00:40:00Z</td>\n      <td>2017-05-19T20:50:00Z</td>\n      <td>-46.627878</td>\n      <td>-60.554922</td>\n      <td>20.166667</td>\n      <td>0.034053</td>\n      <td>0.544031</td>\n    </tr>\n  </tbody>\n</table>\n</div>"
     },
     "execution_count": 73,

     "metadata": {},
     "output_type": "execute_result"
    }
   ],
   "source": [
    "df_enc.head()  # look at first five instance"
   ],
   "metadata": {
    "collapsed": false,
    "pycharm": {
     "name": "#%%\n"
    }
   }
  },
  {
   "cell_type": "markdown",
   "source": [
    "First, we look at general information about the encounter dataset."
   ],
   "metadata": {
    "collapsed": false,
    "pycharm": {
     "name": "#%% md\n"
    }
   }
  },
  {
   "cell_type": "code",
   "execution_count": 74,
   "outputs": [
    {
     "name": "stdout",
     "output_type": "stream",
     "text": [
      "<class 'pandas.core.frame.DataFrame'>\n",
      "RangeIndex: 11681 entries, 0 to 11680\n",
      "Data columns (total 9 columns):\n",
      " #   Column                     Non-Null Count  Dtype  \n",
      "---  ------                     --------------  -----  \n",
      " 0   fishing_vessel_mmsi        11681 non-null  int64  \n",
      " 1   transshipment_vessel_mmsi  11681 non-null  int64  \n",
      " 2   start_time                 11681 non-null  object \n",
      " 3   end_time                   11681 non-null  object \n",
      " 4   mean_latitude              11681 non-null  float64\n",
      " 5   mean_longitude             11681 non-null  float64\n",
      " 6   duration_hr                11681 non-null  float64\n",
      " 7   median_distance_km         11681 non-null  float64\n",
      " 8   median_speed_knots         11681 non-null  float64\n",
      "dtypes: float64(5), int64(2), object(2)\n",
      "memory usage: 821.4+ KB\n",
      "Shape:  (11681, 9)\n"
     ]
    }
   ],
   "source": [
    "df_enc.info()\n",
    "print('Shape: ', df_enc.shape)  # get shape of dataframe"
   ],
   "metadata": {
    "collapsed": false,
    "pycharm": {
     "name": "#%%\n"
    }
   }
  },
  {
   "cell_type": "markdown",
   "source": [
    "## Null values and wrong formats"
   ],
   "metadata": {
    "collapsed": false,
    "pycharm": {
     "name": "#%% md\n"
    }
   }
  },
  {
   "cell_type": "markdown",
   "source": [
    "In the next step we check for the length of the mmsi value. First we have to convert values to int so that we don’t have to deal with floats and afterwards to string such that we can check its length."
   ],
   "metadata": {
    "collapsed": false,
    "pycharm": {
     "name": "#%% md\n"
    }
   }
  },
  {
   "cell_type": "code",
   "execution_count": 75,
   "outputs": [
    {
     "data": {
      "text/plain": "       fishing_vessel_mmsi  transshipment_vessel_mmsi            start_time  \\\n1680               2001002                  529844000  2016-09-04T22:50:00Z   \n1681               2001002                  529844000  2016-07-23T11:00:00Z   \n1684               2000080                  529844000  2016-08-05T20:20:00Z   \n2036               2000080                  636017709  2017-05-08T18:20:00Z   \n2992              81561325                  441032000  2017-10-18T22:30:00Z   \n2993              81561325                  441032000  2017-10-18T22:30:00Z   \n5332               2000080                  636018031  2017-07-05T00:30:00Z   \n5522              43676060                  366299000  2015-08-21T07:40:00Z   \n5795              36702190                  366971260  2015-07-09T22:10:00Z   \n10027             76000203                  760000210  2017-06-02T20:40:00Z   \n10028             76000203                  760000210  2017-06-13T04:30:00Z   \n10029             76000203                  760000210  2017-05-18T02:20:00Z   \n10030             76000203                  760000210  2017-06-27T05:40:00Z   \n\n                   end_time  mean_latitude  mean_longitude  duration_hr  \\\n1680   2016-09-05T07:40:00Z     -46.718672      -60.682253     8.833333   \n1681   2016-07-23T18:10:00Z     -46.280606      -60.603301     7.166667   \n1684   2016-08-06T03:20:00Z     -46.569782      -60.564401     7.000000   \n2036   2017-05-09T08:00:00Z     -46.226804      -60.432825    13.666667   \n2992   2017-10-19T17:00:00Z      10.123826     -160.190040    18.500000   \n2993   2017-10-19T17:00:00Z      10.123826     -160.190040    18.500000   \n5332   2017-07-05T17:00:00Z     -46.678699      -60.728187    16.500000   \n5522   2015-08-21T14:40:00Z      60.668679     -147.531834     7.000000   \n5795   2015-07-10T12:40:00Z      58.735782     -157.163742    14.500000   \n10027  2017-06-03T02:10:00Z     -13.467227      -76.203489     5.500000   \n10028  2017-06-13T06:30:00Z     -13.467283      -76.208275     2.000000   \n10029  2017-05-18T05:30:00Z     -13.450772      -76.202677     3.166667   \n10030  2017-06-27T07:40:00Z     -13.464601      -76.205026     2.000000   \n\n       median_distance_km  median_speed_knots  \n1680             0.068711            0.807492  \n1681             0.070593            0.018191  \n1684             0.046944            1.120785  \n2036             0.041068            1.512647  \n2992             0.043220            1.080370  \n2993             0.043220            1.080370  \n5332             0.050615            0.855092  \n5522             0.054439            0.033478  \n5795             0.118578            0.000000  \n10027            0.141302            0.018940  \n10028            0.261914            0.006044  \n10029            0.120132            0.029115  \n10030            0.243262            0.024185  ",
      "text/html": "<div>\n<style scoped>\n    .dataframe tbody tr th:only-of-type {\n        vertical-align: middle;\n    }\n\n    .dataframe tbody tr th {\n        vertical-align: top;\n    }\n\n    .dataframe thead th {\n        text-align: right;\n    }\n</style>\n<table border=\"1\" class=\"dataframe\">\n  <thead>\n    <tr style=\"text-align: right;\">\n      <th></th>\n      <th>fishing_vessel_mmsi</th>\n      <th>transshipment_vessel_mmsi</th>\n      <th>start_time</th>\n      <th>end_time</th>\n      <th>mean_latitude</th>\n      <th>mean_longitude</th>\n      <th>duration_hr</th>\n      <th>median_distance_km</th>\n      <th>median_speed_knots</th>\n    </tr>\n  </thead>\n  <tbody>\n    <tr>\n      <th>1680</th>\n      <td>2001002</td>\n      <td>529844000</td>\n      <td>2016-09-04T22:50:00Z</td>\n      <td>2016-09-05T07:40:00Z</td>\n      <td>-46.718672</td>\n      <td>-60.682253</td>\n      <td>8.833333</td>\n      <td>0.068711</td>\n      <td>0.807492</td>\n    </tr>\n    <tr>\n      <th>1681</th>\n      <td>2001002</td>\n      <td>529844000</td>\n      <td>2016-07-23T11:00:00Z</td>\n      <td>2016-07-23T18:10:00Z</td>\n      <td>-46.280606</td>\n      <td>-60.603301</td>\n      <td>7.166667</td>\n      <td>0.070593</td>\n      <td>0.018191</td>\n    </tr>\n    <tr>\n      <th>1684</th>\n      <td>2000080</td>\n      <td>529844000</td>\n      <td>2016-08-05T20:20:00Z</td>\n      <td>2016-08-06T03:20:00Z</td>\n      <td>-46.569782</td>\n      <td>-60.564401</td>\n      <td>7.000000</td>\n      <td>0.046944</td>\n      <td>1.120785</td>\n    </tr>\n    <tr>\n      <th>2036</th>\n      <td>2000080</td>\n      <td>636017709</td>\n      <td>2017-05-08T18:20:00Z</td>\n      <td>2017-05-09T08:00:00Z</td>\n      <td>-46.226804</td>\n      <td>-60.432825</td>\n      <td>13.666667</td>\n      <td>0.041068</td>\n      <td>1.512647</td>\n    </tr>\n    <tr>\n      <th>2992</th>\n      <td>81561325</td>\n      <td>441032000</td>\n      <td>2017-10-18T22:30:00Z</td>\n      <td>2017-10-19T17:00:00Z</td>\n      <td>10.123826</td>\n      <td>-160.190040</td>\n      <td>18.500000</td>\n      <td>0.043220</td>\n      <td>1.080370</td>\n    </tr>\n    <tr>\n      <th>2993</th>\n      <td>81561325</td>\n      <td>441032000</td>\n      <td>2017-10-18T22:30:00Z</td>\n      <td>2017-10-19T17:00:00Z</td>\n      <td>10.123826</td>\n      <td>-160.190040</td>\n      <td>18.500000</td>\n      <td>0.043220</td>\n      <td>1.080370</td>\n    </tr>\n    <tr>\n      <th>5332</th>\n      <td>2000080</td>\n      <td>636018031</td>\n      <td>2017-07-05T00:30:00Z</td>\n      <td>2017-07-05T17:00:00Z</td>\n      <td>-46.678699</td>\n      <td>-60.728187</td>\n      <td>16.500000</td>\n      <td>0.050615</td>\n      <td>0.855092</td>\n    </tr>\n    <tr>\n      <th>5522</th>\n      <td>43676060</td>\n      <td>366299000</td>\n      <td>2015-08-21T07:40:00Z</td>\n      <td>2015-08-21T14:40:00Z</td>\n      <td>60.668679</td>\n      <td>-147.531834</td>\n      <td>7.000000</td>\n      <td>0.054439</td>\n      <td>0.033478</td>\n    </tr>\n    <tr>\n      <th>5795</th>\n      <td>36702190</td>\n      <td>366971260</td>\n      <td>2015-07-09T22:10:00Z</td>\n      <td>2015-07-10T12:40:00Z</td>\n      <td>58.735782</td>\n      <td>-157.163742</td>\n      <td>14.500000</td>\n      <td>0.118578</td>\n      <td>0.000000</td>\n    </tr>\n    <tr>\n      <th>10027</th>\n      <td>76000203</td>\n      <td>760000210</td>\n      <td>2017-06-02T20:40:00Z</td>\n      <td>2017-06-03T02:10:00Z</td>\n      <td>-13.467227</td>\n      <td>-76.203489</td>\n      <td>5.500000</td>\n      <td>0.141302</td>\n      <td>0.018940</td>\n    </tr>\n    <tr>\n      <th>10028</th>\n      <td>76000203</td>\n      <td>760000210</td>\n      <td>2017-06-13T04:30:00Z</td>\n      <td>2017-06-13T06:30:00Z</td>\n      <td>-13.467283</td>\n      <td>-76.208275</td>\n      <td>2.000000</td>\n      <td>0.261914</td>\n      <td>0.006044</td>\n    </tr>\n    <tr>\n      <th>10029</th>\n      <td>76000203</td>\n      <td>760000210</td>\n      <td>2017-05-18T02:20:00Z</td>\n      <td>2017-05-18T05:30:00Z</td>\n      <td>-13.450772</td>\n      <td>-76.202677</td>\n      <td>3.166667</td>\n      <td>0.120132</td>\n      <td>0.029115</td>\n    </tr>\n    <tr>\n      <th>10030</th>\n      <td>76000203</td>\n      <td>760000210</td>\n      <td>2017-06-27T05:40:00Z</td>\n      <td>2017-06-27T07:40:00Z</td>\n      <td>-13.464601</td>\n      <td>-76.205026</td>\n      <td>2.000000</td>\n      <td>0.243262</td>\n      <td>0.024185</td>\n    </tr>\n  </tbody>\n</table>\n</div>"
     },
     "execution_count": 75,
     "metadata": {},
     "output_type": "execute_result"
    }
   ],
   "source": [
    "df_enc.loc[df_enc['fishing_vessel_mmsi'].fillna(0).astype(str).str.len() < 9] # also finds NaN values"
   ],
   "metadata": {
    "collapsed": false,
    "pycharm": {
     "name": "#%%\n"
    }
   }
  },
  {
   "cell_type": "code",
   "execution_count": 76,
   "outputs": [
    {
     "data": {
      "text/plain": "Empty DataFrame\nColumns: [fishing_vessel_mmsi, transshipment_vessel_mmsi, start_time, end_time, mean_latitude, mean_longitude, duration_hr, median_distance_km, median_speed_knots]\nIndex: []",
      "text/html": "<div>\n<style scoped>\n    .dataframe tbody tr th:only-of-type {\n        vertical-align: middle;\n    }\n\n    .dataframe tbody tr th {\n        vertical-align: top;\n    }\n\n    .dataframe thead th {\n        text-align: right;\n    }\n</style>\n<table border=\"1\" class=\"dataframe\">\n  <thead>\n    <tr style=\"text-align: right;\">\n      <th></th>\n      <th>fishing_vessel_mmsi</th>\n      <th>transshipment_vessel_mmsi</th>\n      <th>start_time</th>\n      <th>end_time</th>\n      <th>mean_latitude</th>\n      <th>mean_longitude</th>\n      <th>duration_hr</th>\n      <th>median_distance_km</th>\n      <th>median_speed_knots</th>\n    </tr>\n  </thead>\n  <tbody>\n  </tbody>\n</table>\n</div>"
     },
     "execution_count": 76,
     "metadata": {},
     "output_type": "execute_result"
    }
   ],
   "source": [
    "df_enc.loc[df_enc['transshipment_vessel_mmsi'].fillna(0).astype(str).str.len() < 9] # also finds NaN values"
   ],
   "metadata": {
    "collapsed": false,
    "pycharm": {
     "name": "#%%\n"
    }
   }
  },
  {
   "cell_type": "markdown",
   "source": [
    "There are no missing values but some fishing_vessel_mmsi values are corrupted"
   ],
   "metadata": {
    "collapsed": false,
    "pycharm": {
     "name": "#%% md\n"
    }
   }
  },
  {
   "cell_type": "markdown",
   "source": [
    "## Outlier Detection"
   ],
   "metadata": {
    "collapsed": false,
    "pycharm": {
     "name": "#%% md\n"
    }
   }
  },
  {
   "cell_type": "markdown",
   "source": [
    "Now, we want to get some statistical information about the data distribution."
   ],
   "metadata": {
    "collapsed": false,
    "pycharm": {
     "name": "#%% md\n"
    }
   }
  },
  {
   "cell_type": "code",
   "execution_count": 77,
   "outputs": [
    {
     "name": "stdout",
     "output_type": "stream",
     "text": [
      "       fishing_vessel_mmsi  transshipment_vessel_mmsi  mean_latitude  \\\n",
      "count         1.168100e+04               1.168100e+04   11681.000000   \n",
      "mean          3.492475e+08               3.643690e+08      28.148186   \n",
      "std           8.560155e+07               1.150885e+08      39.851397   \n",
      "min           2.000080e+06               2.106310e+08     -64.419519   \n",
      "25%           2.738125e+08               2.733859e+08      -8.003784   \n",
      "50%           3.382500e+08               3.415370e+08      50.804512   \n",
      "75%           4.160038e+08               4.124402e+08      58.732077   \n",
      "max           9.990001e+08               7.600002e+08      78.223238   \n",
      "\n",
      "       mean_longitude   duration_hr  median_distance_km  median_speed_knots  \n",
      "count    11681.000000  11681.000000        11681.000000        11681.000000  \n",
      "mean        33.759551     13.256271            0.059049            0.603595  \n",
      "std        127.808306     27.669774            0.068599            0.566881  \n",
      "min       -179.988139      2.000000            0.000000            0.000000  \n",
      "25%        -79.748356      3.500000            0.029139            0.027816  \n",
      "50%         43.090409      7.333333            0.040268            0.546794  \n",
      "75%        155.393447     16.500000            0.055819            1.044146  \n",
      "max        179.993872   1727.166667            0.498008            1.999870  \n"
     ]
    }
   ],
   "source": [
    "print(df_enc.describe())"
   ],
   "metadata": {
    "collapsed": false,
    "pycharm": {
     "name": "#%%\n"
    }
   }
  },
  {
   "cell_type": "markdown",
   "source": [
    "Just by looking at the standard metrics, it comes to notice that in the attributes duration_hr and median_distance_km the max value seems to be very high compared to 75%-quantile.\n",
    "Also, the fact that the min value in median_distance_km is 0 is worth investigating"
   ],
   "metadata": {
    "collapsed": false,
    "pycharm": {
     "name": "#%% md\n"
    }
   }
  },
  {
   "cell_type": "markdown",
   "source": [
    "### duration_hr\n",
    "We draw a boxplot to get a better understanding of the distribution of the duration_hr column"
   ],
   "metadata": {
    "collapsed": false,
    "pycharm": {
     "name": "#%% md\n"
    }
   }
  },
  {
   "cell_type": "code",
   "execution_count": 78,
   "outputs": [
    {
     "data": {
      "text/plain": "<AxesSubplot:xlabel='duration_hr'>"
     },
     "execution_count": 78,
     "metadata": {},
     "output_type": "execute_result"
    },
    {
     "data": {
      "text/plain": "<Figure size 432x288 with 1 Axes>",
      "image/png": "[encoded data removed]"
     },
     "metadata": {},
     "output_type": "display_data"
    }
   ],
   "source": [
    "sns.set_theme(style=\"darkgrid\")\n",
    "sns.boxplot(x=df_enc['duration_hr'])"
   ],
   "metadata": {
    "collapsed": false,
    "pycharm": {
     "name": "#%%\n"
    }
   }
  },
  {
   "cell_type": "markdown",
   "source": [
    "The number of encounters drop off rapidly with increasing duration. Let's look at how many encounters lasted longer than 65h.\n",
    "Note that this value (65h) was chosen to ensure that no more than 1% of encounters have higher values. The reason for this is that we want to detect outliers. We are lacking the domain knowledge to decide whether these are still plausible transshipments or not."
   ],
   "metadata": {
    "collapsed": false,
    "pycharm": {
     "name": "#%% md\n"
    }
   }
  },
  {
   "cell_type": "code",
   "execution_count": 79,
   "outputs": [
    {
     "name": "stdout",
     "output_type": "stream",
     "text": [
      "113 encounters lasted longer than 65 hours\n",
      "which corresponds to 0.967% of the available data\n"
     ]
    }
   ],
   "source": [
    "print('{} encounters lasted longer than 65 hours'.format(df_enc.loc[df_enc['duration_hr'] > 65].shape[0]))\n",
    "print('which corresponds to {:.3f}% of the available data'.format(100 * df_enc.loc[df_enc['duration_hr'] > 65].shape[0]/df_enc.shape[0]))"
   ],
   "metadata": {
    "collapsed": false,
    "pycharm": {
     "name": "#%%\n"
    }
   }
  },
  {
   "cell_type": "markdown",
   "source": [
    "At a later stage those outliers should be removed"
   ],
   "metadata": {
    "collapsed": false,
    "pycharm": {
     "name": "#%% md\n"
    }
   }
  },
  {
   "cell_type": "markdown",
   "source": [
    "### median_distance\n",
    "Now we are going to take a closer look at the distribution of median distance of the encountering vessels"
   ],
   "metadata": {
    "collapsed": false,
    "pycharm": {
     "name": "#%% md\n"
    }
   }
  },
  {
   "cell_type": "code",
   "execution_count": 80,
   "outputs": [
    {
     "data": {
      "text/plain": "<seaborn.axisgrid.FacetGrid at 0x2d27f154910>"
     },
     "execution_count": 80,
     "metadata": {},
     "output_type": "execute_result"
    },
    {
     "data": {
      "text/plain": "<Figure size 360x360 with 1 Axes>",
      "image/png": "[encoded data removed]"
     },
     "metadata": {},
     "output_type": "display_data"
    }
   ],
   "source": [
    "sns.displot(x=df_enc['median_distance_km'])"
   ],
   "metadata": {
    "collapsed": false,
    "pycharm": {
     "name": "#%%\n"
    }
   }
  },
  {
   "cell_type": "code",
   "execution_count": 81,
   "outputs": [
    {
     "name": "stdout",
     "output_type": "stream",
     "text": [
      "617 encounters happened under a median distance of 0 km\n",
      "which corresponds to 5.282% of the available data\n"
     ]
    }
   ],
   "source": [
    "print('{} encounters happened under a median distance of 0 km'.format(df_enc.loc[df_enc['median_distance_km'] > 0.2].shape[0]))\n",
    "print('which corresponds to {:.3f}% of the available data'.format(100 * df_enc.loc[df_enc['median_distance_km'] > 0.2].shape[0]/df_enc.shape[0]))"
   ],
   "metadata": {
    "collapsed": false,
    "pycharm": {
     "name": "#%%\n"
    }
   }
  },
  {
   "cell_type": "markdown",
   "source": [
    "As of now, we are lacking the domain knowledge to decide whether those instances are erroneous or valid."
   ],
   "metadata": {
    "collapsed": false,
    "pycharm": {
     "name": "#%% md\n"
    }
   }
  },
  {
   "cell_type": "markdown",
   "source": [
    "## Duplicates\n",
    "Let's take a look at the duplicates"
   ],
   "metadata": {
    "collapsed": false,
    "pycharm": {
     "name": "#%% md\n"
    }
   }
  },
  {
   "cell_type": "code",
   "execution_count": 82,
   "outputs": [
    {
     "data": {
      "text/plain": "      fishing_vessel_mmsi  transshipment_vessel_mmsi            start_time  \\\n2926            367109910                  356616000  2016-05-05T17:00:00Z   \n2927            367109910                  356616000  2016-04-19T16:50:00Z   \n2928            367109910                  356616000  2016-05-05T17:00:00Z   \n2929            367109910                  356616000  2016-04-19T16:50:00Z   \n2930            367176240                  356616000  2016-04-29T13:20:00Z   \n...                   ...                        ...                   ...   \n8781            441050000                  351747000  2015-03-07T23:20:00Z   \n8782            412694470                  351747000  2014-02-12T12:50:00Z   \n8783            412694470                  351747000  2014-02-12T12:50:00Z   \n8784            412326887                  351747000  2015-03-18T14:50:00Z   \n8785            412326887                  351747000  2015-03-18T14:50:00Z   \n\n                  end_time  mean_latitude  mean_longitude  duration_hr  \\\n2926  2016-05-06T05:50:00Z      58.945379     -160.351627    12.833333   \n2927  2016-04-19T23:20:00Z      58.932539     -160.351094     6.500000   \n2928  2016-05-06T05:50:00Z      58.945379     -160.351627    12.833333   \n2929  2016-04-19T23:20:00Z      58.932539     -160.351094     6.500000   \n2930  2016-04-29T16:30:00Z      58.948640     -160.352834     3.166667   \n...                    ...            ...             ...          ...   \n8781  2015-03-08T02:40:00Z     -46.584928      -60.515765     3.333333   \n8782  2014-02-12T14:50:00Z     -45.363888      -60.356422     2.000000   \n8783  2014-02-12T14:50:00Z     -45.363888      -60.356422     2.000000   \n8784  2015-03-19T04:20:00Z     -45.611226      -60.461174    13.500000   \n8785  2015-03-19T04:20:00Z     -45.611226      -60.461174    13.500000   \n\n      median_distance_km  median_speed_knots  \n2926            0.050434            0.018369  \n2927            0.052085            0.011709  \n2928            0.050434            0.018369  \n2929            0.052085            0.011709  \n2930            0.042844            0.008595  \n...                  ...                 ...  \n8781            0.025681            0.794415  \n8782            0.056315            0.019153  \n8783            0.056315            0.019153  \n8784            0.052594            0.228609  \n8785            0.052594            0.228609  \n\n[196 rows x 9 columns]",
      "text/html": "<div>\n<style scoped>\n    .dataframe tbody tr th:only-of-type {\n        vertical-align: middle;\n    }\n\n    .dataframe tbody tr th {\n        vertical-align: top;\n    }\n\n    .dataframe thead th {\n        text-align: right;\n    }\n</style>\n<table border=\"1\" class=\"dataframe\">\n  <thead>\n    <tr style=\"text-align: right;\">\n      <th></th>\n      <th>fishing_vessel_mmsi</th>\n      <th>transshipment_vessel_mmsi</th>\n      <th>start_time</th>\n      <th>end_time</th>\n      <th>mean_latitude</th>\n      <th>mean_longitude</th>\n      <th>duration_hr</th>\n      <th>median_distance_km</th>\n      <th>median_speed_knots</th>\n    </tr>\n  </thead>\n  <tbody>\n    <tr>\n      <th>2926</th>\n      <td>367109910</td>\n      <td>356616000</td>\n      <td>2016-05-05T17:00:00Z</td>\n      <td>2016-05-06T05:50:00Z</td>\n      <td>58.945379</td>\n      <td>-160.351627</td>\n      <td>12.833333</td>\n      <td>0.050434</td>\n      <td>0.018369</td>\n    </tr>\n    <tr>\n      <th>2927</th>\n      <td>367109910</td>\n      <td>356616000</td>\n      <td>2016-04-19T16:50:00Z</td>\n      <td>2016-04-19T23:20:00Z</td>\n      <td>58.932539</td>\n      <td>-160.351094</td>\n      <td>6.500000</td>\n      <td>0.052085</td>\n      <td>0.011709</td>\n    </tr>\n    <tr>\n      <th>2928</th>\n      <td>367109910</td>\n      <td>356616000</td>\n      <td>2016-05-05T17:00:00Z</td>\n      <td>2016-05-06T05:50:00Z</td>\n      <td>58.945379</td>\n      <td>-160.351627</td>\n      <td>12.833333</td>\n      <td>0.050434</td>\n      <td>0.018369</td>\n    </tr>\n    <tr>\n      <th>2929</th>\n      <td>367109910</td>\n      <td>356616000</td>\n      <td>2016-04-19T16:50:00Z</td>\n      <td>2016-04-19T23:20:00Z</td>\n      <td>58.932539</td>\n      <td>-160.351094</td>\n      <td>6.500000</td>\n      <td>0.052085</td>\n      <td>0.011709</td>\n    </tr>\n    <tr>\n      <th>2930</th>\n      <td>367176240</td>\n      <td>356616000</td>\n      <td>2016-04-29T13:20:00Z</td>\n      <td>2016-04-29T16:30:00Z</td>\n      <td>58.948640</td>\n      <td>-160.352834</td>\n      <td>3.166667</td>\n      <td>0.042844</td>\n      <td>0.008595</td>\n    </tr>\n    <tr>\n      <th>...</th>\n      <td>...</td>\n      <td>...</td>\n      <td>...</td>\n      <td>...</td>\n      <td>...</td>\n      <td>...</td>\n      <td>...</td>\n      <td>...</td>\n      <td>...</td>\n    </tr>\n    <tr>\n      <th>8781</th>\n      <td>441050000</td>\n      <td>351747000</td>\n      <td>2015-03-07T23:20:00Z</td>\n      <td>2015-03-08T02:40:00Z</td>\n      <td>-46.584928</td>\n      <td>-60.515765</td>\n      <td>3.333333</td>\n      <td>0.025681</td>\n      <td>0.794415</td>\n    </tr>\n    <tr>\n      <th>8782</th>\n      <td>412694470</td>\n      <td>351747000</td>\n      <td>2014-02-12T12:50:00Z</td>\n      <td>2014-02-12T14:50:00Z</td>\n      <td>-45.363888</td>\n      <td>-60.356422</td>\n      <td>2.000000</td>\n      <td>0.056315</td>\n      <td>0.019153</td>\n    </tr>\n    <tr>\n      <th>8783</th>\n      <td>412694470</td>\n      <td>351747000</td>\n      <td>2014-02-12T12:50:00Z</td>\n      <td>2014-02-12T14:50:00Z</td>\n      <td>-45.363888</td>\n      <td>-60.356422</td>\n      <td>2.000000</td>\n      <td>0.056315</td>\n      <td>0.019153</td>\n    </tr>\n    <tr>\n      <th>8784</th>\n      <td>412326887</td>\n      <td>351747000</td>\n      <td>2015-03-18T14:50:00Z</td>\n      <td>2015-03-19T04:20:00Z</td>\n      <td>-45.611226</td>\n      <td>-60.461174</td>\n      <td>13.500000</td>\n      <td>0.052594</td>\n      <td>0.228609</td>\n    </tr>\n    <tr>\n      <th>8785</th>\n      <td>412326887</td>\n      <td>351747000</td>\n      <td>2015-03-18T14:50:00Z</td>\n      <td>2015-03-19T04:20:00Z</td>\n      <td>-45.611226</td>\n      <td>-60.461174</td>\n      <td>13.500000</td>\n      <td>0.052594</td>\n      <td>0.228609</td>\n    </tr>\n  </tbody>\n</table>\n<p>196 rows × 9 columns</p>\n</div>"
     },
     "execution_count": 82,
     "metadata": {},
     "output_type": "execute_result"
    }
   ],
   "source": [
    "df_enc.loc[df_enc.duplicated(keep=False)]"
   ],
   "metadata": {
    "collapsed": false,
    "pycharm": {
     "name": "#%%\n"
    }
   }
  },
  {
   "cell_type": "markdown",
   "source": [
    "E.g.: Instance 2926 and 2928 or 2927 and 2929 are clearly duplicates that should be removed from the dataset"
   ],
   "metadata": {
    "collapsed": false,
    "pycharm": {
     "name": "#%% md\n"
    }
   }
  },
  {
   "cell_type": "markdown",
   "source": [
    "# loitering-events"
   ],
   "metadata": {
    "collapsed": false,
    "pycharm": {
     "name": "#%% md\n"
    }
   }
  },
  {
   "cell_type": "code",
   "execution_count": 83,
   "outputs": [
    {
     "name": "stdout",
     "output_type": "stream",
     "text": [
      "<class 'pandas.core.frame.DataFrame'>\n",
      "RangeIndex: 46569 entries, 0 to 46568\n",
      "Data columns (total 9 columns):\n",
      " #   Column                Non-Null Count  Dtype  \n",
      "---  ------                --------------  -----  \n",
      " 0   transshipment_mmsi    46569 non-null  int64  \n",
      " 1   starting_latitude     46569 non-null  float64\n",
      " 2   starting_longitude    46569 non-null  float64\n",
      " 3   ending_latitude       46569 non-null  float64\n",
      " 4   ending_longitude      46569 non-null  float64\n",
      " 5   starting_timestamp    46569 non-null  object \n",
      " 6   ending_timestamp      46569 non-null  object \n",
      " 7   median_speed_knots    46569 non-null  float64\n",
      " 8   total_event_duration  46569 non-null  float64\n",
      "dtypes: float64(6), int64(1), object(2)\n",
      "memory usage: 3.2+ MB\n",
      "Shape:  (46569, 9)\n"
     ]
    }
   ],
   "source": [
    "df_loit.info()\n",
    "print('Shape: ', df_loit.shape)  # get shape of dataframe"
   ],
   "metadata": {
    "collapsed": false,
    "pycharm": {
     "name": "#%%\n"
    }
   }
  },
  {
   "cell_type": "markdown",
   "source": [
    "## Null Values and wrong formats"
   ],
   "metadata": {
    "collapsed": false,
    "pycharm": {
     "name": "#%% md\n"
    }
   }
  },
  {
   "cell_type": "code",
   "execution_count": 84,
   "outputs": [
    {
     "ename": "SyntaxError",
     "evalue": "invalid syntax (Temp/ipykernel_2888/3632496195.py, line 1)",
     "output_type": "error",
     "traceback": [
      "\u001B[1;36m  File \u001B[1;32m\"C:\\Users\\phili\\AppData\\Local\\Temp/ipykernel_2888/3632496195.py\"\u001B[1;36m, line \u001B[1;32m1\u001B[0m\n\u001B[1;33m    In the next step we check for the length of the mmsi value. First we have to convert values to int so that we don’t have to deal with floats and afterwards to string such that we can check its length.\u001B[0m\n\u001B[1;37m       ^\u001B[0m\n\u001B[1;31mSyntaxError\u001B[0m\u001B[1;31m:\u001B[0m invalid syntax\n"
     ]
    }
   ],
   "source": [
    "df_loit.loc[df_loit['transshipment_mmsi'].fillna(0).astype(str).str.len() < 9] # also finds NaN values in that column"
   ],
   "metadata": {
    "collapsed": false,
    "pycharm": {
     "name": "#%%\n"
    }
   }
  },
  {
   "cell_type": "markdown",
   "source": [
    "## Outlier detection"
   ],
   "metadata": {
    "collapsed": false,
    "pycharm": {
     "name": "#%% md\n"
    }
   }
  },
  {
   "cell_type": "code",
   "execution_count": null,
   "outputs": [],
   "source": [
    "df_loit.describe()"
   ],
   "metadata": {
    "collapsed": false,
    "pycharm": {
     "name": "#%%\n"
    }
   }
  },
  {
   "cell_type": "markdown",
   "source": [
    "Again, the max value of the total_event_duration column seems far off. In the next step we are going to take a closer look at it."
   ],
   "metadata": {
    "collapsed": false,
    "pycharm": {
     "name": "#%% md\n"
    }
   }
  },
  {
   "cell_type": "markdown",
   "source": [
    "### loitering duration\n",
    "First, we look at a boxplot of the data"
   ],
   "metadata": {
    "collapsed": false,
    "pycharm": {
     "name": "#%% md\n"
    }
   }
  },
  {
   "cell_type": "code",
   "execution_count": null,
   "outputs": [],
   "source": [
    "sns.set_theme(style=\"darkgrid\")\n",
    "sns.boxplot(x=df_loit['total_event_duration'])"
   ],
   "metadata": {
    "collapsed": false,
    "pycharm": {
     "name": "#%%\n"
    }
   }
  },
  {
   "cell_type": "markdown",
   "source": [
    "Again, we observe outliers."
   ],
   "metadata": {
    "collapsed": false,
    "pycharm": {
     "name": "#%% md\n"
    }
   }
  },
  {
   "cell_type": "code",
   "execution_count": null,
   "outputs": [],

   "source": [
    "print('{} loitering events lasted longer than 200 hours'.format(df_loit.loc[df_loit['total_event_duration'] > 200].shape[0]))\n",
    "print('which corresponds to {:.3f}% of the available data'.format(100 * df_loit.loc[df_loit['total_event_duration'] > 200].shape[0]/df_loit.shape[0]))"
   ],
   "metadata": {
    "collapsed": false,
    "pycharm": {
     "name": "#%%\n"
    }
   }
  },
  {
   "cell_type": "markdown",
   "source": [
    "## Duplicates"
   ],
   "metadata": {
    "collapsed": false,
    "pycharm": {
     "name": "#%% md\n"
    }
   }
  },
  {
   "cell_type": "code",
   "execution_count": null,
   "outputs": [],
   "source": [
    "df_loit.loc[df_loit.duplicated(keep=False)]"
   ],
   "metadata": {
    "collapsed": false,
    "pycharm": {
     "name": "#%%\n"
    }
   }
  },
  {
   "cell_type": "markdown",
   "source": [
    "Again, we can find many duplicates in the dataset that have to be removed at a later stage!"
   ],
   "metadata": {
    "collapsed": false,
    "pycharm": {
     "name": "#%% md\n"
    }
   }
  },
  {
   "cell_type": "markdown",
   "source": [
    "# Transshipment Vessels"
   ],
   "metadata": {
    "collapsed": false,
    "pycharm": {
     "name": "#%% md\n"
    }
   }
  },
  {
   "cell_type": "code",
   "execution_count": null,
   "outputs": [],
   "source": [
    "df_ves.info()\n",
    "print('Shape: ', df_ves.shape)  # get shape of dataframe"
   ],
   "metadata": {
    "collapsed": false,
    "pycharm": {
     "name": "#%%\n"
    }
   }
  },
  {
   "cell_type": "markdown",
   "source": [
    "## Null values and wrong formats"
   ],
   "metadata": {
    "collapsed": false,
    "pycharm": {
     "name": "#%% md\n"
    }
   }
  },
  {
   "cell_type": "markdown",
   "source": [
    "In the next step we check for the length of the mmsi value. First we have to convert values to int so that we don't have to deal with floats and afterwards to string such that we can check its length."
   ],
   "metadata": {
    "collapsed": false,
    "pycharm": {
     "name": "#%% md\n"
    }
   }
  },
  {
   "cell_type": "code",
   "execution_count": null,
   "outputs": [],
   "source": [
    "df_ves.loc[df_ves['mmsi'].fillna(0).astype('int').astype(str).str.len() < 9]"
   ],
   "metadata": {
    "collapsed": false,
    "pycharm": {
     "name": "#%%\n"
    }
   }
  },
  {
   "cell_type": "markdown",
   "source": [
    "## Outlier detection"
   ],
   "metadata": {
    "collapsed": false,
    "pycharm": {
     "name": "#%% md\n"
    }
   }
  },
  {
   "cell_type": "code",
   "execution_count": null,
   "outputs": [],
   "source": [
    "sns.displot(x=df_ves.mmsi)"
   ],
   "metadata": {
    "collapsed": false,
    "pycharm": {
     "name": "#%%\n"
    }
   }
  },
  {
   "cell_type": "markdown",
   "source": [
    "We might remove the outliers at a later stage of the project, but we already note there existence here."
   ],
   "metadata": {
    "collapsed": false,
    "pycharm": {
     "name": "#%% md\n"
    }
   }
  },
  {
   "cell_type": "markdown",
   "source": [
    "## Duplicates"
   ],
   "metadata": {
    "collapsed": false,
    "pycharm": {
     "name": "#%% md\n"
    }
   }
  },
  {
   "cell_type": "code",
   "execution_count": null,
   "source": [
    "df_ves.loc[df_ves.duplicated(keep=False)]"
   ],
   "metadata": {
    "collapsed": false,
    "pycharm": {
     "name": "#%%\n"
    }
   }
  },
  {
   "cell_type": "markdown",
   "source": [
    "No duplicates in the transshipment vessel dataset"
   ],
   "metadata": {
    "collapsed": false,
    "pycharm": {
     "name": "#%% md\n"
    }
   }
  }
 ],
 "metadata": {
  "kernelspec": {
   "display_name": "Python 3",
   "language": "python",
   "name": "python3"
  },
  "language_info": {
   "codemirror_mode": {
    "name": "ipython",
    "version": 2
   },
   "file_extension": ".py",
   "mimetype": "text/x-python",
   "name": "python",
   "nbconvert_exporter": "python",
   "pygments_lexer": "ipython2",
   "version": "2.7.6"
  }
 },
 "nbformat": 4,
 "nbformat_minor": 0
}
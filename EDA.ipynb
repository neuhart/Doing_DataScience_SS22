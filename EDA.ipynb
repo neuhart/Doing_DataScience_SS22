{
 "cells": [
  {
   "cell_type": "code",
   "execution_count": 18,
   "outputs": [],
   "source": [
    "import pandas as pd\n",
    "import numpy as np\n",
    "import sklearn\n",
    "import seaborn as sns\n"
   ],
   "metadata": {
    "collapsed": false,
    "pycharm": {
     "name": "#%%\n"
    }
   }
  },
  {
   "cell_type": "code",
   "execution_count": 19,
   "outputs": [],
   "source": [
    "filepath_enc = 'data/encounter-events.csv'\n",
    "filepath_loit = 'data/loitering-events.csv'\n",
    "filepath_tran = 'data/transshipment-vessels.csv'"
   ],
   "metadata": {
    "collapsed": false,
    "pycharm": {
     "name": "#%%\n"
    }
   }
  },
  {
   "cell_type": "code",
   "execution_count": 20,
   "outputs": [],
   "source": [
    "df_enc = pd.read_csv(filepath_enc)\n",
    "df_loit = pd.read_csv(filepath_loit)\n",
    "df_tran = pd.read_csv(filepath_tran)"
   ],
   "metadata": {
    "collapsed": false,
    "pycharm": {
     "name": "#%%\n"
    }
   }
  },
  {
   "cell_type": "markdown",
   "source": [
    "# encounter-events dataframe metadata"
   ],
   "metadata": {
    "collapsed": false,
    "pycharm": {
     "name": "#%% md\n"
    }
   }
  },
  {
   "cell_type": "code",
   "execution_count": 21,
   "outputs": [
    {
     "name": "stdout",
     "output_type": "stream",
     "text": [
      "       fishing_vessel_mmsi  transshipment_vessel_mmsi  mean_latitude  \\\n",
      "count         1.168100e+04               1.168100e+04   11681.000000   \n",
      "mean          3.492475e+08               3.643690e+08      28.148186   \n",
      "std           8.560155e+07               1.150885e+08      39.851397   \n",
      "min           2.000080e+06               2.106310e+08     -64.419519   \n",
      "25%           2.738125e+08               2.733859e+08      -8.003784   \n",
      "50%           3.382500e+08               3.415370e+08      50.804512   \n",
      "75%           4.160038e+08               4.124402e+08      58.732077   \n",
      "max           9.990001e+08               7.600002e+08      78.223238   \n",
      "\n",
      "       mean_longitude   duration_hr  median_distance_km  median_speed_knots  \n",
      "count    11681.000000  11681.000000        11681.000000        11681.000000  \n",
      "mean        33.759551     13.256271            0.059049            0.603595  \n",
      "std        127.808306     27.669774            0.068599            0.566881  \n",
      "min       -179.988139      2.000000            0.000000            0.000000  \n",
      "25%        -79.748356      3.500000            0.029139            0.027816  \n",
      "50%         43.090409      7.333333            0.040268            0.546794  \n",
      "75%        155.393447     16.500000            0.055819            1.044146  \n",
      "max        179.993872   1727.166667            0.498008            1.999870  \n",
      "<class 'pandas.core.frame.DataFrame'>\n",
      "RangeIndex: 11681 entries, 0 to 11680\n",
      "Data columns (total 9 columns):\n",
      "fishing_vessel_mmsi          11681 non-null int64\n",
      "transshipment_vessel_mmsi    11681 non-null int64\n",
      "start_time                   11681 non-null object\n",
      "end_time                     11681 non-null object\n",
      "mean_latitude                11681 non-null float64\n",
      "mean_longitude               11681 non-null float64\n",
      "duration_hr                  11681 non-null float64\n",
      "median_distance_km           11681 non-null float64\n",
      "median_speed_knots           11681 non-null float64\n",
      "dtypes: float64(5), int64(2), object(2)\n",
      "memory usage: 821.4+ KB\n",
      "None\n",
      "All columns:  Index(['fishing_vessel_mmsi', 'transshipment_vessel_mmsi', 'start_time',\n",
      "       'end_time', 'mean_latitude', 'mean_longitude', 'duration_hr',\n",
      "       'median_distance_km', 'median_speed_knots'],\n",
      "      dtype='object')\n",
      "Shape:  (11681, 9)\n"
     ]
    }
   ],
   "source": [
    "# print(df_enc.head())  # look at first five instance\n",
    "print(df_enc.describe())  # get some insight in the data distribution\n",
    "print(df_enc.info())  # get some insight about data quality\n",
    "print('All columns: ', df_enc.columns)  # print column names\n",
    "print('Shape: ', df_enc.shape)  # get shape of dataframe"
   ],
   "metadata": {
    "collapsed": false,
    "pycharm": {
     "name": "#%%\n"
    }
   }
  },
  {
   "cell_type": "markdown",
   "source": [
    "# loitering-events dataframe metadata"
   ],
   "metadata": {
    "collapsed": false,
    "pycharm": {
     "name": "#%% md\n"
    }
   }
  },
  {
   "cell_type": "code",
   "execution_count": 22,
   "outputs": [
    {
     "name": "stdout",
     "output_type": "stream",
     "text": [
      "       transshipment_mmsi  starting_latitude  starting_longitude  \\\n",
      "count        4.656900e+04       46569.000000        46569.000000   \n",
      "mean         3.988001e+08          13.332827           37.299625   \n",
      "std          1.222684e+08          35.386898          109.768020   \n",
      "min          2.000011e+08         -73.196533         -179.998672   \n",
      "25%          2.738294e+08         -12.631552          -60.474194   \n",
      "50%          3.578050e+08           8.495400           32.832062   \n",
      "75%          5.145650e+08          45.397766          150.625595   \n",
      "max          8.006687e+08          80.176160          179.995407   \n",
      "\n",
      "       ending_latitude  ending_longitude  median_speed_knots  \\\n",
      "count     46569.000000      46569.000000        46569.000000   \n",
      "mean         13.380619         37.359351            1.007226   \n",
      "std          35.322708        109.733637            0.415658   \n",
      "min         -87.215640       -179.985580            0.000000   \n",
      "25%         -12.475266        -60.391735            0.748288   \n",
      "50%           8.483275         33.012684            1.017809   \n",
      "75%          45.393921        150.639787            1.298791   \n",
      "max          80.415280        179.998611            1.996064   \n",
      "\n",
      "       total_event_duration  \n",
      "count          46569.000000  \n",
      "mean              32.725295  \n",
      "std               45.276891  \n",
      "min                8.000000  \n",
      "25%               12.888194  \n",
      "50%               19.775278  \n",
      "75%               36.230417  \n",
      "max             2437.876806  \n",
      "<class 'pandas.core.frame.DataFrame'>\n",
      "RangeIndex: 46569 entries, 0 to 46568\n",
      "Data columns (total 9 columns):\n",
      "transshipment_mmsi      46569 non-null int64\n",
      "starting_latitude       46569 non-null float64\n",
      "starting_longitude      46569 non-null float64\n",
      "ending_latitude         46569 non-null float64\n",
      "ending_longitude        46569 non-null float64\n",
      "starting_timestamp      46569 non-null object\n",
      "ending_timestamp        46569 non-null object\n",
      "median_speed_knots      46569 non-null float64\n",
      "total_event_duration    46569 non-null float64\n",
      "dtypes: float64(6), int64(1), object(2)\n",
      "memory usage: 3.2+ MB\n",
      "None\n",
      "All columns:  Index(['transshipment_mmsi', 'starting_latitude', 'starting_longitude',\n",
      "       'ending_latitude', 'ending_longitude', 'starting_timestamp',\n",
      "       'ending_timestamp', 'median_speed_knots', 'total_event_duration'],\n",
      "      dtype='object')\n",
      "Shape:  (46569, 9)\n"
     ]
    }
   ],
   "source": [
    "print(df_loit.describe())  # get some insight in the data distribution\n",
    "print(df_loit.info())  # get some insight about data quality\n",
    "print('All columns: ', df_loit.columns)  # print column names\n",
    "print('Shape: ', df_loit.shape)  # get shape of dataframe"
   ],
   "metadata": {
    "collapsed": false,
    "pycharm": {
     "name": "#%%\n"
    }
   }
  },
  {
   "cell_type": "markdown",
   "source": [
    "# transshipment-events dataframe metadata"
   ],
   "metadata": {
    "collapsed": false,
    "pycharm": {
     "name": "#%% md\n"
    }
   }
  },
  {
   "cell_type": "code",
   "execution_count": 23,
   "outputs": [
    {
     "name": "stdout",
     "output_type": "stream",
     "text": [
      "               mmsi           imo\n",
      "count  1.070000e+03  1.074000e+03\n",
      "mean   3.956385e+08  8.618462e+06\n",
      "std    1.330097e+08  6.169946e+05\n",
      "min    5.004000e+03  5.007510e+06\n",
      "25%    2.738432e+08  8.225723e+06\n",
      "50%    3.569255e+08  8.807662e+06\n",
      "75%    5.141800e+08  9.047266e+06\n",
      "max    9.927244e+08  9.821134e+06\n",
      "<class 'pandas.core.frame.DataFrame'>\n",
      "RangeIndex: 1124 entries, 0 to 1123\n",
      "Data columns (total 7 columns):\n",
      "mmsi               1070 non-null float64\n",
      "shipname           1123 non-null object\n",
      "callsign           1106 non-null object\n",
      "flag               1124 non-null object\n",
      "imo                1074 non-null float64\n",
      "first_timestamp    1070 non-null object\n",
      "last_timestamp     1070 non-null object\n",
      "dtypes: float64(2), object(5)\n",
      "memory usage: 61.6+ KB\n",
      "None\n",
      "All columns:  Index(['mmsi', 'shipname', 'callsign', 'flag', 'imo', 'first_timestamp',\n",
      "       'last_timestamp'],\n",
      "      dtype='object')\n",
      "Shape:  (1124, 7)\n"
     ]
    }
   ],
   "source": [
    "print(df_tran.describe())  # get some insight in the data distribution\n",
    "print(df_tran.info())  # get some insight about data quality\n",
    "print('All columns: ', df_tran.columns)  # print column names\n",
    "print('Shape: ', df_tran.shape)  # get shape of dataframe"
   ],
   "metadata": {
    "collapsed": false,
    "pycharm": {
     "name": "#%%\n"
    }
   }
  },
  {
   "cell_type": "markdown",
   "source": [],
   "metadata": {
    "collapsed": false,
    "pycharm": {
     "name": "#%% md\n"
    }
   }
  }
 ],
 "metadata": {
  "kernelspec": {
   "display_name": "Python 3",
   "language": "python",
   "name": "python3"
  },
  "language_info": {
   "codemirror_mode": {
    "name": "ipython",
    "version": 2
   },
   "file_extension": ".py",
   "mimetype": "text/x-python",
   "name": "python",
   "nbconvert_exporter": "python",
   "pygments_lexer": "ipython2",
   "version": "2.7.6"
  }
 },
 "nbformat": 4,
 "nbformat_minor": 0
}
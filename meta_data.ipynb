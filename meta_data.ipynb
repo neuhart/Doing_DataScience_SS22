{
 "cells": [
  {
   "cell_type": "markdown",
   "metadata": {},
   "source": [
    "# Included Metadata:\n",
    "\n",
    "Context\n",
    "Vessels meet at sea for multiple reasons, such as refueling and exchanging crew, but in the commercial fishing industry, they also meet to transfer catch, or transship. Using machine learning, we processed more than 32 billion Automatic Identification System (AIS) signals broadcast from ships at sea to identify vessels capable of receiving transshipments and analyze their movements. Those vessels include fish tenders, live fish carriers, factory/processors and refrigerated cargo vessels. Verifying our results with confirmed fishery registries and open source online resources, we identified vessels capable of transshipping fish at sea between 2012 and December 2017, and incidents in which one of these vessels exhibited telltale transshipment behavior patterns such as drifting slowly enough and long enough to receive a transfer of catch.\n",
    "\n",
    "Content\n",
    "This dataset includes data on transshipment. Included are data on the following:\n",
    "\n",
    "List of vessels involved in transshipment - Includes transshipment capable vessels (fish tenders, live fish carriers, factory/processors and refrigerated cargo vessels).\n",
    "Loitering events - Occurrences of transshipment-capable vessels drifting slowly enough and long enough to receive a transfer of catch, but during which time no fishing vessels are observed on AIS meeting with the vessel.\n",
    "Potential transshipment events (encounters) - Occurrences of transshipment-capable vessels drifting slowly enough and long enough to receive a transfer of catch and meeting with one or more fishing vessel that is actively broadcasting AIS."
   ]
  },
  {
   "cell_type": "markdown",
   "metadata": {},
   "source": [
    "***Takeaways***\n",
    "\n",
    "* All observations have been pre selected by an undefinded algorithm and feature one transshipment capable vessel\n",
    "* encounter and loitering datasets differ mainly by the presence or absence of an additional vessel with a Gross Tonnage of at least 100  \n",
    "* Both type of events can be caused not only by transshipment behavior but also by unrelated factors"
   ]
  },
  {
   "cell_type": "markdown",
   "metadata": {},
   "source": [
    "# Terms and Phrases:\n",
    "\n",
    "* MMSI: Maritime Mobile Service Identity:\n",
    ">https://www.ic.gc.ca/eic/site/smt-gst.nsf/eng/h_sf06198.html\n",
    ">https://en.wikipedia.org/wiki/Maritime_Mobile_Service_Identity\n",
    ">Secondary Key: 3 digit Country Code + identifyer\n",
    "\n",
    "* IMO: International Maritime Organization (IMO) number:\n",
    ">https://www.imo.org/en/OurWork/MSAS/Pages/IMO-identification-number-scheme.aspx#:~:text=The%20Number%20consists%20of%20seven,followed%20by%20the%20seven%20digits\n",
    ">https://en.wikipedia.org/wiki/IMO_number\n",
    ">Only assigned to vessels with a GT of at least 100\n",
    "\n",
    "* GT: Gross Tonnage:\n",
    ">https://en.wikipedia.org/wiki/Gross_tonnage"
   ]
  },
  {
   "cell_type": "code",
   "execution_count": 1,
   "metadata": {},
   "outputs": [
    {
     "name": "stdout",
     "output_type": "stream",
     "text": [
      "hello\n"
     ]
    }
   ],
   "source": [
    "print(\"hello\")"
   ]
  }
 ],
 "metadata": {
  "interpreter": {
   "hash": "70d6f1576e6c665825bc6f7651d013a44194fc79e90786873b6342b5cc8b4c23"
  },
  "kernelspec": {
   "display_name": "Python 3.10.4 ('jupyterlab')",
   "language": "python",
   "name": "python3"
  },
  "language_info": {
   "codemirror_mode": {
    "name": "ipython",
    "version": 3
   },
   "file_extension": ".py",
   "mimetype": "text/x-python",
   "name": "python",
   "nbconvert_exporter": "python",
   "pygments_lexer": "ipython3",
   "version": "3.10.4"
  },
  "orig_nbformat": 4
 },
 "nbformat": 4,
 "nbformat_minor": 2
}

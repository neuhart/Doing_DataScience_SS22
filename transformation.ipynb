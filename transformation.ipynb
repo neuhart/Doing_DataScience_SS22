{
 "cells": [
  {
   "cell_type": "markdown",
   "metadata": {
    "pycharm": {
     "name": "#%% md\n"
    }
   },
   "source": [
    "# Libraries"
   ]
  },
  {
   "cell_type": "code",
   "execution_count": 105,
   "metadata": {
    "pycharm": {
     "name": "#%%\n"
    }
   },
   "outputs": [],
   "source": [
    "import pandas as pd"
   ]
  },
  {
   "cell_type": "markdown",
   "metadata": {
    "pycharm": {
     "name": "#%% md\n"
    }
   },
   "source": [
    "# Importing Data"
   ]
  },
  {
   "cell_type": "markdown",
   "metadata": {
    "pycharm": {
     "name": "#%% md\n"
    }
   },
   "source": [
    "Encounter Data"
   ]
  },
  {
   "cell_type": "code",
   "execution_count": 106,
   "metadata": {
    "pycharm": {
     "name": "#%%\n"
    }
   },
   "outputs": [
    {
     "data": {
      "text/plain": "   fishing_vessel_mmsi  transshipment_vessel_mmsi            start_time  \\\n0            416565000                  354240000  2016-11-18T14:30:00Z   \n1            412679190                  354240000  2016-12-11T14:50:00Z   \n2            440863000                  354240000  2017-06-13T12:50:00Z   \n3            416563000                  354240000  2016-11-15T11:30:00Z   \n4            441309000                  354240000  2017-05-19T00:40:00Z   \n\n               end_time  mean_latitude  mean_longitude  duration_hr  \\\n0  2016-11-19T01:50:00Z     -17.039085      -79.063725    11.333333   \n1  2016-12-11T19:50:00Z     -20.269608      -79.244953     5.000000   \n2  2017-06-15T01:20:00Z     -62.640767      -60.690240    36.500000   \n3  2016-11-16T04:00:00Z     -17.046586      -79.061923    16.500000   \n4  2017-05-19T20:50:00Z     -46.627878      -60.554922    20.166667   \n\n   median_distance_km  median_speed_knots  \n0            0.038188            0.585402  \n1            0.020033            0.575663  \n2            0.054992            0.019775  \n3            0.036427            1.023917  \n4            0.034053            0.544031  ",
      "text/html": "<div>\n<style scoped>\n    .dataframe tbody tr th:only-of-type {\n        vertical-align: middle;\n    }\n\n    .dataframe tbody tr th {\n        vertical-align: top;\n    }\n\n    .dataframe thead th {\n        text-align: right;\n    }\n</style>\n<table border=\"1\" class=\"dataframe\">\n  <thead>\n    <tr style=\"text-align: right;\">\n      <th></th>\n      <th>fishing_vessel_mmsi</th>\n      <th>transshipment_vessel_mmsi</th>\n      <th>start_time</th>\n      <th>end_time</th>\n      <th>mean_latitude</th>\n      <th>mean_longitude</th>\n      <th>duration_hr</th>\n      <th>median_distance_km</th>\n      <th>median_speed_knots</th>\n    </tr>\n  </thead>\n  <tbody>\n    <tr>\n      <th>0</th>\n      <td>416565000</td>\n      <td>354240000</td>\n      <td>2016-11-18T14:30:00Z</td>\n      <td>2016-11-19T01:50:00Z</td>\n      <td>-17.039085</td>\n      <td>-79.063725</td>\n      <td>11.333333</td>\n      <td>0.038188</td>\n      <td>0.585402</td>\n    </tr>\n    <tr>\n      <th>1</th>\n      <td>412679190</td>\n      <td>354240000</td>\n      <td>2016-12-11T14:50:00Z</td>\n      <td>2016-12-11T19:50:00Z</td>\n      <td>-20.269608</td>\n      <td>-79.244953</td>\n      <td>5.000000</td>\n      <td>0.020033</td>\n      <td>0.575663</td>\n    </tr>\n    <tr>\n      <th>2</th>\n      <td>440863000</td>\n      <td>354240000</td>\n      <td>2017-06-13T12:50:00Z</td>\n      <td>2017-06-15T01:20:00Z</td>\n      <td>-62.640767</td>\n      <td>-60.690240</td>\n      <td>36.500000</td>\n      <td>0.054992</td>\n      <td>0.019775</td>\n    </tr>\n    <tr>\n      <th>3</th>\n      <td>416563000</td>\n      <td>354240000</td>\n      <td>2016-11-15T11:30:00Z</td>\n      <td>2016-11-16T04:00:00Z</td>\n      <td>-17.046586</td>\n      <td>-79.061923</td>\n      <td>16.500000</td>\n      <td>0.036427</td>\n      <td>1.023917</td>\n    </tr>\n    <tr>\n      <th>4</th>\n      <td>441309000</td>\n      <td>354240000</td>\n      <td>2017-05-19T00:40:00Z</td>\n      <td>2017-05-19T20:50:00Z</td>\n      <td>-46.627878</td>\n      <td>-60.554922</td>\n      <td>20.166667</td>\n      <td>0.034053</td>\n      <td>0.544031</td>\n    </tr>\n  </tbody>\n</table>\n</div>"
     },
     "execution_count": 106,
     "metadata": {},
     "output_type": "execute_result"
    }
   ],
   "source": [
    "df_enc = pd.read_csv('data\\encounter-events.csv')\n",
    "df_enc.head()"
   ]
  },
  {
   "cell_type": "markdown",
   "metadata": {
    "pycharm": {
     "name": "#%% md\n"
    }
   },
   "source": [
    "Loitering Data"
   ]
  },
  {
   "cell_type": "code",
   "execution_count": 107,
   "metadata": {
    "pycharm": {
     "name": "#%%\n"
    }
   },
   "outputs": [
    {
     "data": {
      "text/plain": "   transshipment_mmsi  starting_latitude  starting_longitude  ending_latitude  \\\n0           256064000          12.793800          -69.503235        12.727950   \n1           256064000          25.405013          -56.302800        25.393350   \n2           256064000          10.693413          -78.512800        10.484500   \n3           256064000          11.858933          -75.553383        12.007627   \n4           256064000          45.938747          -23.796960        45.976960   \n\n   ending_longitude    starting_timestamp      ending_timestamp  \\\n0        -69.739120  2017-09-06T02:11:32Z  2017-09-06T15:44:15Z   \n1        -56.488250  2017-07-22T13:19:49Z  2017-07-22T23:59:17Z   \n2        -78.884300  2017-11-29T14:48:51Z  2017-11-30T07:43:36Z   \n3        -75.535627  2017-09-07T23:39:03Z  2017-09-08T14:59:26Z   \n4        -23.449387  2017-08-17T23:18:21Z  2017-08-18T17:56:30Z   \n\n   median_speed_knots  total_event_duration  \n0            1.091065             13.915556  \n1            1.548335             10.897639  \n2            1.503456             18.001389  \n3            0.650355             16.193611  \n4            1.009874             19.748333  ",
      "text/html": "<div>\n<style scoped>\n    .dataframe tbody tr th:only-of-type {\n        vertical-align: middle;\n    }\n\n    .dataframe tbody tr th {\n        vertical-align: top;\n    }\n\n    .dataframe thead th {\n        text-align: right;\n    }\n</style>\n<table border=\"1\" class=\"dataframe\">\n  <thead>\n    <tr style=\"text-align: right;\">\n      <th></th>\n      <th>transshipment_mmsi</th>\n      <th>starting_latitude</th>\n      <th>starting_longitude</th>\n      <th>ending_latitude</th>\n      <th>ending_longitude</th>\n      <th>starting_timestamp</th>\n      <th>ending_timestamp</th>\n      <th>median_speed_knots</th>\n      <th>total_event_duration</th>\n    </tr>\n  </thead>\n  <tbody>\n    <tr>\n      <th>0</th>\n      <td>256064000</td>\n      <td>12.793800</td>\n      <td>-69.503235</td>\n      <td>12.727950</td>\n      <td>-69.739120</td>\n      <td>2017-09-06T02:11:32Z</td>\n      <td>2017-09-06T15:44:15Z</td>\n      <td>1.091065</td>\n      <td>13.915556</td>\n    </tr>\n    <tr>\n      <th>1</th>\n      <td>256064000</td>\n      <td>25.405013</td>\n      <td>-56.302800</td>\n      <td>25.393350</td>\n      <td>-56.488250</td>\n      <td>2017-07-22T13:19:49Z</td>\n      <td>2017-07-22T23:59:17Z</td>\n      <td>1.548335</td>\n      <td>10.897639</td>\n    </tr>\n    <tr>\n      <th>2</th>\n      <td>256064000</td>\n      <td>10.693413</td>\n      <td>-78.512800</td>\n      <td>10.484500</td>\n      <td>-78.884300</td>\n      <td>2017-11-29T14:48:51Z</td>\n      <td>2017-11-30T07:43:36Z</td>\n      <td>1.503456</td>\n      <td>18.001389</td>\n    </tr>\n    <tr>\n      <th>3</th>\n      <td>256064000</td>\n      <td>11.858933</td>\n      <td>-75.553383</td>\n      <td>12.007627</td>\n      <td>-75.535627</td>\n      <td>2017-09-07T23:39:03Z</td>\n      <td>2017-09-08T14:59:26Z</td>\n      <td>0.650355</td>\n      <td>16.193611</td>\n    </tr>\n    <tr>\n      <th>4</th>\n      <td>256064000</td>\n      <td>45.938747</td>\n      <td>-23.796960</td>\n      <td>45.976960</td>\n      <td>-23.449387</td>\n      <td>2017-08-17T23:18:21Z</td>\n      <td>2017-08-18T17:56:30Z</td>\n      <td>1.009874</td>\n      <td>19.748333</td>\n    </tr>\n  </tbody>\n</table>\n</div>"
     },
     "execution_count": 107,
     "metadata": {},
     "output_type": "execute_result"
    }
   ],
   "source": [
    "df_loit = pd.read_csv('data\\loitering-events.csv')\n",
    "df_loit.head()"
   ]
  },
  {
   "cell_type": "markdown",
   "metadata": {
    "pycharm": {
     "name": "#%% md\n"
    }
   },
   "source": [
    "Vessel Data"
   ]
  },
  {
   "cell_type": "code",
   "execution_count": 108,
   "metadata": {
    "pycharm": {
     "name": "#%%\n"
    }
   },
   "outputs": [
    {
     "data": {
      "text/plain": "          mmsi       shipname callsign flag        imo       first_timestamp  \\\n0  306117000.0   SIERRALAUREL     PJBQ  ANT  9163403.0  2018-03-29T08:34:21Z   \n1  306873000.0    SIERRALEYRE     PJJZ  ANT  9135822.0  2012-01-01T01:06:00Z   \n2     309681.0    GREENBRAZIL    C6WH6  BHS  9045792.0  2018-06-29T10:34:00Z   \n3  308735000.0  NOVA BRETAGNE    C6JI7  BHS  9000364.0  2012-01-01T00:39:08Z   \n4  311000682.0    SIERRA LARA    C6DI3  BHS  9120205.0  2017-07-03T10:28:05Z   \n\n         last_timestamp  \n0  2018-06-30T17:08:41Z  \n1  2012-06-26T08:58:28Z  \n2  2018-06-30T23:47:40Z  \n3  2013-09-12T10:03:48Z  \n4  2018-06-30T23:35:36Z  ",
      "text/html": "<div>\n<style scoped>\n    .dataframe tbody tr th:only-of-type {\n        vertical-align: middle;\n    }\n\n    .dataframe tbody tr th {\n        vertical-align: top;\n    }\n\n    .dataframe thead th {\n        text-align: right;\n    }\n</style>\n<table border=\"1\" class=\"dataframe\">\n  <thead>\n    <tr style=\"text-align: right;\">\n      <th></th>\n      <th>mmsi</th>\n      <th>shipname</th>\n      <th>callsign</th>\n      <th>flag</th>\n      <th>imo</th>\n      <th>first_timestamp</th>\n      <th>last_timestamp</th>\n    </tr>\n  </thead>\n  <tbody>\n    <tr>\n      <th>0</th>\n      <td>306117000.0</td>\n      <td>SIERRALAUREL</td>\n      <td>PJBQ</td>\n      <td>ANT</td>\n      <td>9163403.0</td>\n      <td>2018-03-29T08:34:21Z</td>\n      <td>2018-06-30T17:08:41Z</td>\n    </tr>\n    <tr>\n      <th>1</th>\n      <td>306873000.0</td>\n      <td>SIERRALEYRE</td>\n      <td>PJJZ</td>\n      <td>ANT</td>\n      <td>9135822.0</td>\n      <td>2012-01-01T01:06:00Z</td>\n      <td>2012-06-26T08:58:28Z</td>\n    </tr>\n    <tr>\n      <th>2</th>\n      <td>309681.0</td>\n      <td>GREENBRAZIL</td>\n      <td>C6WH6</td>\n      <td>BHS</td>\n      <td>9045792.0</td>\n      <td>2018-06-29T10:34:00Z</td>\n      <td>2018-06-30T23:47:40Z</td>\n    </tr>\n    <tr>\n      <th>3</th>\n      <td>308735000.0</td>\n      <td>NOVA BRETAGNE</td>\n      <td>C6JI7</td>\n      <td>BHS</td>\n      <td>9000364.0</td>\n      <td>2012-01-01T00:39:08Z</td>\n      <td>2013-09-12T10:03:48Z</td>\n    </tr>\n    <tr>\n      <th>4</th>\n      <td>311000682.0</td>\n      <td>SIERRA LARA</td>\n      <td>C6DI3</td>\n      <td>BHS</td>\n      <td>9120205.0</td>\n      <td>2017-07-03T10:28:05Z</td>\n      <td>2018-06-30T23:35:36Z</td>\n    </tr>\n  </tbody>\n</table>\n</div>"
     },
     "execution_count": 108,
     "metadata": {},
     "output_type": "execute_result"
    }
   ],
   "source": [
    "df_ves = pd.read_csv('data/transshipment-vessels.csv') \n",
    "\n",
    "df_ves.head()"
   ]
  },
  {
   "cell_type": "markdown",
   "metadata": {
    "pycharm": {
     "name": "#%% md\n"
    }
   },
   "source": [
    "# Data Transformation"
   ]
  },
  {
   "cell_type": "markdown",
   "metadata": {
    "pycharm": {
     "name": "#%% md\n"
    }
   },
   "source": [
    "## Individual"
   ]
  },
  {
   "cell_type": "markdown",
   "metadata": {
    "pycharm": {
     "name": "#%% md\n"
    }
   },
   "source": [
    "### Encounter Dataset"
   ]
  },
  {
   "cell_type": "markdown",
   "metadata": {
    "pycharm": {
     "name": "#%% md\n"
    }
   },
   "source": [
    "This code:\n",
    "\n",
    "* removes all entries with duplicate values over all features\n",
    "* removes outliers in duration_hr column\n",
    "* transforms timestamps into datetime objects\n",
    "* adds a target feature to the dataset"
   ]
  },
  {
   "cell_type": "code",
   "execution_count": 109,
   "metadata": {
    "pycharm": {
     "name": "#%%\n"
    }
   },
   "outputs": [
    {
     "name": "stdout",
     "output_type": "stream",
     "text": [
      "11470 encounterings left in the dataset\n"
     ]
    }
   ],
   "source": [
    "df_enc_mod = df_enc.copy()\n",
    "\n",
    "df_enc_mod = df_enc_mod.loc[df_enc_mod['duration_hr'] <= 65]  # remove outliers detected in the EDA file\n",
    "\n",
    "df_enc_mod.drop_duplicates(inplace = True)  # remove duplicates\n",
    "\n",
    "print('{} encounterings left in the dataset'.format(df_enc_mod.shape[0]))\n"
   ]
  },
  {
   "cell_type": "code",
   "execution_count": 110,
   "outputs": [
    {
     "data": {
      "text/plain": "   fishing_vessel_mmsi  transshipment_vessel_mmsi                start_time  \\\n0            416565000                  354240000 2016-11-18 14:30:00+00:00   \n1            412679190                  354240000 2016-12-11 14:50:00+00:00   \n2            440863000                  354240000 2017-06-13 12:50:00+00:00   \n3            416563000                  354240000 2016-11-15 11:30:00+00:00   \n4            441309000                  354240000 2017-05-19 00:40:00+00:00   \n\n                   end_time  mean_latitude  mean_longitude  duration_hr  \\\n0 2016-11-19 01:50:00+00:00     -17.039085      -79.063725    11.333333   \n1 2016-12-11 19:50:00+00:00     -20.269608      -79.244953     5.000000   \n2 2017-06-15 01:20:00+00:00     -62.640767      -60.690240    36.500000   \n3 2016-11-16 04:00:00+00:00     -17.046586      -79.061923    16.500000   \n4 2017-05-19 20:50:00+00:00     -46.627878      -60.554922    20.166667   \n\n   median_distance_km  median_speed_knots  starting_timestamp  \\\n0            0.038188            0.585402        1.479479e+09   \n1            0.020033            0.575663        1.481468e+09   \n2            0.054992            0.019775        1.497358e+09   \n3            0.036427            1.023917        1.479209e+09   \n4            0.034053            0.544031        1.495154e+09   \n\n   ending_timestamp  \n0      1.479520e+09  \n1      1.481486e+09  \n2      1.497490e+09  \n3      1.479269e+09  \n4      1.495227e+09  ",
      "text/html": "<div>\n<style scoped>\n    .dataframe tbody tr th:only-of-type {\n        vertical-align: middle;\n    }\n\n    .dataframe tbody tr th {\n        vertical-align: top;\n    }\n\n    .dataframe thead th {\n        text-align: right;\n    }\n</style>\n<table border=\"1\" class=\"dataframe\">\n  <thead>\n    <tr style=\"text-align: right;\">\n      <th></th>\n      <th>fishing_vessel_mmsi</th>\n      <th>transshipment_vessel_mmsi</th>\n      <th>start_time</th>\n      <th>end_time</th>\n      <th>mean_latitude</th>\n      <th>mean_longitude</th>\n      <th>duration_hr</th>\n      <th>median_distance_km</th>\n      <th>median_speed_knots</th>\n      <th>starting_timestamp</th>\n      <th>ending_timestamp</th>\n    </tr>\n  </thead>\n  <tbody>\n    <tr>\n      <th>0</th>\n      <td>416565000</td>\n      <td>354240000</td>\n      <td>2016-11-18 14:30:00+00:00</td>\n      <td>2016-11-19 01:50:00+00:00</td>\n      <td>-17.039085</td>\n      <td>-79.063725</td>\n      <td>11.333333</td>\n      <td>0.038188</td>\n      <td>0.585402</td>\n      <td>1.479479e+09</td>\n      <td>1.479520e+09</td>\n    </tr>\n    <tr>\n      <th>1</th>\n      <td>412679190</td>\n      <td>354240000</td>\n      <td>2016-12-11 14:50:00+00:00</td>\n      <td>2016-12-11 19:50:00+00:00</td>\n      <td>-20.269608</td>\n      <td>-79.244953</td>\n      <td>5.000000</td>\n      <td>0.020033</td>\n      <td>0.575663</td>\n      <td>1.481468e+09</td>\n      <td>1.481486e+09</td>\n    </tr>\n    <tr>\n      <th>2</th>\n      <td>440863000</td>\n      <td>354240000</td>\n      <td>2017-06-13 12:50:00+00:00</td>\n      <td>2017-06-15 01:20:00+00:00</td>\n      <td>-62.640767</td>\n      <td>-60.690240</td>\n      <td>36.500000</td>\n      <td>0.054992</td>\n      <td>0.019775</td>\n      <td>1.497358e+09</td>\n      <td>1.497490e+09</td>\n    </tr>\n    <tr>\n      <th>3</th>\n      <td>416563000</td>\n      <td>354240000</td>\n      <td>2016-11-15 11:30:00+00:00</td>\n      <td>2016-11-16 04:00:00+00:00</td>\n      <td>-17.046586</td>\n      <td>-79.061923</td>\n      <td>16.500000</td>\n      <td>0.036427</td>\n      <td>1.023917</td>\n      <td>1.479209e+09</td>\n      <td>1.479269e+09</td>\n    </tr>\n    <tr>\n      <th>4</th>\n      <td>441309000</td>\n      <td>354240000</td>\n      <td>2017-05-19 00:40:00+00:00</td>\n      <td>2017-05-19 20:50:00+00:00</td>\n      <td>-46.627878</td>\n      <td>-60.554922</td>\n      <td>20.166667</td>\n      <td>0.034053</td>\n      <td>0.544031</td>\n      <td>1.495154e+09</td>\n      <td>1.495227e+09</td>\n    </tr>\n  </tbody>\n</table>\n</div>"
     },
     "execution_count": 110,
     "metadata": {},
     "output_type": "execute_result"
    }
   ],
   "source": [
    "df_enc_mod['start_time'] = pd.to_datetime(df_enc['start_time'])  # parse time objects\n",
    "df_enc_mod['end_time'] = pd.to_datetime(df_enc['end_time'])\n",
    "\n",
    "df_enc_mod['starting_timestamp'] = df_enc_mod['start_time'].apply(lambda x: x.timestamp()) # Changing format of timestamps from object to float\n",
    "df_enc_mod['ending_timestamp'] = df_enc_mod['end_time'].apply(lambda x: x.timestamp())\n",
    "df_enc_mod.head()"
   ],
   "metadata": {
    "collapsed": false,
    "pycharm": {
     "name": "#%%\n"
    }
   }
  },
  {
   "cell_type": "code",
   "execution_count": 111,
   "outputs": [],
   "source": [
    "df_enc_mod['from_encounter'] = 1  # support variable need later after merging"
   ],
   "metadata": {
    "collapsed": false,
    "pycharm": {
     "name": "#%%\n"
    }
   }
  },
  {
   "cell_type": "code",
   "execution_count": 112,
   "outputs": [
    {
     "name": "stdout",
     "output_type": "stream",
     "text": [
      "<class 'pandas.core.frame.DataFrame'>\n",
      "Int64Index: 11470 entries, 0 to 11680\n",
      "Data columns (total 12 columns):\n",
      " #   Column                     Non-Null Count  Dtype              \n",
      "---  ------                     --------------  -----              \n",
      " 0   fishing_vessel_mmsi        11470 non-null  int64              \n",
      " 1   transshipment_vessel_mmsi  11470 non-null  int64              \n",
      " 2   start_time                 11470 non-null  datetime64[ns, UTC]\n",
      " 3   end_time                   11470 non-null  datetime64[ns, UTC]\n",
      " 4   mean_latitude              11470 non-null  float64            \n",
      " 5   mean_longitude             11470 non-null  float64            \n",
      " 6   duration_hr                11470 non-null  float64            \n",
      " 7   median_distance_km         11470 non-null  float64            \n",
      " 8   median_speed_knots         11470 non-null  float64            \n",
      " 9   starting_timestamp         11470 non-null  float64            \n",
      " 10  ending_timestamp           11470 non-null  float64            \n",
      " 11  from_encounter             11470 non-null  int64              \n",
      "dtypes: datetime64[ns, UTC](2), float64(7), int64(3)\n",
      "memory usage: 1.1 MB\n"
     ]
    }
   ],
   "source": [
    "df_enc_mod.info()"
   ],
   "metadata": {
    "collapsed": false,
    "pycharm": {
     "name": "#%%\n"
    }
   }
  },
  {
   "cell_type": "markdown",
   "metadata": {
    "pycharm": {
     "name": "#%% md\n"
    }
   },
   "source": [
    "### Loitering Dataset"
   ]
  },
  {
   "cell_type": "markdown",
   "metadata": {
    "pycharm": {
     "name": "#%% md\n"
    }
   },
   "source": [
    "This code:\n",
    "\n",
    "* removes all entries with duplicate values over all features\n",
    "* remove outliers in total_even_duration column\n",
    "* transforms timestamps into datetime objects\n",
    "* adds a target feature to the dataset\n",
    "* both transforms and renames features to those in the encounter dataset"
   ]
  },
  {
   "cell_type": "code",
   "execution_count": 113,
   "metadata": {
    "pycharm": {
     "name": "#%%\n"
    }
   },
   "outputs": [
    {
     "name": "stdout",
     "output_type": "stream",
     "text": [
      "45919 loitering events left in the dataset\n"
     ]
    }
   ],
   "source": [
    "df_loit_mod =  df_loit.copy()\n",
    "\n",
    "df_loit_mod = df_loit_mod.loc[df_loit_mod['total_event_duration'] <= 200]  # remove outliers detected in the EDA file\n",
    "\n",
    "df_loit_mod.drop_duplicates(inplace = True)  # dropping duplicates\n",
    "\n",
    "print('{} loitering events left in the dataset'.format(df_loit_mod.shape[0]))"
   ]
  },
  {
   "cell_type": "markdown",
   "source": [],
   "metadata": {
    "collapsed": false,
    "pycharm": {
     "name": "#%% md\n"
    }
   }
  },
  {
   "cell_type": "code",
   "execution_count": 114,
   "outputs": [
    {
     "data": {
      "text/plain": "   transshipment_mmsi  starting_latitude  starting_longitude  ending_latitude  \\\n0           256064000          12.793800          -69.503235        12.727950   \n1           256064000          25.405013          -56.302800        25.393350   \n2           256064000          10.693413          -78.512800        10.484500   \n3           256064000          11.858933          -75.553383        12.007627   \n4           256064000          45.938747          -23.796960        45.976960   \n\n   ending_longitude  starting_timestamp  ending_timestamp  median_speed_knots  \\\n0        -69.739120        1.504664e+09      1.504713e+09            1.091065   \n1        -56.488250        1.500730e+09      1.500768e+09            1.548335   \n2        -78.884300        1.511967e+09      1.512028e+09            1.503456   \n3        -75.535627        1.504828e+09      1.504883e+09            0.650355   \n4        -23.449387        1.503012e+09      1.503079e+09            1.009874   \n\n   total_event_duration                start_time                  end_time  \n0             13.915556 2017-09-06 02:11:32+00:00 2017-09-06 15:44:15+00:00  \n1             10.897639 2017-07-22 13:19:49+00:00 2017-07-22 23:59:17+00:00  \n2             18.001389 2017-11-29 14:48:51+00:00 2017-11-30 07:43:36+00:00  \n3             16.193611 2017-09-07 23:39:03+00:00 2017-09-08 14:59:26+00:00  \n4             19.748333 2017-08-17 23:18:21+00:00 2017-08-18 17:56:30+00:00  ",
      "text/html": "<div>\n<style scoped>\n    .dataframe tbody tr th:only-of-type {\n        vertical-align: middle;\n    }\n\n    .dataframe tbody tr th {\n        vertical-align: top;\n    }\n\n    .dataframe thead th {\n        text-align: right;\n    }\n</style>\n<table border=\"1\" class=\"dataframe\">\n  <thead>\n    <tr style=\"text-align: right;\">\n      <th></th>\n      <th>transshipment_mmsi</th>\n      <th>starting_latitude</th>\n      <th>starting_longitude</th>\n      <th>ending_latitude</th>\n      <th>ending_longitude</th>\n      <th>starting_timestamp</th>\n      <th>ending_timestamp</th>\n      <th>median_speed_knots</th>\n      <th>total_event_duration</th>\n      <th>start_time</th>\n      <th>end_time</th>\n    </tr>\n  </thead>\n  <tbody>\n    <tr>\n      <th>0</th>\n      <td>256064000</td>\n      <td>12.793800</td>\n      <td>-69.503235</td>\n      <td>12.727950</td>\n      <td>-69.739120</td>\n      <td>1.504664e+09</td>\n      <td>1.504713e+09</td>\n      <td>1.091065</td>\n      <td>13.915556</td>\n      <td>2017-09-06 02:11:32+00:00</td>\n      <td>2017-09-06 15:44:15+00:00</td>\n    </tr>\n    <tr>\n      <th>1</th>\n      <td>256064000</td>\n      <td>25.405013</td>\n      <td>-56.302800</td>\n      <td>25.393350</td>\n      <td>-56.488250</td>\n      <td>1.500730e+09</td>\n      <td>1.500768e+09</td>\n      <td>1.548335</td>\n      <td>10.897639</td>\n      <td>2017-07-22 13:19:49+00:00</td>\n      <td>2017-07-22 23:59:17+00:00</td>\n    </tr>\n    <tr>\n      <th>2</th>\n      <td>256064000</td>\n      <td>10.693413</td>\n      <td>-78.512800</td>\n      <td>10.484500</td>\n      <td>-78.884300</td>\n      <td>1.511967e+09</td>\n      <td>1.512028e+09</td>\n      <td>1.503456</td>\n      <td>18.001389</td>\n      <td>2017-11-29 14:48:51+00:00</td>\n      <td>2017-11-30 07:43:36+00:00</td>\n    </tr>\n    <tr>\n      <th>3</th>\n      <td>256064000</td>\n      <td>11.858933</td>\n      <td>-75.553383</td>\n      <td>12.007627</td>\n      <td>-75.535627</td>\n      <td>1.504828e+09</td>\n      <td>1.504883e+09</td>\n      <td>0.650355</td>\n      <td>16.193611</td>\n      <td>2017-09-07 23:39:03+00:00</td>\n      <td>2017-09-08 14:59:26+00:00</td>\n    </tr>\n    <tr>\n      <th>4</th>\n      <td>256064000</td>\n      <td>45.938747</td>\n      <td>-23.796960</td>\n      <td>45.976960</td>\n      <td>-23.449387</td>\n      <td>1.503012e+09</td>\n      <td>1.503079e+09</td>\n      <td>1.009874</td>\n      <td>19.748333</td>\n      <td>2017-08-17 23:18:21+00:00</td>\n      <td>2017-08-18 17:56:30+00:00</td>\n    </tr>\n  </tbody>\n</table>\n</div>"
     },
     "execution_count": 114,
     "metadata": {},
     "output_type": "execute_result"
    }
   ],
   "source": [
    "df_loit_mod['start_time'] = pd.to_datetime(df_loit['starting_timestamp'])  # Create new start time column with datetime format\n",
    "df_loit_mod['end_time'] = pd.to_datetime(df_loit['ending_timestamp'])\n",
    "\n",
    "df_loit_mod['starting_timestamp'] = df_loit_mod['start_time'].apply(lambda x: x.timestamp()) # Changing format of timestamps from object to float\n",
    "df_loit_mod['ending_timestamp'] = df_loit_mod['end_time'].apply(lambda x: x.timestamp())\n",
    "df_loit_mod.head()"
   ],
   "metadata": {
    "collapsed": false,
    "pycharm": {
     "name": "#%%\n"
    }
   }
  },
  {
   "cell_type": "markdown",
   "source": [
    "We rename the transshipment column make clear that it's a transshipment VESSEL attribute not one of a possible transshipment itself\n",
    "and rename the duration column to match the format of the encounter data set"
   ],
   "metadata": {
    "collapsed": false,
    "pycharm": {
     "name": "#%% md\n"
    }
   }
  },
  {
   "cell_type": "code",
   "execution_count": 115,
   "outputs": [],
   "source": [
    "df_loit_mod.rename(columns ={'transshipment_mmsi':'transshipment_vessel_mmsi', 'total_event_duration':'duration_hr'}, inplace = True)\n",
    "\n",
    "df_loit_mod['from_encounter'] = 0  # support variable need later after merging"
   ],
   "metadata": {
    "collapsed": false,
    "pycharm": {
     "name": "#%%\n"
    }
   }
  },
  {
   "cell_type": "code",
   "execution_count": 116,
   "outputs": [
    {
     "name": "stdout",
     "output_type": "stream",
     "text": [
      "<class 'pandas.core.frame.DataFrame'>\n",
      "Int64Index: 45919 entries, 0 to 46568\n",
      "Data columns (total 12 columns):\n",
      " #   Column                     Non-Null Count  Dtype              \n",
      "---  ------                     --------------  -----              \n",
      " 0   transshipment_vessel_mmsi  45919 non-null  int64              \n",
      " 1   starting_latitude          45919 non-null  float64            \n",
      " 2   starting_longitude         45919 non-null  float64            \n",
      " 3   ending_latitude            45919 non-null  float64            \n",
      " 4   ending_longitude           45919 non-null  float64            \n",
      " 5   starting_timestamp         45919 non-null  float64            \n",
      " 6   ending_timestamp           45919 non-null  float64            \n",
      " 7   median_speed_knots         45919 non-null  float64            \n",
      " 8   duration_hr                45919 non-null  float64            \n",
      " 9   start_time                 45919 non-null  datetime64[ns, UTC]\n",
      " 10  end_time                   45919 non-null  datetime64[ns, UTC]\n",
      " 11  from_encounter             45919 non-null  int64              \n",
      "dtypes: datetime64[ns, UTC](2), float64(8), int64(2)\n",
      "memory usage: 4.6 MB\n"
     ]
    },
    {
     "data": {
      "text/plain": "       transshipment_vessel_mmsi  starting_latitude  starting_longitude  \\\ncount               4.591900e+04       45919.000000        45919.000000   \nmean                3.984413e+08          13.520202           37.654230   \nstd                 1.223352e+08          35.437820          109.918414   \nmin                 2.000011e+08         -73.196533         -179.998672   \n25%                 2.738277e+08         -12.585608          -60.478582   \n50%                 3.578050e+08           8.777710           35.030396   \n75%                 5.142980e+08          45.622994          150.680130   \nmax                 8.006687e+08          80.176160          179.995407   \n\n       ending_latitude  ending_longitude  starting_timestamp  \\\ncount     45919.000000      45919.000000        4.591900e+04   \nmean         13.562817         37.726024        1.429944e+09   \nstd          35.377867        109.880895        5.435473e+07   \nmin         -87.215640       -179.985580        1.325378e+09   \n25%         -12.467200        -60.397284        1.384257e+09   \n50%           8.749802         35.255932        1.434330e+09   \n75%          45.658457        150.686340        1.476807e+09   \nmax          80.415280        179.998611        1.516290e+09   \n\n       ending_timestamp  median_speed_knots   duration_hr  from_encounter  \ncount      4.591900e+04        45919.000000  45919.000000         45919.0  \nmean       1.430045e+09            1.013651     29.714431             0.0  \nstd        5.434961e+07            0.410779     27.869862             0.0  \nmin        1.325398e+09            0.000000      8.000000             0.0  \n25%        1.384337e+09            0.754335     12.842361             0.0  \n50%        1.434418e+09            1.021990     19.552639             0.0  \n75%        1.476885e+09            1.302433     35.419861             0.0  \nmax        1.516320e+09            1.996064    199.666806             0.0  ",
      "text/html": "<div>\n<style scoped>\n    .dataframe tbody tr th:only-of-type {\n        vertical-align: middle;\n    }\n\n    .dataframe tbody tr th {\n        vertical-align: top;\n    }\n\n    .dataframe thead th {\n        text-align: right;\n    }\n</style>\n<table border=\"1\" class=\"dataframe\">\n  <thead>\n    <tr style=\"text-align: right;\">\n      <th></th>\n      <th>transshipment_vessel_mmsi</th>\n      <th>starting_latitude</th>\n      <th>starting_longitude</th>\n      <th>ending_latitude</th>\n      <th>ending_longitude</th>\n      <th>starting_timestamp</th>\n      <th>ending_timestamp</th>\n      <th>median_speed_knots</th>\n      <th>duration_hr</th>\n      <th>from_encounter</th>\n    </tr>\n  </thead>\n  <tbody>\n    <tr>\n      <th>count</th>\n      <td>4.591900e+04</td>\n      <td>45919.000000</td>\n      <td>45919.000000</td>\n      <td>45919.000000</td>\n      <td>45919.000000</td>\n      <td>4.591900e+04</td>\n      <td>4.591900e+04</td>\n      <td>45919.000000</td>\n      <td>45919.000000</td>\n      <td>45919.0</td>\n    </tr>\n    <tr>\n      <th>mean</th>\n      <td>3.984413e+08</td>\n      <td>13.520202</td>\n      <td>37.654230</td>\n      <td>13.562817</td>\n      <td>37.726024</td>\n      <td>1.429944e+09</td>\n      <td>1.430045e+09</td>\n      <td>1.013651</td>\n      <td>29.714431</td>\n      <td>0.0</td>\n    </tr>\n    <tr>\n      <th>std</th>\n      <td>1.223352e+08</td>\n      <td>35.437820</td>\n      <td>109.918414</td>\n      <td>35.377867</td>\n      <td>109.880895</td>\n      <td>5.435473e+07</td>\n      <td>5.434961e+07</td>\n      <td>0.410779</td>\n      <td>27.869862</td>\n      <td>0.0</td>\n    </tr>\n    <tr>\n      <th>min</th>\n      <td>2.000011e+08</td>\n      <td>-73.196533</td>\n      <td>-179.998672</td>\n      <td>-87.215640</td>\n      <td>-179.985580</td>\n      <td>1.325378e+09</td>\n      <td>1.325398e+09</td>\n      <td>0.000000</td>\n      <td>8.000000</td>\n      <td>0.0</td>\n    </tr>\n    <tr>\n      <th>25%</th>\n      <td>2.738277e+08</td>\n      <td>-12.585608</td>\n      <td>-60.478582</td>\n      <td>-12.467200</td>\n      <td>-60.397284</td>\n      <td>1.384257e+09</td>\n      <td>1.384337e+09</td>\n      <td>0.754335</td>\n      <td>12.842361</td>\n      <td>0.0</td>\n    </tr>\n    <tr>\n      <th>50%</th>\n      <td>3.578050e+08</td>\n      <td>8.777710</td>\n      <td>35.030396</td>\n      <td>8.749802</td>\n      <td>35.255932</td>\n      <td>1.434330e+09</td>\n      <td>1.434418e+09</td>\n      <td>1.021990</td>\n      <td>19.552639</td>\n      <td>0.0</td>\n    </tr>\n    <tr>\n      <th>75%</th>\n      <td>5.142980e+08</td>\n      <td>45.622994</td>\n      <td>150.680130</td>\n      <td>45.658457</td>\n      <td>150.686340</td>\n      <td>1.476807e+09</td>\n      <td>1.476885e+09</td>\n      <td>1.302433</td>\n      <td>35.419861</td>\n      <td>0.0</td>\n    </tr>\n    <tr>\n      <th>max</th>\n      <td>8.006687e+08</td>\n      <td>80.176160</td>\n      <td>179.995407</td>\n      <td>80.415280</td>\n      <td>179.998611</td>\n      <td>1.516290e+09</td>\n      <td>1.516320e+09</td>\n      <td>1.996064</td>\n      <td>199.666806</td>\n      <td>0.0</td>\n    </tr>\n  </tbody>\n</table>\n</div>"
     },
     "execution_count": 116,
     "metadata": {},
     "output_type": "execute_result"
    }
   ],
   "source": [
    "df_loit_mod.info()\n",
    "df_loit_mod.describe()"
   ],
   "metadata": {
    "collapsed": false,
    "pycharm": {
     "name": "#%%\n"
    }
   }
  },
  {
   "cell_type": "markdown",
   "metadata": {
    "pycharm": {
     "name": "#%% md\n"
    }
   },
   "source": [
    "### Vessel Dataset"
   ]
  },
  {
   "cell_type": "markdown",
   "metadata": {
    "pycharm": {
     "name": "#%% md\n"
    }
   },
   "source": [
    "This code:\n",
    "\n",
    "* removes all entries with duplicate values in mmsi [Team Decision] to avoid issues with future joins over all datasets\n",
    "* removes all entries with NA or null values in the mmsi feature\n",
    "* transforms timestamps into datetime objects"
   ]
  },
  {
   "cell_type": "code",
   "execution_count": 117,
   "metadata": {
    "pycharm": {
     "name": "#%%\n"
    }
   },
   "outputs": [
    {
     "name": "stdout",
     "output_type": "stream",
     "text": [
      "<class 'pandas.core.frame.DataFrame'>\n",
      "Int64Index: 1039 entries, 0 to 1069\n",
      "Data columns (total 7 columns):\n",
      " #   Column           Non-Null Count  Dtype              \n",
      "---  ------           --------------  -----              \n",
      " 0   mmsi             1039 non-null   float64            \n",
      " 1   shipname         1038 non-null   object             \n",
      " 2   callsign         1029 non-null   object             \n",
      " 3   flag             1039 non-null   object             \n",
      " 4   imo              991 non-null    float64            \n",
      " 5   first_timestamp  1039 non-null   datetime64[ns, UTC]\n",
      " 6   last_timestamp   1039 non-null   datetime64[ns, UTC]\n",
      "dtypes: datetime64[ns, UTC](2), float64(2), object(3)\n",
      "memory usage: 64.9+ KB\n"
     ]
    },
    {
     "name": "stderr",
     "output_type": "stream",
     "text": [
      "C:\\Users\\phili\\anaconda3\\lib\\site-packages\\pandas\\util\\_decorators.py:311: SettingWithCopyWarning: \n",
      "A value is trying to be set on a copy of a slice from a DataFrame\n",
      "\n",
      "See the caveats in the documentation: https://pandas.pydata.org/pandas-docs/stable/user_guide/indexing.html#returning-a-view-versus-a-copy\n",
      "  return func(*args, **kwargs)\n",
      "C:\\Users\\phili\\AppData\\Local\\Temp/ipykernel_13952/1299147005.py:9: SettingWithCopyWarning: \n",
      "A value is trying to be set on a copy of a slice from a DataFrame.\n",
      "Try using .loc[row_indexer,col_indexer] = value instead\n",
      "\n",
      "See the caveats in the documentation: https://pandas.pydata.org/pandas-docs/stable/user_guide/indexing.html#returning-a-view-versus-a-copy\n",
      "  df_ves_mod['first_timestamp'] = pd.to_datetime(df_ves_mod['first_timestamp']) #parsing timestamps\n",
      "C:\\Users\\phili\\AppData\\Local\\Temp/ipykernel_13952/1299147005.py:11: SettingWithCopyWarning: \n",
      "A value is trying to be set on a copy of a slice from a DataFrame.\n",
      "Try using .loc[row_indexer,col_indexer] = value instead\n",
      "\n",
      "See the caveats in the documentation: https://pandas.pydata.org/pandas-docs/stable/user_guide/indexing.html#returning-a-view-versus-a-copy\n",
      "  df_ves_mod['last_timestamp'] = pd.to_datetime(df_ves_mod['last_timestamp'])\n"
     ]
    },
    {
     "data": {
      "text/plain": "Index(['mmsi', 'shipname', 'callsign', 'flag', 'imo', 'first_timestamp',\n       'last_timestamp'],\n      dtype='object')"
     },
     "execution_count": 117,
     "metadata": {},
     "output_type": "execute_result"
    }
   ],
   "source": [
    "df_ves_mod = df_ves.dropna(subset=['mmsi'])\n",
    "#this is necessary to avoid weird (non sql) behavior from merge (nulls are recognized as keys!)\n",
    "####While this code creates a warning it is actually given as an example in the pandas documentation:\n",
    "#https://pandas.pydata.org/docs/reference/api/pandas.DataFrame.dropna.html\n",
    "\n",
    "df_ves_mod.drop_duplicates(subset = ['mmsi'], inplace = True) #dropping duplicates in feature mmsi\n",
    "\n",
    "\n",
    "df_ves_mod['first_timestamp'] = pd.to_datetime(df_ves_mod['first_timestamp']) #parsing timestamps\n",
    "\n",
    "df_ves_mod['last_timestamp'] = pd.to_datetime(df_ves_mod['last_timestamp'])\n",
    "\n",
    "df_ves_mod.info()\n",
    "df_ves_mod.describe()\n",
    "df_ves_mod.columns\n"
   ]
  },
  {
   "cell_type": "markdown",
   "metadata": {
    "pycharm": {
     "name": "#%% md\n"
    }
   },
   "source": [
    "## Aggregation"
   ]
  },
  {
   "cell_type": "markdown",
   "metadata": {
    "pycharm": {
     "name": "#%% md\n"
    }
   },
   "source": [
    "This code:\n",
    "\n",
    "* Aggregates(Stacks) Encounter and Loitering Datasets by keys and adds non matching features as additional columns\n",
    "* Removes redundant features\n",
    "* Reinserts the target feature as the first column "
   ]
  },
  {
   "cell_type": "code",
   "execution_count": 118,
   "metadata": {
    "pycharm": {
     "name": "#%%\n"
    }
   },
   "outputs": [
    {
     "ename": "KeyError",
     "evalue": "'encounter'",
     "output_type": "error",
     "traceback": [
      "\u001B[1;31m---------------------------------------------------------------------------\u001B[0m",
      "\u001B[1;31mKeyError\u001B[0m                                  Traceback (most recent call last)",
      "\u001B[1;32m~\\anaconda3\\lib\\site-packages\\pandas\\core\\indexes\\base.py\u001B[0m in \u001B[0;36mget_loc\u001B[1;34m(self, key, method, tolerance)\u001B[0m\n\u001B[0;32m   3360\u001B[0m             \u001B[1;32mtry\u001B[0m\u001B[1;33m:\u001B[0m\u001B[1;33m\u001B[0m\u001B[1;33m\u001B[0m\u001B[0m\n\u001B[1;32m-> 3361\u001B[1;33m                 \u001B[1;32mreturn\u001B[0m \u001B[0mself\u001B[0m\u001B[1;33m.\u001B[0m\u001B[0m_engine\u001B[0m\u001B[1;33m.\u001B[0m\u001B[0mget_loc\u001B[0m\u001B[1;33m(\u001B[0m\u001B[0mcasted_key\u001B[0m\u001B[1;33m)\u001B[0m\u001B[1;33m\u001B[0m\u001B[1;33m\u001B[0m\u001B[0m\n\u001B[0m\u001B[0;32m   3362\u001B[0m             \u001B[1;32mexcept\u001B[0m \u001B[0mKeyError\u001B[0m \u001B[1;32mas\u001B[0m \u001B[0merr\u001B[0m\u001B[1;33m:\u001B[0m\u001B[1;33m\u001B[0m\u001B[1;33m\u001B[0m\u001B[0m\n",
      "\u001B[1;32m~\\anaconda3\\lib\\site-packages\\pandas\\_libs\\index.pyx\u001B[0m in \u001B[0;36mpandas._libs.index.IndexEngine.get_loc\u001B[1;34m()\u001B[0m\n",
      "\u001B[1;32m~\\anaconda3\\lib\\site-packages\\pandas\\_libs\\index.pyx\u001B[0m in \u001B[0;36mpandas._libs.index.IndexEngine.get_loc\u001B[1;34m()\u001B[0m\n",
      "\u001B[1;32mpandas\\_libs\\hashtable_class_helper.pxi\u001B[0m in \u001B[0;36mpandas._libs.hashtable.PyObjectHashTable.get_item\u001B[1;34m()\u001B[0m\n",
      "\u001B[1;32mpandas\\_libs\\hashtable_class_helper.pxi\u001B[0m in \u001B[0;36mpandas._libs.hashtable.PyObjectHashTable.get_item\u001B[1;34m()\u001B[0m\n",
      "\u001B[1;31mKeyError\u001B[0m: 'encounter'",
      "\nThe above exception was the direct cause of the following exception:\n",
      "\u001B[1;31mKeyError\u001B[0m                                  Traceback (most recent call last)",
      "\u001B[1;32m~\\AppData\\Local\\Temp/ipykernel_13952/2625674893.py\u001B[0m in \u001B[0;36m<module>\u001B[1;34m\u001B[0m\n\u001B[0;32m      3\u001B[0m \u001B[0mdf_clean\u001B[0m \u001B[1;33m=\u001B[0m \u001B[0mdf_agg\u001B[0m\u001B[1;33m.\u001B[0m\u001B[0mcopy\u001B[0m\u001B[1;33m(\u001B[0m\u001B[1;33m)\u001B[0m\u001B[1;33m.\u001B[0m\u001B[0mdrop\u001B[0m\u001B[1;33m(\u001B[0m\u001B[1;33m[\u001B[0m\u001B[1;34m'starting_latitude'\u001B[0m\u001B[1;33m,\u001B[0m\u001B[1;34m'starting_longitude'\u001B[0m\u001B[1;33m,\u001B[0m \u001B[1;34m'ending_latitude'\u001B[0m\u001B[1;33m,\u001B[0m\u001B[1;34m'ending_longitude'\u001B[0m\u001B[1;33m]\u001B[0m\u001B[1;33m,\u001B[0m \u001B[0maxis\u001B[0m\u001B[1;33m=\u001B[0m \u001B[1;36m1\u001B[0m \u001B[1;33m)\u001B[0m\u001B[1;33m\u001B[0m\u001B[1;33m\u001B[0m\u001B[0m\n\u001B[0;32m      4\u001B[0m \u001B[1;31m#setting target as first column:\u001B[0m\u001B[1;33m\u001B[0m\u001B[1;33m\u001B[0m\u001B[0m\n\u001B[1;32m----> 5\u001B[1;33m \u001B[0mcol_en\u001B[0m \u001B[1;33m=\u001B[0m\u001B[0mdf_clean\u001B[0m\u001B[1;33m.\u001B[0m\u001B[0mpop\u001B[0m\u001B[1;33m(\u001B[0m\u001B[1;34m'encounter'\u001B[0m\u001B[1;33m)\u001B[0m\u001B[1;33m\u001B[0m\u001B[1;33m\u001B[0m\u001B[0m\n\u001B[0m\u001B[0;32m      6\u001B[0m \u001B[0mdf_clean\u001B[0m\u001B[1;33m.\u001B[0m\u001B[0minsert\u001B[0m\u001B[1;33m(\u001B[0m\u001B[1;36m0\u001B[0m\u001B[1;33m,\u001B[0m \u001B[0mcol_en\u001B[0m\u001B[1;33m.\u001B[0m\u001B[0mname\u001B[0m\u001B[1;33m,\u001B[0m\u001B[0mcol_en\u001B[0m\u001B[1;33m)\u001B[0m\u001B[1;33m\u001B[0m\u001B[1;33m\u001B[0m\u001B[0m\n\u001B[0;32m      7\u001B[0m \u001B[1;33m\u001B[0m\u001B[0m\n",
      "\u001B[1;32m~\\anaconda3\\lib\\site-packages\\pandas\\core\\frame.py\u001B[0m in \u001B[0;36mpop\u001B[1;34m(self, item)\u001B[0m\n\u001B[0;32m   5224\u001B[0m         \u001B[1;36m3\u001B[0m  \u001B[0mmonkey\u001B[0m        \u001B[0mNaN\u001B[0m\u001B[1;33m\u001B[0m\u001B[1;33m\u001B[0m\u001B[0m\n\u001B[0;32m   5225\u001B[0m         \"\"\"\n\u001B[1;32m-> 5226\u001B[1;33m         \u001B[1;32mreturn\u001B[0m \u001B[0msuper\u001B[0m\u001B[1;33m(\u001B[0m\u001B[1;33m)\u001B[0m\u001B[1;33m.\u001B[0m\u001B[0mpop\u001B[0m\u001B[1;33m(\u001B[0m\u001B[0mitem\u001B[0m\u001B[1;33m=\u001B[0m\u001B[0mitem\u001B[0m\u001B[1;33m)\u001B[0m\u001B[1;33m\u001B[0m\u001B[1;33m\u001B[0m\u001B[0m\n\u001B[0m\u001B[0;32m   5227\u001B[0m \u001B[1;33m\u001B[0m\u001B[0m\n\u001B[0;32m   5228\u001B[0m     \u001B[1;33m@\u001B[0m\u001B[0mdoc\u001B[0m\u001B[1;33m(\u001B[0m\u001B[0mNDFrame\u001B[0m\u001B[1;33m.\u001B[0m\u001B[0mreplace\u001B[0m\u001B[1;33m,\u001B[0m \u001B[1;33m**\u001B[0m\u001B[0m_shared_doc_kwargs\u001B[0m\u001B[1;33m)\u001B[0m\u001B[1;33m\u001B[0m\u001B[1;33m\u001B[0m\u001B[0m\n",
      "\u001B[1;32m~\\anaconda3\\lib\\site-packages\\pandas\\core\\generic.py\u001B[0m in \u001B[0;36mpop\u001B[1;34m(self, item)\u001B[0m\n\u001B[0;32m    868\u001B[0m \u001B[1;33m\u001B[0m\u001B[0m\n\u001B[0;32m    869\u001B[0m     \u001B[1;32mdef\u001B[0m \u001B[0mpop\u001B[0m\u001B[1;33m(\u001B[0m\u001B[0mself\u001B[0m\u001B[1;33m,\u001B[0m \u001B[0mitem\u001B[0m\u001B[1;33m:\u001B[0m \u001B[0mHashable\u001B[0m\u001B[1;33m)\u001B[0m \u001B[1;33m->\u001B[0m \u001B[0mSeries\u001B[0m \u001B[1;33m|\u001B[0m \u001B[0mAny\u001B[0m\u001B[1;33m:\u001B[0m\u001B[1;33m\u001B[0m\u001B[1;33m\u001B[0m\u001B[0m\n\u001B[1;32m--> 870\u001B[1;33m         \u001B[0mresult\u001B[0m \u001B[1;33m=\u001B[0m \u001B[0mself\u001B[0m\u001B[1;33m[\u001B[0m\u001B[0mitem\u001B[0m\u001B[1;33m]\u001B[0m\u001B[1;33m\u001B[0m\u001B[1;33m\u001B[0m\u001B[0m\n\u001B[0m\u001B[0;32m    871\u001B[0m         \u001B[1;32mdel\u001B[0m \u001B[0mself\u001B[0m\u001B[1;33m[\u001B[0m\u001B[0mitem\u001B[0m\u001B[1;33m]\u001B[0m\u001B[1;33m\u001B[0m\u001B[1;33m\u001B[0m\u001B[0m\n\u001B[0;32m    872\u001B[0m \u001B[1;33m\u001B[0m\u001B[0m\n",
      "\u001B[1;32m~\\anaconda3\\lib\\site-packages\\pandas\\core\\frame.py\u001B[0m in \u001B[0;36m__getitem__\u001B[1;34m(self, key)\u001B[0m\n\u001B[0;32m   3456\u001B[0m             \u001B[1;32mif\u001B[0m \u001B[0mself\u001B[0m\u001B[1;33m.\u001B[0m\u001B[0mcolumns\u001B[0m\u001B[1;33m.\u001B[0m\u001B[0mnlevels\u001B[0m \u001B[1;33m>\u001B[0m \u001B[1;36m1\u001B[0m\u001B[1;33m:\u001B[0m\u001B[1;33m\u001B[0m\u001B[1;33m\u001B[0m\u001B[0m\n\u001B[0;32m   3457\u001B[0m                 \u001B[1;32mreturn\u001B[0m \u001B[0mself\u001B[0m\u001B[1;33m.\u001B[0m\u001B[0m_getitem_multilevel\u001B[0m\u001B[1;33m(\u001B[0m\u001B[0mkey\u001B[0m\u001B[1;33m)\u001B[0m\u001B[1;33m\u001B[0m\u001B[1;33m\u001B[0m\u001B[0m\n\u001B[1;32m-> 3458\u001B[1;33m             \u001B[0mindexer\u001B[0m \u001B[1;33m=\u001B[0m \u001B[0mself\u001B[0m\u001B[1;33m.\u001B[0m\u001B[0mcolumns\u001B[0m\u001B[1;33m.\u001B[0m\u001B[0mget_loc\u001B[0m\u001B[1;33m(\u001B[0m\u001B[0mkey\u001B[0m\u001B[1;33m)\u001B[0m\u001B[1;33m\u001B[0m\u001B[1;33m\u001B[0m\u001B[0m\n\u001B[0m\u001B[0;32m   3459\u001B[0m             \u001B[1;32mif\u001B[0m \u001B[0mis_integer\u001B[0m\u001B[1;33m(\u001B[0m\u001B[0mindexer\u001B[0m\u001B[1;33m)\u001B[0m\u001B[1;33m:\u001B[0m\u001B[1;33m\u001B[0m\u001B[1;33m\u001B[0m\u001B[0m\n\u001B[0;32m   3460\u001B[0m                 \u001B[0mindexer\u001B[0m \u001B[1;33m=\u001B[0m \u001B[1;33m[\u001B[0m\u001B[0mindexer\u001B[0m\u001B[1;33m]\u001B[0m\u001B[1;33m\u001B[0m\u001B[1;33m\u001B[0m\u001B[0m\n",
      "\u001B[1;32m~\\anaconda3\\lib\\site-packages\\pandas\\core\\indexes\\base.py\u001B[0m in \u001B[0;36mget_loc\u001B[1;34m(self, key, method, tolerance)\u001B[0m\n\u001B[0;32m   3361\u001B[0m                 \u001B[1;32mreturn\u001B[0m \u001B[0mself\u001B[0m\u001B[1;33m.\u001B[0m\u001B[0m_engine\u001B[0m\u001B[1;33m.\u001B[0m\u001B[0mget_loc\u001B[0m\u001B[1;33m(\u001B[0m\u001B[0mcasted_key\u001B[0m\u001B[1;33m)\u001B[0m\u001B[1;33m\u001B[0m\u001B[1;33m\u001B[0m\u001B[0m\n\u001B[0;32m   3362\u001B[0m             \u001B[1;32mexcept\u001B[0m \u001B[0mKeyError\u001B[0m \u001B[1;32mas\u001B[0m \u001B[0merr\u001B[0m\u001B[1;33m:\u001B[0m\u001B[1;33m\u001B[0m\u001B[1;33m\u001B[0m\u001B[0m\n\u001B[1;32m-> 3363\u001B[1;33m                 \u001B[1;32mraise\u001B[0m \u001B[0mKeyError\u001B[0m\u001B[1;33m(\u001B[0m\u001B[0mkey\u001B[0m\u001B[1;33m)\u001B[0m \u001B[1;32mfrom\u001B[0m \u001B[0merr\u001B[0m\u001B[1;33m\u001B[0m\u001B[1;33m\u001B[0m\u001B[0m\n\u001B[0m\u001B[0;32m   3364\u001B[0m \u001B[1;33m\u001B[0m\u001B[0m\n\u001B[0;32m   3365\u001B[0m         \u001B[1;32mif\u001B[0m \u001B[0mis_scalar\u001B[0m\u001B[1;33m(\u001B[0m\u001B[0mkey\u001B[0m\u001B[1;33m)\u001B[0m \u001B[1;32mand\u001B[0m \u001B[0misna\u001B[0m\u001B[1;33m(\u001B[0m\u001B[0mkey\u001B[0m\u001B[1;33m)\u001B[0m \u001B[1;32mand\u001B[0m \u001B[1;32mnot\u001B[0m \u001B[0mself\u001B[0m\u001B[1;33m.\u001B[0m\u001B[0mhasnans\u001B[0m\u001B[1;33m:\u001B[0m\u001B[1;33m\u001B[0m\u001B[1;33m\u001B[0m\u001B[0m\n",
      "\u001B[1;31mKeyError\u001B[0m: 'encounter'"
     ]
    }
   ],
   "source": [
    "df_agg = pd.concat([df_enc_mod,df_loit_mod], ignore_index=True)\n",
    "#dropping redundant data:\n",
    "df_clean = df_agg.copy().drop(['starting_latitude','starting_longitude', 'ending_latitude','ending_longitude'], axis= 1 ) \n",
    "#setting target as first column:\n",
    "col_en =df_clean.pop('encounter')\n",
    "df_clean.insert(0, col_en.name,col_en)\n",
    "\n",
    "df_clean.head()\n",
    "df_clean.info()\n",
    "df_clean.tail()"
   ]
  },
  {
   "cell_type": "markdown",
   "metadata": {
    "pycharm": {
     "name": "#%% md\n"
    }
   },
   "source": [
    "##  Merging"
   ]
  },
  {
   "cell_type": "markdown",
   "metadata": {
    "pycharm": {
     "name": "#%% md\n"
    }
   },
   "source": [
    "This code:\n",
    "\n",
    "* Merges the aggregated datasets with the vessel data on the key pair 'transshipment_vessel_mmsi' and 'mmsi'\n",
    "* This is sufficient because no fishing vessels are in the vessel dataset\n",
    "* manually adds a suffix of '_t' to all features originating from the vessel dataset\n"
   ]
  },
  {
   "cell_type": "code",
   "execution_count": null,
   "metadata": {
    "pycharm": {
     "name": "#%%\n"
    }
   },
   "outputs": [],
   "source": [
    "df_clean_all = pd.merge(df_clean, df_ves_mod, how ='left', left_on ='transshipment_vessel_mmsi', right_on='mmsi')\n",
    "\n",
    "\n",
    "####Optional: add suffix to all added variables\n",
    "df_clean_all.rename(columns= { 'mmsi' : 'mmsi_t', 'shipname': 'shipname_t', 'callsign':'callsign_t', 'flag':'flag_t', 'imo': 'imo_t',\\\n",
    "     'first_timestamp': 'first_timestamp_t', 'last_timestamp':'last_timestamp_t'}, inplace = True)\n",
    "\n",
    "####This could be use to merge on fishing vessel, this is however not necessary in this context(No fishing vessels, only tranship)\n",
    "\n",
    "# df_clean_all = pd.merge(df_clean_all, df_ves_mod, how ='left', left_on ='fishing_vessel_mmsi', right_on='mmsi')\n",
    "# df_clean_all.rename(columns= { 'mmsi' : 'mmsi_f', 'shipname': 'shipname_f', 'callsign':'callsign_f', 'flag':'flag_f', 'imo': 'imo_f',\\\n",
    "#      'first_timestamp': 'first_timestamp_f', 'last_timestamp':'last_timestamp_f'}, inplace = True)\n",
    "\n",
    "df_clean.head()\n",
    "df_clean_all.info()\n",
    "df_clean_all.tail()"
   ]
  }
 ],
 "metadata": {
  "interpreter": {
   "hash": "2525ca78ad5a0849c517621bcdb6f6a8e4e6329015be4e411079257f1dd0fa01"
  },
  "kernelspec": {
   "display_name": "Python 3.9.12 ('base')",
   "language": "python",
   "name": "python3"
  },
  "language_info": {
   "codemirror_mode": {
    "name": "ipython",
    "version": 3
   },
   "file_extension": ".py",
   "mimetype": "text/x-python",
   "name": "python",
   "nbconvert_exporter": "python",
   "pygments_lexer": "ipython3",
   "version": "3.9.12"
  },
  "orig_nbformat": 4
 },
 "nbformat": 4,
 "nbformat_minor": 2
}
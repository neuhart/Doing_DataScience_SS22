{
 "cells": [
  {
   "cell_type": "markdown",
   "metadata": {
    "pycharm": {
     "name": "#%% md\n"
    }
   },
   "source": [
    "# Libraries"
   ]
  },
  {
   "cell_type": "code",
   "execution_count": 1,
   "metadata": {
    "pycharm": {
     "name": "#%%\n"
    }
   },
   "outputs": [],
   "source": [
    "import pandas as pd"
   ]
  },
  {
   "cell_type": "markdown",
   "metadata": {
    "pycharm": {
     "name": "#%% md\n"
    }
   },
   "source": [
    "# Importing Data"
   ]
  },
  {
   "cell_type": "markdown",
   "metadata": {
    "pycharm": {
     "name": "#%% md\n"
    }
   },
   "source": [
    "Encounter Data"
   ]
  },
  {
   "cell_type": "code",
   "execution_count": 2,
   "metadata": {
    "pycharm": {
     "name": "#%%\n"
    }
   },
   "outputs": [
    {
     "data": {
      "text/plain": "   fishing_vessel_mmsi  transshipment_vessel_mmsi            start_time  \\\n0            416565000                  354240000  2016-11-18T14:30:00Z   \n1            412679190                  354240000  2016-12-11T14:50:00Z   \n2            440863000                  354240000  2017-06-13T12:50:00Z   \n3            416563000                  354240000  2016-11-15T11:30:00Z   \n4            441309000                  354240000  2017-05-19T00:40:00Z   \n\n               end_time  mean_latitude  mean_longitude  duration_hr  \\\n0  2016-11-19T01:50:00Z     -17.039085      -79.063725    11.333333   \n1  2016-12-11T19:50:00Z     -20.269608      -79.244953     5.000000   \n2  2017-06-15T01:20:00Z     -62.640767      -60.690240    36.500000   \n3  2016-11-16T04:00:00Z     -17.046586      -79.061923    16.500000   \n4  2017-05-19T20:50:00Z     -46.627878      -60.554922    20.166667   \n\n   median_distance_km  median_speed_knots  \n0            0.038188            0.585402  \n1            0.020033            0.575663  \n2            0.054992            0.019775  \n3            0.036427            1.023917  \n4            0.034053            0.544031  ",
      "text/html": "<div>\n<style scoped>\n    .dataframe tbody tr th:only-of-type {\n        vertical-align: middle;\n    }\n\n    .dataframe tbody tr th {\n        vertical-align: top;\n    }\n\n    .dataframe thead th {\n        text-align: right;\n    }\n</style>\n<table border=\"1\" class=\"dataframe\">\n  <thead>\n    <tr style=\"text-align: right;\">\n      <th></th>\n      <th>fishing_vessel_mmsi</th>\n      <th>transshipment_vessel_mmsi</th>\n      <th>start_time</th>\n      <th>end_time</th>\n      <th>mean_latitude</th>\n      <th>mean_longitude</th>\n      <th>duration_hr</th>\n      <th>median_distance_km</th>\n      <th>median_speed_knots</th>\n    </tr>\n  </thead>\n  <tbody>\n    <tr>\n      <td>0</td>\n      <td>416565000</td>\n      <td>354240000</td>\n      <td>2016-11-18T14:30:00Z</td>\n      <td>2016-11-19T01:50:00Z</td>\n      <td>-17.039085</td>\n      <td>-79.063725</td>\n      <td>11.333333</td>\n      <td>0.038188</td>\n      <td>0.585402</td>\n    </tr>\n    <tr>\n      <td>1</td>\n      <td>412679190</td>\n      <td>354240000</td>\n      <td>2016-12-11T14:50:00Z</td>\n      <td>2016-12-11T19:50:00Z</td>\n      <td>-20.269608</td>\n      <td>-79.244953</td>\n      <td>5.000000</td>\n      <td>0.020033</td>\n      <td>0.575663</td>\n    </tr>\n    <tr>\n      <td>2</td>\n      <td>440863000</td>\n      <td>354240000</td>\n      <td>2017-06-13T12:50:00Z</td>\n      <td>2017-06-15T01:20:00Z</td>\n      <td>-62.640767</td>\n      <td>-60.690240</td>\n      <td>36.500000</td>\n      <td>0.054992</td>\n      <td>0.019775</td>\n    </tr>\n    <tr>\n      <td>3</td>\n      <td>416563000</td>\n      <td>354240000</td>\n      <td>2016-11-15T11:30:00Z</td>\n      <td>2016-11-16T04:00:00Z</td>\n      <td>-17.046586</td>\n      <td>-79.061923</td>\n      <td>16.500000</td>\n      <td>0.036427</td>\n      <td>1.023917</td>\n    </tr>\n    <tr>\n      <td>4</td>\n      <td>441309000</td>\n      <td>354240000</td>\n      <td>2017-05-19T00:40:00Z</td>\n      <td>2017-05-19T20:50:00Z</td>\n      <td>-46.627878</td>\n      <td>-60.554922</td>\n      <td>20.166667</td>\n      <td>0.034053</td>\n      <td>0.544031</td>\n    </tr>\n  </tbody>\n</table>\n</div>"
     },
     "execution_count": 2,
     "metadata": {},
     "output_type": "execute_result"
    }
   ],
   "source": [
    "df_enc = pd.read_csv('data\\encounter-events.csv')\n",
    "df_enc.head()"
   ]
  },
  {
   "cell_type": "markdown",
   "metadata": {
    "pycharm": {
     "name": "#%% md\n"
    }
   },
   "source": [
    "Loitering Data"
   ]
  },
  {
   "cell_type": "code",
   "execution_count": 3,
   "metadata": {
    "pycharm": {
     "name": "#%%\n"
    }
   },
   "outputs": [
    {
     "data": {
      "text/plain": "   transshipment_mmsi  starting_latitude  starting_longitude  ending_latitude  \\\n0           256064000          12.793800          -69.503235        12.727950   \n1           256064000          25.405013          -56.302800        25.393350   \n2           256064000          10.693413          -78.512800        10.484500   \n3           256064000          11.858933          -75.553383        12.007627   \n4           256064000          45.938747          -23.796960        45.976960   \n\n   ending_longitude    starting_timestamp      ending_timestamp  \\\n0        -69.739120  2017-09-06T02:11:32Z  2017-09-06T15:44:15Z   \n1        -56.488250  2017-07-22T13:19:49Z  2017-07-22T23:59:17Z   \n2        -78.884300  2017-11-29T14:48:51Z  2017-11-30T07:43:36Z   \n3        -75.535627  2017-09-07T23:39:03Z  2017-09-08T14:59:26Z   \n4        -23.449387  2017-08-17T23:18:21Z  2017-08-18T17:56:30Z   \n\n   median_speed_knots  total_event_duration  \n0            1.091065             13.915556  \n1            1.548335             10.897639  \n2            1.503456             18.001389  \n3            0.650355             16.193611  \n4            1.009874             19.748333  ",
      "text/html": "<div>\n<style scoped>\n    .dataframe tbody tr th:only-of-type {\n        vertical-align: middle;\n    }\n\n    .dataframe tbody tr th {\n        vertical-align: top;\n    }\n\n    .dataframe thead th {\n        text-align: right;\n    }\n</style>\n<table border=\"1\" class=\"dataframe\">\n  <thead>\n    <tr style=\"text-align: right;\">\n      <th></th>\n      <th>transshipment_mmsi</th>\n      <th>starting_latitude</th>\n      <th>starting_longitude</th>\n      <th>ending_latitude</th>\n      <th>ending_longitude</th>\n      <th>starting_timestamp</th>\n      <th>ending_timestamp</th>\n      <th>median_speed_knots</th>\n      <th>total_event_duration</th>\n    </tr>\n  </thead>\n  <tbody>\n    <tr>\n      <td>0</td>\n      <td>256064000</td>\n      <td>12.793800</td>\n      <td>-69.503235</td>\n      <td>12.727950</td>\n      <td>-69.739120</td>\n      <td>2017-09-06T02:11:32Z</td>\n      <td>2017-09-06T15:44:15Z</td>\n      <td>1.091065</td>\n      <td>13.915556</td>\n    </tr>\n    <tr>\n      <td>1</td>\n      <td>256064000</td>\n      <td>25.405013</td>\n      <td>-56.302800</td>\n      <td>25.393350</td>\n      <td>-56.488250</td>\n      <td>2017-07-22T13:19:49Z</td>\n      <td>2017-07-22T23:59:17Z</td>\n      <td>1.548335</td>\n      <td>10.897639</td>\n    </tr>\n    <tr>\n      <td>2</td>\n      <td>256064000</td>\n      <td>10.693413</td>\n      <td>-78.512800</td>\n      <td>10.484500</td>\n      <td>-78.884300</td>\n      <td>2017-11-29T14:48:51Z</td>\n      <td>2017-11-30T07:43:36Z</td>\n      <td>1.503456</td>\n      <td>18.001389</td>\n    </tr>\n    <tr>\n      <td>3</td>\n      <td>256064000</td>\n      <td>11.858933</td>\n      <td>-75.553383</td>\n      <td>12.007627</td>\n      <td>-75.535627</td>\n      <td>2017-09-07T23:39:03Z</td>\n      <td>2017-09-08T14:59:26Z</td>\n      <td>0.650355</td>\n      <td>16.193611</td>\n    </tr>\n    <tr>\n      <td>4</td>\n      <td>256064000</td>\n      <td>45.938747</td>\n      <td>-23.796960</td>\n      <td>45.976960</td>\n      <td>-23.449387</td>\n      <td>2017-08-17T23:18:21Z</td>\n      <td>2017-08-18T17:56:30Z</td>\n      <td>1.009874</td>\n      <td>19.748333</td>\n    </tr>\n  </tbody>\n</table>\n</div>"
     },
     "execution_count": 3,
     "metadata": {},
     "output_type": "execute_result"
    }
   ],
   "source": [
    "df_loit = pd.read_csv('data\\loitering-events.csv')\n",
    "df_loit.head()"
   ]
  },
  {
   "cell_type": "markdown",
   "metadata": {
    "pycharm": {
     "name": "#%% md\n"
    }
   },
   "source": [
    "Vessel Data"
   ]
  },
  {
   "cell_type": "code",
   "execution_count": 4,
   "metadata": {
    "pycharm": {
     "name": "#%%\n"
    }
   },
   "outputs": [
    {
     "data": {
      "text/plain": "          mmsi       shipname callsign flag        imo       first_timestamp  \\\n0  306117000.0   SIERRALAUREL     PJBQ  ANT  9163403.0  2018-03-29T08:34:21Z   \n1  306873000.0    SIERRALEYRE     PJJZ  ANT  9135822.0  2012-01-01T01:06:00Z   \n2     309681.0    GREENBRAZIL    C6WH6  BHS  9045792.0  2018-06-29T10:34:00Z   \n3  308735000.0  NOVA BRETAGNE    C6JI7  BHS  9000364.0  2012-01-01T00:39:08Z   \n4  311000682.0    SIERRA LARA    C6DI3  BHS  9120205.0  2017-07-03T10:28:05Z   \n\n         last_timestamp  \n0  2018-06-30T17:08:41Z  \n1  2012-06-26T08:58:28Z  \n2  2018-06-30T23:47:40Z  \n3  2013-09-12T10:03:48Z  \n4  2018-06-30T23:35:36Z  ",
      "text/html": "<div>\n<style scoped>\n    .dataframe tbody tr th:only-of-type {\n        vertical-align: middle;\n    }\n\n    .dataframe tbody tr th {\n        vertical-align: top;\n    }\n\n    .dataframe thead th {\n        text-align: right;\n    }\n</style>\n<table border=\"1\" class=\"dataframe\">\n  <thead>\n    <tr style=\"text-align: right;\">\n      <th></th>\n      <th>mmsi</th>\n      <th>shipname</th>\n      <th>callsign</th>\n      <th>flag</th>\n      <th>imo</th>\n      <th>first_timestamp</th>\n      <th>last_timestamp</th>\n    </tr>\n  </thead>\n  <tbody>\n    <tr>\n      <td>0</td>\n      <td>306117000.0</td>\n      <td>SIERRALAUREL</td>\n      <td>PJBQ</td>\n      <td>ANT</td>\n      <td>9163403.0</td>\n      <td>2018-03-29T08:34:21Z</td>\n      <td>2018-06-30T17:08:41Z</td>\n    </tr>\n    <tr>\n      <td>1</td>\n      <td>306873000.0</td>\n      <td>SIERRALEYRE</td>\n      <td>PJJZ</td>\n      <td>ANT</td>\n      <td>9135822.0</td>\n      <td>2012-01-01T01:06:00Z</td>\n      <td>2012-06-26T08:58:28Z</td>\n    </tr>\n    <tr>\n      <td>2</td>\n      <td>309681.0</td>\n      <td>GREENBRAZIL</td>\n      <td>C6WH6</td>\n      <td>BHS</td>\n      <td>9045792.0</td>\n      <td>2018-06-29T10:34:00Z</td>\n      <td>2018-06-30T23:47:40Z</td>\n    </tr>\n    <tr>\n      <td>3</td>\n      <td>308735000.0</td>\n      <td>NOVA BRETAGNE</td>\n      <td>C6JI7</td>\n      <td>BHS</td>\n      <td>9000364.0</td>\n      <td>2012-01-01T00:39:08Z</td>\n      <td>2013-09-12T10:03:48Z</td>\n    </tr>\n    <tr>\n      <td>4</td>\n      <td>311000682.0</td>\n      <td>SIERRA LARA</td>\n      <td>C6DI3</td>\n      <td>BHS</td>\n      <td>9120205.0</td>\n      <td>2017-07-03T10:28:05Z</td>\n      <td>2018-06-30T23:35:36Z</td>\n    </tr>\n  </tbody>\n</table>\n</div>"
     },
     "execution_count": 4,
     "metadata": {},
     "output_type": "execute_result"
    }
   ],
   "source": [
    "df_ves = pd.read_csv('data/transshipment-vessels.csv') \n",
    "\n",
    "df_ves.head()"
   ]
  },
  {
   "cell_type": "markdown",
   "metadata": {
    "pycharm": {
     "name": "#%% md\n"
    }
   },
   "source": [
    "# Data Transformation"
   ]
  },
  {
   "cell_type": "markdown",
   "metadata": {
    "pycharm": {
     "name": "#%% md\n"
    }
   },
   "source": [
    "## Individual"
   ]
  },
  {
   "cell_type": "markdown",
   "metadata": {
    "pycharm": {
     "name": "#%% md\n"
    }
   },
   "source": [
    "### Encounter Dataset"
   ]
  },
  {
   "cell_type": "markdown",
   "metadata": {
    "pycharm": {
     "name": "#%% md\n"
    }
   },
   "source": [
    "This code:\n",
    "\n",
    "* removes all entries with duplicate values over all features\n",
    "* removes outliers in duration_hr column\n",
    "* transforms timestamps into datetime objects\n",
    "* adds a target feature to the dataset"
   ]
  },
  {
   "cell_type": "code",
   "execution_count": 5,
   "metadata": {
    "pycharm": {
     "name": "#%%\n"
    }
   },
   "outputs": [
    {
     "name": "stdout",
     "output_type": "stream",
     "text": [
      "<class 'pandas.core.frame.DataFrame'>\n",
      "Int64Index: 11583 entries, 0 to 11680\n",
      "Data columns (total 10 columns):\n",
      "fishing_vessel_mmsi          11583 non-null int64\n",
      "transshipment_vessel_mmsi    11583 non-null int64\n",
      "start_time                   11583 non-null datetime64[ns, UTC]\n",
      "end_time                     11583 non-null datetime64[ns, UTC]\n",
      "mean_latitude                11583 non-null float64\n",
      "mean_longitude               11583 non-null float64\n",
      "duration_hr                  11583 non-null float64\n",
      "median_distance_km           11583 non-null float64\n",
      "median_speed_knots           11583 non-null float64\n",
      "encounter                    11583 non-null int64\n",
      "dtypes: datetime64[ns, UTC](2), float64(5), int64(3)\n",
      "memory usage: 995.4 KB\n"
     ]
    },
    {
     "data": {
      "text/plain": "Index(['fishing_vessel_mmsi', 'transshipment_vessel_mmsi', 'start_time',\n       'end_time', 'mean_latitude', 'mean_longitude', 'duration_hr',\n       'median_distance_km', 'median_speed_knots', 'encounter'],\n      dtype='object')"
     },
     "execution_count": 5,
     "metadata": {},
     "output_type": "execute_result"
    }
   ],
   "source": [
    "df_enc_mod = df_enc.copy()\n",
    "\n",
    "df_enc_mod = df_enc_mod.loc[df_enc_mod['duration_hr'] <= 65]  # remove outliers detected in the EDA file\n",
    "print('{} encounterings left in the dataset'.format(df_enc_mod.shape[0]))\n",
    "\n",
    "df_enc_mod.drop_duplicates(inplace = True)  # remove duplicates\n",
    "\n",
    "df_enc_mod['start_time'] = pd.to_datetime(df_enc['start_time'])  # parse time objects\n",
    "df_enc_mod['end_time'] = pd.to_datetime(df_enc['end_time'])\n",
    "df_enc_mod['from_encounter'] = 1 \n",
    "df_enc_mod.info()\n",
    "df_enc_mod.head()\n",
    "df_enc_mod.columns"
   ]
  },
  {
   "cell_type": "markdown",
   "metadata": {
    "pycharm": {
     "name": "#%% md\n"
    }
   },
   "source": [
    "### Loitering Dataset"
   ]
  },
  {
   "cell_type": "markdown",
   "metadata": {
    "pycharm": {
     "name": "#%% md\n"
    }
   },
   "source": [
    "This code:\n",
    "\n",
    "* removes all entries with duplicate values over all features\n",
    "* transforms timestamps into datetime objects\n",
    "* adds a target feature to the dataset\n",
    "* both transforms and renames features to those in the encounter dataset"
   ]
  },
  {
   "cell_type": "code",
   "execution_count": 6,
   "metadata": {
    "pycharm": {
     "name": "#%%\n"
    }
   },
   "outputs": [
    {
     "name": "stdout",
     "output_type": "stream",
     "text": [
      "<class 'pandas.core.frame.DataFrame'>\n",
      "Int64Index: 46385 entries, 0 to 46568\n",
      "Data columns (total 12 columns):\n",
      "transshipment_vessel_mmsi    46385 non-null int64\n",
      "starting_latitude            46385 non-null float64\n",
      "starting_longitude           46385 non-null float64\n",
      "ending_latitude              46385 non-null float64\n",
      "ending_longitude             46385 non-null float64\n",
      "median_speed_knots           46385 non-null float64\n",
      "duration_hr                  46385 non-null float64\n",
      "start_time                   46385 non-null datetime64[ns, UTC]\n",
      "end_time                     46385 non-null datetime64[ns, UTC]\n",
      "mean_latitude                46385 non-null float64\n",
      "mean_longitude               46385 non-null float64\n",
      "encounter                    46385 non-null int64\n",
      "dtypes: datetime64[ns, UTC](2), float64(8), int64(2)\n",
      "memory usage: 4.6 MB\n"
     ]
    },
    {
     "data": {
      "text/plain": "Index(['transshipment_vessel_mmsi', 'starting_latitude', 'starting_longitude',\n       'ending_latitude', 'ending_longitude', 'median_speed_knots',\n       'duration_hr', 'start_time', 'end_time', 'mean_latitude',\n       'mean_longitude', 'encounter'],\n      dtype='object')"
     },
     "execution_count": 6,
     "metadata": {},
     "output_type": "execute_result"
    }
   ],
   "source": [
    "df_loit_mod =  df_loit.copy()\n",
    "df_loit_mod.drop_duplicates(inplace = True)  # dropping duplicates\n",
    "\n",
    "\n",
    "df_loit_mod['start_time'] = pd.to_datetime(df_loit['starting_timestamp'])  # parsing timestamps\n",
    "\n",
    "df_loit_mod['end_time'] = pd.to_datetime(df_loit['ending_timestamp'])\n",
    "\n",
    "df_loit_mod.drop(['starting_timestamp', 'ending_timestamp'], axis=1, inplace=True)\n",
    "\n",
    "\n",
    "df_loit_mod['mean_latitude'] = (df_loit_mod['starting_latitude']+df_loit_mod['ending_latitude'])/2  # transforming locations to mean\n",
    "df_loit_mod['mean_longitude'] = (df_loit_mod['starting_longitude']+df_loit_mod['ending_longitude'])/2\n",
    "\n",
    "df_loit_mod.rename(columns ={'transshipment_mmsi':'transshipment_vessel_mmsi', 'total_event_duration':'duration_hr'}, inplace = True)\n",
    "\n",
    "df_loit_mod['from_encounter'] = 0  # creating target variable\n",
    "\n",
    "df_loit_mod.info()\n",
    "df_loit_mod.describe()\n",
    "df_loit_mod.columns"
   ]
  },
  {
   "cell_type": "markdown",
   "metadata": {
    "pycharm": {
     "name": "#%% md\n"
    }
   },
   "source": [
    "### Vessel Dataset"
   ]
  },
  {
   "cell_type": "markdown",
   "metadata": {
    "pycharm": {
     "name": "#%% md\n"
    }
   },
   "source": [
    "This code:\n",
    "\n",
    "* removes all entries with duplicate values in mmsi [Team Decision] to avoid issues with future joins over all datasets\n",
    "* removes all entries with NA or null values in the mmsi feature\n",
    "* transforms timestamps into datetime objects"
   ]
  },
  {
   "cell_type": "code",
   "execution_count": 7,
   "metadata": {
    "pycharm": {
     "name": "#%%\n"
    }
   },
   "outputs": [
    {
     "name": "stdout",
     "output_type": "stream",
     "text": [
      "<class 'pandas.core.frame.DataFrame'>\n",
      "Int64Index: 1039 entries, 0 to 1069\n",
      "Data columns (total 7 columns):\n",
      "mmsi               1039 non-null float64\n",
      "shipname           1038 non-null object\n",
      "callsign           1029 non-null object\n",
      "flag               1039 non-null object\n",
      "imo                991 non-null float64\n",
      "first_timestamp    1039 non-null datetime64[ns, UTC]\n",
      "last_timestamp     1039 non-null datetime64[ns, UTC]\n",
      "dtypes: datetime64[ns, UTC](2), float64(2), object(3)\n",
      "memory usage: 64.9+ KB\n"
     ]
    },
    {
     "name": "stderr",
     "output_type": "stream",
     "text": [
      "C:\\Users\\phili\\Anaconda3\\lib\\site-packages\\ipykernel_launcher.py:6: SettingWithCopyWarning: \n",
      "A value is trying to be set on a copy of a slice from a DataFrame\n",
      "\n",
      "See the caveats in the documentation: http://pandas.pydata.org/pandas-docs/stable/user_guide/indexing.html#returning-a-view-versus-a-copy\n",
      "  \n",
      "C:\\Users\\phili\\Anaconda3\\lib\\site-packages\\ipykernel_launcher.py:9: SettingWithCopyWarning: \n",
      "A value is trying to be set on a copy of a slice from a DataFrame.\n",
      "Try using .loc[row_indexer,col_indexer] = value instead\n",
      "\n",
      "See the caveats in the documentation: http://pandas.pydata.org/pandas-docs/stable/user_guide/indexing.html#returning-a-view-versus-a-copy\n",
      "  if __name__ == '__main__':\n",
      "C:\\Users\\phili\\Anaconda3\\lib\\site-packages\\ipykernel_launcher.py:11: SettingWithCopyWarning: \n",
      "A value is trying to be set on a copy of a slice from a DataFrame.\n",
      "Try using .loc[row_indexer,col_indexer] = value instead\n",
      "\n",
      "See the caveats in the documentation: http://pandas.pydata.org/pandas-docs/stable/user_guide/indexing.html#returning-a-view-versus-a-copy\n",
      "  # This is added back by InteractiveShellApp.init_path()\n"
     ]
    },
    {
     "data": {
      "text/plain": "Index(['mmsi', 'shipname', 'callsign', 'flag', 'imo', 'first_timestamp',\n       'last_timestamp'],\n      dtype='object')"
     },
     "execution_count": 7,
     "metadata": {},
     "output_type": "execute_result"
    }
   ],
   "source": [
    "df_ves_mod = df_ves.dropna(subset=['mmsi'])\n",
    "#this is necessary to avoid weird (non sql) behavior from merge (nulls are recognized as keys!)\n",
    "####While this code creates a warning it is actually given as an example in the pandas documentation:\n",
    "#https://pandas.pydata.org/docs/reference/api/pandas.DataFrame.dropna.html\n",
    "\n",
    "df_ves_mod.drop_duplicates(subset = ['mmsi'], inplace = True) #dropping duplicates in feature mmsi\n",
    "\n",
    "\n",
    "df_ves_mod['first_timestamp'] = pd.to_datetime(df_ves_mod['first_timestamp']) #parsing timestamps\n",
    "\n",
    "df_ves_mod['last_timestamp'] = pd.to_datetime(df_ves_mod['last_timestamp'])\n",
    "\n",
    "df_ves_mod.info()\n",
    "df_ves_mod.describe()\n",
    "df_ves_mod.columns\n"
   ]
  },
  {
   "cell_type": "markdown",
   "metadata": {
    "pycharm": {
     "name": "#%% md\n"
    }
   },
   "source": [
    "## Aggregation"
   ]
  },
  {
   "cell_type": "markdown",
   "metadata": {
    "pycharm": {
     "name": "#%% md\n"
    }
   },
   "source": [
    "This code:\n",
    "\n",
    "* Aggregates(Stacks) Encounter and Loitering Datasets by keys and adds non matching features as additional columns\n",
    "* Removes redundant features\n",
    "* Reinserts the target feature as the first column "
   ]
  },
  {
   "cell_type": "code",
   "execution_count": 8,
   "metadata": {
    "pycharm": {
     "name": "#%%\n"
    }
   },
   "outputs": [
    {
     "name": "stdout",
     "output_type": "stream",
     "text": [
      "<class 'pandas.core.frame.DataFrame'>\n",
      "RangeIndex: 57968 entries, 0 to 57967\n",
      "Data columns (total 10 columns):\n",
      "encounter                    57968 non-null int64\n",
      "duration_hr                  57968 non-null float64\n",
      "end_time                     57968 non-null datetime64[ns, UTC]\n",
      "fishing_vessel_mmsi          11583 non-null float64\n",
      "mean_latitude                57968 non-null float64\n",
      "mean_longitude               57968 non-null float64\n",
      "median_distance_km           11583 non-null float64\n",
      "median_speed_knots           57968 non-null float64\n",
      "start_time                   57968 non-null datetime64[ns, UTC]\n",
      "transshipment_vessel_mmsi    57968 non-null int64\n",
      "dtypes: datetime64[ns, UTC](2), float64(6), int64(2)\n",
      "memory usage: 4.4 MB\n"
     ]
    },
    {
     "name": "stderr",
     "output_type": "stream",
     "text": [
      "C:\\Users\\phili\\Anaconda3\\lib\\site-packages\\ipykernel_launcher.py:1: FutureWarning: Sorting because non-concatenation axis is not aligned. A future version\n",
      "of pandas will change to not sort by default.\n",
      "\n",
      "To accept the future behavior, pass 'sort=False'.\n",
      "\n",
      "To retain the current behavior and silence the warning, pass 'sort=True'.\n",
      "\n",
      "  \"\"\"Entry point for launching an IPython kernel.\n"
     ]
    },
    {
     "data": {
      "text/plain": "       encounter  duration_hr                  end_time  fishing_vessel_mmsi  \\\n57963          0    16.982917 2017-09-29 22:49:11+00:00                  NaN   \n57964          0    17.053056 2016-11-20 00:58:25+00:00                  NaN   \n57965          0    25.157083 2014-06-28 01:21:20+00:00                  NaN   \n57966          0    29.134444 2016-10-30 21:12:23+00:00                  NaN   \n57967          0    34.060139 2015-07-19 01:59:49+00:00                  NaN   \n\n       mean_latitude  mean_longitude  median_distance_km  median_speed_knots  \\\n57963      51.945812      155.562330                 NaN            1.092219   \n57964      48.793993      141.242218                 NaN            0.764958   \n57965      58.224653      153.102242                 NaN            0.560717   \n57966      57.452946      150.443527                 NaN            0.545175   \n57967      57.563541      151.103195                 NaN            0.456930   \n\n                     start_time  transshipment_vessel_mmsi  \n57963 2017-09-29 07:55:39+00:00                  273349630  \n57964 2016-11-19 08:08:13+00:00                  273349630  \n57965 2014-06-27 01:32:36+00:00                  273349630  \n57966 2016-10-29 17:22:12+00:00                  273349630  \n57967 2015-07-17 18:14:48+00:00                  273349630  ",
      "text/html": "<div>\n<style scoped>\n    .dataframe tbody tr th:only-of-type {\n        vertical-align: middle;\n    }\n\n    .dataframe tbody tr th {\n        vertical-align: top;\n    }\n\n    .dataframe thead th {\n        text-align: right;\n    }\n</style>\n<table border=\"1\" class=\"dataframe\">\n  <thead>\n    <tr style=\"text-align: right;\">\n      <th></th>\n      <th>encounter</th>\n      <th>duration_hr</th>\n      <th>end_time</th>\n      <th>fishing_vessel_mmsi</th>\n      <th>mean_latitude</th>\n      <th>mean_longitude</th>\n      <th>median_distance_km</th>\n      <th>median_speed_knots</th>\n      <th>start_time</th>\n      <th>transshipment_vessel_mmsi</th>\n    </tr>\n  </thead>\n  <tbody>\n    <tr>\n      <td>57963</td>\n      <td>0</td>\n      <td>16.982917</td>\n      <td>2017-09-29 22:49:11+00:00</td>\n      <td>NaN</td>\n      <td>51.945812</td>\n      <td>155.562330</td>\n      <td>NaN</td>\n      <td>1.092219</td>\n      <td>2017-09-29 07:55:39+00:00</td>\n      <td>273349630</td>\n    </tr>\n    <tr>\n      <td>57964</td>\n      <td>0</td>\n      <td>17.053056</td>\n      <td>2016-11-20 00:58:25+00:00</td>\n      <td>NaN</td>\n      <td>48.793993</td>\n      <td>141.242218</td>\n      <td>NaN</td>\n      <td>0.764958</td>\n      <td>2016-11-19 08:08:13+00:00</td>\n      <td>273349630</td>\n    </tr>\n    <tr>\n      <td>57965</td>\n      <td>0</td>\n      <td>25.157083</td>\n      <td>2014-06-28 01:21:20+00:00</td>\n      <td>NaN</td>\n      <td>58.224653</td>\n      <td>153.102242</td>\n      <td>NaN</td>\n      <td>0.560717</td>\n      <td>2014-06-27 01:32:36+00:00</td>\n      <td>273349630</td>\n    </tr>\n    <tr>\n      <td>57966</td>\n      <td>0</td>\n      <td>29.134444</td>\n      <td>2016-10-30 21:12:23+00:00</td>\n      <td>NaN</td>\n      <td>57.452946</td>\n      <td>150.443527</td>\n      <td>NaN</td>\n      <td>0.545175</td>\n      <td>2016-10-29 17:22:12+00:00</td>\n      <td>273349630</td>\n    </tr>\n    <tr>\n      <td>57967</td>\n      <td>0</td>\n      <td>34.060139</td>\n      <td>2015-07-19 01:59:49+00:00</td>\n      <td>NaN</td>\n      <td>57.563541</td>\n      <td>151.103195</td>\n      <td>NaN</td>\n      <td>0.456930</td>\n      <td>2015-07-17 18:14:48+00:00</td>\n      <td>273349630</td>\n    </tr>\n  </tbody>\n</table>\n</div>"
     },
     "execution_count": 8,
     "metadata": {},
     "output_type": "execute_result"
    }
   ],
   "source": [
    "df_agg = pd.concat([df_enc_mod,df_loit_mod], ignore_index=True)\n",
    "#dropping redundant data:\n",
    "df_clean = df_agg.copy().drop(['starting_latitude','starting_longitude', 'ending_latitude','ending_longitude'], axis= 1 ) \n",
    "#setting target as first column:\n",
    "col_en =df_clean.pop('encounter')\n",
    "df_clean.insert(0, col_en.name,col_en)\n",
    "\n",
    "df_clean.head()\n",
    "df_clean.info()\n",
    "df_clean.tail()"
   ]
  },
  {
   "cell_type": "markdown",
   "metadata": {
    "pycharm": {
     "name": "#%% md\n"
    }
   },
   "source": [
    "##  Merging"
   ]
  },
  {
   "cell_type": "markdown",
   "metadata": {
    "pycharm": {
     "name": "#%% md\n"
    }
   },
   "source": [
    "This code:\n",
    "\n",
    "* Merges the aggregated datasets with the vessel data on the key pair 'transshipment_vessel_mmsi' and 'mmsi'\n",
    "* This is sufficient because no fishing vessels are in the vessel dataset\n",
    "* manually adds a suffix of '_t' to all features originating from the vessel dataset\n"
   ]
  },
  {
   "cell_type": "code",
   "execution_count": 9,
   "metadata": {
    "pycharm": {
     "name": "#%%\n"
    }
   },
   "outputs": [
    {
     "name": "stdout",
     "output_type": "stream",
     "text": [
      "<class 'pandas.core.frame.DataFrame'>\n",
      "Int64Index: 57968 entries, 0 to 57967\n",
      "Data columns (total 17 columns):\n",
      "encounter                    57968 non-null int64\n",
      "duration_hr                  57968 non-null float64\n",
      "end_time                     57968 non-null datetime64[ns, UTC]\n",
      "fishing_vessel_mmsi          11583 non-null float64\n",
      "mean_latitude                57968 non-null float64\n",
      "mean_longitude               57968 non-null float64\n",
      "median_distance_km           11583 non-null float64\n",
      "median_speed_knots           57968 non-null float64\n",
      "start_time                   57968 non-null datetime64[ns, UTC]\n",
      "transshipment_vessel_mmsi    57968 non-null int64\n",
      "mmsi_t                       51502 non-null float64\n",
      "shipname_t                   51384 non-null object\n",
      "callsign_t                   51390 non-null object\n",
      "flag_t                       51502 non-null object\n",
      "imo_t                        51052 non-null float64\n",
      "first_timestamp_t            51502 non-null datetime64[ns, UTC]\n",
      "last_timestamp_t             51502 non-null datetime64[ns, UTC]\n",
      "dtypes: datetime64[ns, UTC](4), float64(8), int64(2), object(3)\n",
      "memory usage: 8.0+ MB\n"
     ]
    },
    {
     "data": {
      "text/plain": "       encounter  duration_hr                  end_time  fishing_vessel_mmsi  \\\n57963          0    16.982917 2017-09-29 22:49:11+00:00                  NaN   \n57964          0    17.053056 2016-11-20 00:58:25+00:00                  NaN   \n57965          0    25.157083 2014-06-28 01:21:20+00:00                  NaN   \n57966          0    29.134444 2016-10-30 21:12:23+00:00                  NaN   \n57967          0    34.060139 2015-07-19 01:59:49+00:00                  NaN   \n\n       mean_latitude  mean_longitude  median_distance_km  median_speed_knots  \\\n57963      51.945812      155.562330                 NaN            1.092219   \n57964      48.793993      141.242218                 NaN            0.764958   \n57965      58.224653      153.102242                 NaN            0.560717   \n57966      57.452946      150.443527                 NaN            0.545175   \n57967      57.563541      151.103195                 NaN            0.456930   \n\n                     start_time  transshipment_vessel_mmsi       mmsi_t  \\\n57963 2017-09-29 07:55:39+00:00                  273349630  273349630.0   \n57964 2016-11-19 08:08:13+00:00                  273349630  273349630.0   \n57965 2014-06-27 01:32:36+00:00                  273349630  273349630.0   \n57966 2016-10-29 17:22:12+00:00                  273349630  273349630.0   \n57967 2015-07-17 18:14:48+00:00                  273349630  273349630.0   \n\n      shipname_t callsign_t flag_t      imo_t         first_timestamp_t  \\\n57963     ZODIAK      UBFG9    RUS  8712300.0 2012-02-03 11:26:34+00:00   \n57964     ZODIAK      UBFG9    RUS  8712300.0 2012-02-03 11:26:34+00:00   \n57965     ZODIAK      UBFG9    RUS  8712300.0 2012-02-03 11:26:34+00:00   \n57966     ZODIAK      UBFG9    RUS  8712300.0 2012-02-03 11:26:34+00:00   \n57967     ZODIAK      UBFG9    RUS  8712300.0 2012-02-03 11:26:34+00:00   \n\n               last_timestamp_t  \n57963 2018-06-30 00:13:21+00:00  \n57964 2018-06-30 00:13:21+00:00  \n57965 2018-06-30 00:13:21+00:00  \n57966 2018-06-30 00:13:21+00:00  \n57967 2018-06-30 00:13:21+00:00  ",
      "text/html": "<div>\n<style scoped>\n    .dataframe tbody tr th:only-of-type {\n        vertical-align: middle;\n    }\n\n    .dataframe tbody tr th {\n        vertical-align: top;\n    }\n\n    .dataframe thead th {\n        text-align: right;\n    }\n</style>\n<table border=\"1\" class=\"dataframe\">\n  <thead>\n    <tr style=\"text-align: right;\">\n      <th></th>\n      <th>encounter</th>\n      <th>duration_hr</th>\n      <th>end_time</th>\n      <th>fishing_vessel_mmsi</th>\n      <th>mean_latitude</th>\n      <th>mean_longitude</th>\n      <th>median_distance_km</th>\n      <th>median_speed_knots</th>\n      <th>start_time</th>\n      <th>transshipment_vessel_mmsi</th>\n      <th>mmsi_t</th>\n      <th>shipname_t</th>\n      <th>callsign_t</th>\n      <th>flag_t</th>\n      <th>imo_t</th>\n      <th>first_timestamp_t</th>\n      <th>last_timestamp_t</th>\n    </tr>\n  </thead>\n  <tbody>\n    <tr>\n      <td>57963</td>\n      <td>0</td>\n      <td>16.982917</td>\n      <td>2017-09-29 22:49:11+00:00</td>\n      <td>NaN</td>\n      <td>51.945812</td>\n      <td>155.562330</td>\n      <td>NaN</td>\n      <td>1.092219</td>\n      <td>2017-09-29 07:55:39+00:00</td>\n      <td>273349630</td>\n      <td>273349630.0</td>\n      <td>ZODIAK</td>\n      <td>UBFG9</td>\n      <td>RUS</td>\n      <td>8712300.0</td>\n      <td>2012-02-03 11:26:34+00:00</td>\n      <td>2018-06-30 00:13:21+00:00</td>\n    </tr>\n    <tr>\n      <td>57964</td>\n      <td>0</td>\n      <td>17.053056</td>\n      <td>2016-11-20 00:58:25+00:00</td>\n      <td>NaN</td>\n      <td>48.793993</td>\n      <td>141.242218</td>\n      <td>NaN</td>\n      <td>0.764958</td>\n      <td>2016-11-19 08:08:13+00:00</td>\n      <td>273349630</td>\n      <td>273349630.0</td>\n      <td>ZODIAK</td>\n      <td>UBFG9</td>\n      <td>RUS</td>\n      <td>8712300.0</td>\n      <td>2012-02-03 11:26:34+00:00</td>\n      <td>2018-06-30 00:13:21+00:00</td>\n    </tr>\n    <tr>\n      <td>57965</td>\n      <td>0</td>\n      <td>25.157083</td>\n      <td>2014-06-28 01:21:20+00:00</td>\n      <td>NaN</td>\n      <td>58.224653</td>\n      <td>153.102242</td>\n      <td>NaN</td>\n      <td>0.560717</td>\n      <td>2014-06-27 01:32:36+00:00</td>\n      <td>273349630</td>\n      <td>273349630.0</td>\n      <td>ZODIAK</td>\n      <td>UBFG9</td>\n      <td>RUS</td>\n      <td>8712300.0</td>\n      <td>2012-02-03 11:26:34+00:00</td>\n      <td>2018-06-30 00:13:21+00:00</td>\n    </tr>\n    <tr>\n      <td>57966</td>\n      <td>0</td>\n      <td>29.134444</td>\n      <td>2016-10-30 21:12:23+00:00</td>\n      <td>NaN</td>\n      <td>57.452946</td>\n      <td>150.443527</td>\n      <td>NaN</td>\n      <td>0.545175</td>\n      <td>2016-10-29 17:22:12+00:00</td>\n      <td>273349630</td>\n      <td>273349630.0</td>\n      <td>ZODIAK</td>\n      <td>UBFG9</td>\n      <td>RUS</td>\n      <td>8712300.0</td>\n      <td>2012-02-03 11:26:34+00:00</td>\n      <td>2018-06-30 00:13:21+00:00</td>\n    </tr>\n    <tr>\n      <td>57967</td>\n      <td>0</td>\n      <td>34.060139</td>\n      <td>2015-07-19 01:59:49+00:00</td>\n      <td>NaN</td>\n      <td>57.563541</td>\n      <td>151.103195</td>\n      <td>NaN</td>\n      <td>0.456930</td>\n      <td>2015-07-17 18:14:48+00:00</td>\n      <td>273349630</td>\n      <td>273349630.0</td>\n      <td>ZODIAK</td>\n      <td>UBFG9</td>\n      <td>RUS</td>\n      <td>8712300.0</td>\n      <td>2012-02-03 11:26:34+00:00</td>\n      <td>2018-06-30 00:13:21+00:00</td>\n    </tr>\n  </tbody>\n</table>\n</div>"
     },
     "execution_count": 9,
     "metadata": {},
     "output_type": "execute_result"
    }
   ],
   "source": [
    "df_clean_all = pd.merge(df_clean, df_ves_mod, how ='left', left_on ='transshipment_vessel_mmsi', right_on='mmsi')\n",
    "\n",
    "\n",
    "####Optional: add suffix to all added variables\n",
    "df_clean_all.rename(columns= { 'mmsi' : 'mmsi_t', 'shipname': 'shipname_t', 'callsign':'callsign_t', 'flag':'flag_t', 'imo': 'imo_t',\\\n",
    "     'first_timestamp': 'first_timestamp_t', 'last_timestamp':'last_timestamp_t'}, inplace = True)\n",
    "\n",
    "####This could be use to merge on fishing vessel, this is however not necessary in this context(No fishing vessels, only tranship)\n",
    "\n",
    "# df_clean_all = pd.merge(df_clean_all, df_ves_mod, how ='left', left_on ='fishing_vessel_mmsi', right_on='mmsi')\n",
    "# df_clean_all.rename(columns= { 'mmsi' : 'mmsi_f', 'shipname': 'shipname_f', 'callsign':'callsign_f', 'flag':'flag_f', 'imo': 'imo_f',\\\n",
    "#      'first_timestamp': 'first_timestamp_f', 'last_timestamp':'last_timestamp_f'}, inplace = True)\n",
    "\n",
    "df_clean.head()\n",
    "df_clean_all.info()\n",
    "df_clean_all.tail()"
   ]
  }
 ],
 "metadata": {
  "interpreter": {
   "hash": "2525ca78ad5a0849c517621bcdb6f6a8e4e6329015be4e411079257f1dd0fa01"
  },
  "kernelspec": {
   "display_name": "Python 3.9.12 ('base')",
   "language": "python",
   "name": "python3"
  },
  "language_info": {
   "codemirror_mode": {
    "name": "ipython",
    "version": 3
   },
   "file_extension": ".py",
   "mimetype": "text/x-python",
   "name": "python",
   "nbconvert_exporter": "python",
   "pygments_lexer": "ipython3",
   "version": "3.9.12"
  },
  "orig_nbformat": 4
 },
 "nbformat": 4,
 "nbformat_minor": 2
}
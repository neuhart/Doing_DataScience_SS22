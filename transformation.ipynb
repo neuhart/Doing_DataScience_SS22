{
 "cells": [
  {
   "cell_type": "code",
   "execution_count": 364,
   "metadata": {
    "pycharm": {
     "name": "#%%\n"
    }
   },
   "outputs": [],
   "source": [
    "import pandas as pd"
   ]
  },
  {
   "cell_type": "code",
   "execution_count": 365,
   "metadata": {
    "pycharm": {
     "name": "#%%\n"
    }
   },
   "outputs": [],
   "source": [
    "df_enc = pd.read_csv('data\\encounter-events.csv')\n",
    "df_loit = pd.read_csv('data\\loitering-events.csv')\n",
    "df_ves = pd.read_csv('data/transshipment-vessels.csv')"
   ]
  },
  {
   "cell_type": "markdown",
   "metadata": {
    "pycharm": {
     "name": "#%% md\n"
    }
   },
   "source": [
    "# Data Transformation"
   ]
  },
  {
   "cell_type": "markdown",
   "metadata": {
    "pycharm": {
     "name": "#%% md\n"
    }
   },
   "source": [
    "## Preprocessing"
   ]
  },
  {
   "cell_type": "markdown",
   "metadata": {
    "pycharm": {
     "name": "#%% md\n"
    }
   },
   "source": [
    "### Encounter Dataset"
   ]
  },
  {
   "cell_type": "markdown",
   "metadata": {
    "pycharm": {
     "name": "#%% md\n"
    }
   },
   "source": [
    "This code:\n",
    "\n",
    "* removes all entries with duplicate values over all features\n",
    "* removes outliers in duration_hr column\n",
    "* transforms timestamps into floats and creates new time features as datetime objects\n",
    "* adds a support feature to the dataset"
   ]
  },
  {
   "cell_type": "code",
   "execution_count": 366,
   "metadata": {
    "pycharm": {
     "name": "#%%\n"
    }
   },
   "outputs": [
    {
     "name": "stdout",
     "output_type": "stream",
     "text": [
      "11470 encounterings left in the dataset\n"
     ]
    }
   ],
   "source": [
    "df_enc_mod = df_enc.copy()\n",
    "\n",
    "df_enc_mod = df_enc_mod.loc[df_enc_mod['duration_hr'] <= 65]  # remove outliers detected in the EDA file\n",
    "\n",
    "df_enc_mod.drop_duplicates(inplace = True)  # remove duplicates\n",
    "\n",
    "print('{} encounterings left in the dataset'.format(df_enc_mod.shape[0]))"
   ]
  },
  {
   "cell_type": "code",
   "execution_count": 367,
   "outputs": [
    {
     "data": {
      "text/plain": "   fishing_vessel_mmsi  transshipment_vessel_mmsi                start_time  \\\n0            416565000                  354240000 2016-11-18 14:30:00+00:00   \n1            412679190                  354240000 2016-12-11 14:50:00+00:00   \n2            440863000                  354240000 2017-06-13 12:50:00+00:00   \n3            416563000                  354240000 2016-11-15 11:30:00+00:00   \n4            441309000                  354240000 2017-05-19 00:40:00+00:00   \n\n                   end_time  mean_latitude  mean_longitude  duration_hr  \\\n0 2016-11-19 01:50:00+00:00     -17.039085      -79.063725    11.333333   \n1 2016-12-11 19:50:00+00:00     -20.269608      -79.244953     5.000000   \n2 2017-06-15 01:20:00+00:00     -62.640767      -60.690240    36.500000   \n3 2016-11-16 04:00:00+00:00     -17.046586      -79.061923    16.500000   \n4 2017-05-19 20:50:00+00:00     -46.627878      -60.554922    20.166667   \n\n   median_distance_km  median_speed_knots  starting_timestamp  \\\n0            0.038188            0.585402        1.479479e+09   \n1            0.020033            0.575663        1.481468e+09   \n2            0.054992            0.019775        1.497358e+09   \n3            0.036427            1.023917        1.479209e+09   \n4            0.034053            0.544031        1.495154e+09   \n\n   ending_timestamp  \n0      1.479520e+09  \n1      1.481486e+09  \n2      1.497490e+09  \n3      1.479269e+09  \n4      1.495227e+09  ",
      "text/html": "<div>\n<style scoped>\n    .dataframe tbody tr th:only-of-type {\n        vertical-align: middle;\n    }\n\n    .dataframe tbody tr th {\n        vertical-align: top;\n    }\n\n    .dataframe thead th {\n        text-align: right;\n    }\n</style>\n<table border=\"1\" class=\"dataframe\">\n  <thead>\n    <tr style=\"text-align: right;\">\n      <th></th>\n      <th>fishing_vessel_mmsi</th>\n      <th>transshipment_vessel_mmsi</th>\n      <th>start_time</th>\n      <th>end_time</th>\n      <th>mean_latitude</th>\n      <th>mean_longitude</th>\n      <th>duration_hr</th>\n      <th>median_distance_km</th>\n      <th>median_speed_knots</th>\n      <th>starting_timestamp</th>\n      <th>ending_timestamp</th>\n    </tr>\n  </thead>\n  <tbody>\n    <tr>\n      <th>0</th>\n      <td>416565000</td>\n      <td>354240000</td>\n      <td>2016-11-18 14:30:00+00:00</td>\n      <td>2016-11-19 01:50:00+00:00</td>\n      <td>-17.039085</td>\n      <td>-79.063725</td>\n      <td>11.333333</td>\n      <td>0.038188</td>\n      <td>0.585402</td>\n      <td>1.479479e+09</td>\n      <td>1.479520e+09</td>\n    </tr>\n    <tr>\n      <th>1</th>\n      <td>412679190</td>\n      <td>354240000</td>\n      <td>2016-12-11 14:50:00+00:00</td>\n      <td>2016-12-11 19:50:00+00:00</td>\n      <td>-20.269608</td>\n      <td>-79.244953</td>\n      <td>5.000000</td>\n      <td>0.020033</td>\n      <td>0.575663</td>\n      <td>1.481468e+09</td>\n      <td>1.481486e+09</td>\n    </tr>\n    <tr>\n      <th>2</th>\n      <td>440863000</td>\n      <td>354240000</td>\n      <td>2017-06-13 12:50:00+00:00</td>\n      <td>2017-06-15 01:20:00+00:00</td>\n      <td>-62.640767</td>\n      <td>-60.690240</td>\n      <td>36.500000</td>\n      <td>0.054992</td>\n      <td>0.019775</td>\n      <td>1.497358e+09</td>\n      <td>1.497490e+09</td>\n    </tr>\n    <tr>\n      <th>3</th>\n      <td>416563000</td>\n      <td>354240000</td>\n      <td>2016-11-15 11:30:00+00:00</td>\n      <td>2016-11-16 04:00:00+00:00</td>\n      <td>-17.046586</td>\n      <td>-79.061923</td>\n      <td>16.500000</td>\n      <td>0.036427</td>\n      <td>1.023917</td>\n      <td>1.479209e+09</td>\n      <td>1.479269e+09</td>\n    </tr>\n    <tr>\n      <th>4</th>\n      <td>441309000</td>\n      <td>354240000</td>\n      <td>2017-05-19 00:40:00+00:00</td>\n      <td>2017-05-19 20:50:00+00:00</td>\n      <td>-46.627878</td>\n      <td>-60.554922</td>\n      <td>20.166667</td>\n      <td>0.034053</td>\n      <td>0.544031</td>\n      <td>1.495154e+09</td>\n      <td>1.495227e+09</td>\n    </tr>\n  </tbody>\n</table>\n</div>"
     },
     "execution_count": 367,
     "metadata": {},
     "output_type": "execute_result"
    }
   ],
   "source": [
    "df_enc_mod['start_time'] = pd.to_datetime(df_enc['start_time'])  # parse time objects\n",
    "df_enc_mod['end_time'] = pd.to_datetime(df_enc['end_time'])\n",
    "\n",
    "df_enc_mod['starting_timestamp'] = df_enc_mod['start_time'].apply(lambda x: x.timestamp()) # Changing format of timestamps from object to float\n",
    "df_enc_mod['ending_timestamp'] = df_enc_mod['end_time'].apply(lambda x: x.timestamp())\n",
    "df_enc_mod.head()"
   ],
   "metadata": {
    "collapsed": false,
    "pycharm": {
     "name": "#%%\n"
    }
   }
  },
  {
   "cell_type": "code",
   "execution_count": 368,
   "outputs": [],
   "source": [
    "df_enc_mod['from_encounter'] = 1  # support variable need later after merging"
   ],
   "metadata": {
    "collapsed": false,
    "pycharm": {
     "name": "#%%\n"
    }
   }
  },
  {
   "cell_type": "code",
   "execution_count": 369,
   "outputs": [
    {
     "name": "stdout",
     "output_type": "stream",
     "text": [
      "<class 'pandas.core.frame.DataFrame'>\n",
      "Int64Index: 11470 entries, 0 to 11680\n",
      "Data columns (total 12 columns):\n",
      " #   Column                     Non-Null Count  Dtype              \n",
      "---  ------                     --------------  -----              \n",
      " 0   fishing_vessel_mmsi        11470 non-null  int64              \n",
      " 1   transshipment_vessel_mmsi  11470 non-null  int64              \n",
      " 2   start_time                 11470 non-null  datetime64[ns, UTC]\n",
      " 3   end_time                   11470 non-null  datetime64[ns, UTC]\n",
      " 4   mean_latitude              11470 non-null  float64            \n",
      " 5   mean_longitude             11470 non-null  float64            \n",
      " 6   duration_hr                11470 non-null  float64            \n",
      " 7   median_distance_km         11470 non-null  float64            \n",
      " 8   median_speed_knots         11470 non-null  float64            \n",
      " 9   starting_timestamp         11470 non-null  float64            \n",
      " 10  ending_timestamp           11470 non-null  float64            \n",
      " 11  from_encounter             11470 non-null  int64              \n",
      "dtypes: datetime64[ns, UTC](2), float64(7), int64(3)\n",
      "memory usage: 1.1 MB\n"
     ]
    }
   ],
   "source": [
    "df_enc_mod.info()"
   ],
   "metadata": {
    "collapsed": false,
    "pycharm": {
     "name": "#%%\n"
    }
   }
  },
  {
   "cell_type": "markdown",
   "metadata": {
    "pycharm": {
     "name": "#%% md\n"
    }
   },
   "source": [
    "### Loitering Dataset"
   ]
  },
  {
   "cell_type": "markdown",
   "metadata": {
    "pycharm": {
     "name": "#%% md\n"
    }
   },
   "source": [
    "This code:\n",
    "\n",
    "* removes all entries with duplicate values over all features\n",
    "* remove outliers in total_even_duration column\n",
    "* Creates new feature and removes redundant features\n",
    "* transforms timestamps into floats and creates new time features as datetime objects\n",
    "* adds a support feature to the dataset\n",
    "* both transforms and renames features to those in the encounter dataset"
   ]
  },
  {
   "cell_type": "code",
   "execution_count": 370,
   "metadata": {
    "pycharm": {
     "name": "#%%\n"
    }
   },
   "outputs": [
    {
     "name": "stdout",
     "output_type": "stream",
     "text": [
      "45919 loitering events left in the dataset\n"
     ]
    }
   ],
   "source": [
    "df_loit_mod =  df_loit.copy()\n",
    "\n",
    "df_loit_mod = df_loit_mod.loc[df_loit_mod['total_event_duration'] <= 200]  # remove outliers detected in the EDA file\n",
    "\n",
    "df_loit_mod.drop_duplicates(inplace = True)  # dropping duplicates\n",
    "\n",
    "print('{} loitering events left in the dataset'.format(df_loit_mod.shape[0]))"
   ]
  },
  {
   "cell_type": "markdown",
   "source": [
    "The next step consists of creating mean variable for both latitude and longitude coordinates to match the format of the encounter dataset"
   ],
   "metadata": {
    "collapsed": false,
    "pycharm": {
     "name": "#%% md\n"
    }
   }
  },
  {
   "cell_type": "code",
   "execution_count": 371,
   "outputs": [],
   "source": [
    "df_loit_mod['mean_latitude'] = (df_loit_mod['starting_latitude']+df_loit_mod['ending_latitude'])/2  # transforming locations to mean\n",
    "df_loit_mod['mean_longitude'] = (df_loit_mod['starting_longitude']+df_loit_mod['ending_longitude'])/2\n",
    "df_loit_mod.drop(columns=['starting_latitude','ending_latitude','starting_longitude', 'ending_longitude'], inplace=True)  # drop old columns"
   ],
   "metadata": {
    "collapsed": false,
    "pycharm": {
     "name": "#%%\n"
    }
   }
  },
  {
   "cell_type": "code",
   "execution_count": 372,
   "outputs": [
    {
     "data": {
      "text/plain": "   transshipment_mmsi  starting_timestamp  ending_timestamp  \\\n0           256064000        1.504664e+09      1.504713e+09   \n1           256064000        1.500730e+09      1.500768e+09   \n2           256064000        1.511967e+09      1.512028e+09   \n3           256064000        1.504828e+09      1.504883e+09   \n4           256064000        1.503012e+09      1.503079e+09   \n\n   median_speed_knots  total_event_duration  mean_latitude  mean_longitude  \\\n0            1.091065             13.915556      12.760875      -69.621178   \n1            1.548335             10.897639      25.399182      -56.395525   \n2            1.503456             18.001389      10.588957      -78.698550   \n3            0.650355             16.193611      11.933280      -75.544505   \n4            1.009874             19.748333      45.957853      -23.623173   \n\n                 start_time                  end_time  \n0 2017-09-06 02:11:32+00:00 2017-09-06 15:44:15+00:00  \n1 2017-07-22 13:19:49+00:00 2017-07-22 23:59:17+00:00  \n2 2017-11-29 14:48:51+00:00 2017-11-30 07:43:36+00:00  \n3 2017-09-07 23:39:03+00:00 2017-09-08 14:59:26+00:00  \n4 2017-08-17 23:18:21+00:00 2017-08-18 17:56:30+00:00  ",
      "text/html": "<div>\n<style scoped>\n    .dataframe tbody tr th:only-of-type {\n        vertical-align: middle;\n    }\n\n    .dataframe tbody tr th {\n        vertical-align: top;\n    }\n\n    .dataframe thead th {\n        text-align: right;\n    }\n</style>\n<table border=\"1\" class=\"dataframe\">\n  <thead>\n    <tr style=\"text-align: right;\">\n      <th></th>\n      <th>transshipment_mmsi</th>\n      <th>starting_timestamp</th>\n      <th>ending_timestamp</th>\n      <th>median_speed_knots</th>\n      <th>total_event_duration</th>\n      <th>mean_latitude</th>\n      <th>mean_longitude</th>\n      <th>start_time</th>\n      <th>end_time</th>\n    </tr>\n  </thead>\n  <tbody>\n    <tr>\n      <th>0</th>\n      <td>256064000</td>\n      <td>1.504664e+09</td>\n      <td>1.504713e+09</td>\n      <td>1.091065</td>\n      <td>13.915556</td>\n      <td>12.760875</td>\n      <td>-69.621178</td>\n      <td>2017-09-06 02:11:32+00:00</td>\n      <td>2017-09-06 15:44:15+00:00</td>\n    </tr>\n    <tr>\n      <th>1</th>\n      <td>256064000</td>\n      <td>1.500730e+09</td>\n      <td>1.500768e+09</td>\n      <td>1.548335</td>\n      <td>10.897639</td>\n      <td>25.399182</td>\n      <td>-56.395525</td>\n      <td>2017-07-22 13:19:49+00:00</td>\n      <td>2017-07-22 23:59:17+00:00</td>\n    </tr>\n    <tr>\n      <th>2</th>\n      <td>256064000</td>\n      <td>1.511967e+09</td>\n      <td>1.512028e+09</td>\n      <td>1.503456</td>\n      <td>18.001389</td>\n      <td>10.588957</td>\n      <td>-78.698550</td>\n      <td>2017-11-29 14:48:51+00:00</td>\n      <td>2017-11-30 07:43:36+00:00</td>\n    </tr>\n    <tr>\n      <th>3</th>\n      <td>256064000</td>\n      <td>1.504828e+09</td>\n      <td>1.504883e+09</td>\n      <td>0.650355</td>\n      <td>16.193611</td>\n      <td>11.933280</td>\n      <td>-75.544505</td>\n      <td>2017-09-07 23:39:03+00:00</td>\n      <td>2017-09-08 14:59:26+00:00</td>\n    </tr>\n    <tr>\n      <th>4</th>\n      <td>256064000</td>\n      <td>1.503012e+09</td>\n      <td>1.503079e+09</td>\n      <td>1.009874</td>\n      <td>19.748333</td>\n      <td>45.957853</td>\n      <td>-23.623173</td>\n      <td>2017-08-17 23:18:21+00:00</td>\n      <td>2017-08-18 17:56:30+00:00</td>\n    </tr>\n  </tbody>\n</table>\n</div>"
     },
     "execution_count": 372,
     "metadata": {},
     "output_type": "execute_result"
    }
   ],
   "source": [
    "df_loit_mod['start_time'] = pd.to_datetime(df_loit['starting_timestamp'])  # Create new start time column with datetime format\n",
    "df_loit_mod['end_time'] = pd.to_datetime(df_loit['ending_timestamp'])\n",
    "\n",
    "df_loit_mod['starting_timestamp'] = df_loit_mod['start_time'].apply(lambda x: x.timestamp()) # Changing format of timestamps from object to float\n",
    "df_loit_mod['ending_timestamp'] = df_loit_mod['end_time'].apply(lambda x: x.timestamp())\n",
    "df_loit_mod.head()"
   ],
   "metadata": {
    "collapsed": false,
    "pycharm": {
     "name": "#%%\n"
    }
   }
  },
  {
   "cell_type": "markdown",
   "source": [
    "We rename the transshipment column make clear that it's a transshipment VESSEL attribute not one of a possible transshipment itself\n",
    "and rename the duration column to match the format of the encounter data set"
   ],
   "metadata": {
    "collapsed": false,
    "pycharm": {
     "name": "#%% md\n"
    }
   }
  },
  {
   "cell_type": "code",
   "execution_count": 373,
   "outputs": [],
   "source": [
    "df_loit_mod.rename(columns ={'transshipment_mmsi':'transshipment_vessel_mmsi', 'total_event_duration':'duration_hr'}, inplace = True)\n",
    "\n",
    "df_loit_mod['from_encounter'] = 0  # support variable need later after merging"
   ],
   "metadata": {
    "collapsed": false,
    "pycharm": {
     "name": "#%%\n"
    }
   }
  },
  {
   "cell_type": "code",
   "execution_count": 374,
   "outputs": [
    {
     "name": "stdout",
     "output_type": "stream",
     "text": [
      "<class 'pandas.core.frame.DataFrame'>\n",
      "Int64Index: 45919 entries, 0 to 46568\n",
      "Data columns (total 10 columns):\n",
      " #   Column                     Non-Null Count  Dtype              \n",
      "---  ------                     --------------  -----              \n",
      " 0   transshipment_vessel_mmsi  45919 non-null  int64              \n",
      " 1   starting_timestamp         45919 non-null  float64            \n",
      " 2   ending_timestamp           45919 non-null  float64            \n",
      " 3   median_speed_knots         45919 non-null  float64            \n",
      " 4   duration_hr                45919 non-null  float64            \n",
      " 5   mean_latitude              45919 non-null  float64            \n",
      " 6   mean_longitude             45919 non-null  float64            \n",
      " 7   start_time                 45919 non-null  datetime64[ns, UTC]\n",
      " 8   end_time                   45919 non-null  datetime64[ns, UTC]\n",
      " 9   from_encounter             45919 non-null  int64              \n",
      "dtypes: datetime64[ns, UTC](2), float64(6), int64(2)\n",
      "memory usage: 3.9 MB\n"
     ]
    }
   ],
   "source": [
    "df_loit_mod.info()"
   ],
   "metadata": {
    "collapsed": false,
    "pycharm": {
     "name": "#%%\n"
    }
   }
  },
  {
   "cell_type": "markdown",
   "metadata": {
    "pycharm": {
     "name": "#%% md\n"
    }
   },
   "source": [
    "### Vessel Dataset"
   ]
  },
  {
   "cell_type": "markdown",
   "metadata": {
    "pycharm": {
     "name": "#%% md\n"
    }
   },
   "source": [
    "This code:\n",
    "\n",
    "* removes all entries with duplicate values in mmsi [Team Decision] to avoid issues with future joins over all datasets\n",
    "* removes all entries with NA or null values in the mmsi feature\n",
    "* transforms timestamps into datetime objects"
   ]
  },
  {
   "cell_type": "code",
   "execution_count": 375,
   "outputs": [
    {
     "data": {
      "text/plain": "           mmsi        shipname callsign flag        imo  \\\n17  352610000.0  HAINANBAOSHA12    C6NP6  BHS  9063653.0   \n46  312413000.0        QIAO TAI    V3TV5  BLZ  9677595.0   \n50  518332000.0    TOKACHIFROST    V3RS6  BLZ  8503242.0   \n71  412441730.0    HAI FENG 101    BZ2UN  CHN  8785448.0   \n74  412441730.0      HAIFENG101      NaN  CHN        NaN   \n\n         first_timestamp        last_timestamp  \n17  2013-03-26T11:30:49Z  2013-03-30T10:46:25Z  \n46  2012-12-23T04:24:29Z  2014-09-22T06:31:57Z  \n50  2015-05-15T17:57:20Z  2015-12-11T10:45:52Z  \n71  2012-08-25T02:10:16Z  2018-04-16T06:21:11Z  \n74  2012-08-25T02:10:16Z  2018-04-16T06:21:11Z  ",
      "text/html": "<div>\n<style scoped>\n    .dataframe tbody tr th:only-of-type {\n        vertical-align: middle;\n    }\n\n    .dataframe tbody tr th {\n        vertical-align: top;\n    }\n\n    .dataframe thead th {\n        text-align: right;\n    }\n</style>\n<table border=\"1\" class=\"dataframe\">\n  <thead>\n    <tr style=\"text-align: right;\">\n      <th></th>\n      <th>mmsi</th>\n      <th>shipname</th>\n      <th>callsign</th>\n      <th>flag</th>\n      <th>imo</th>\n      <th>first_timestamp</th>\n      <th>last_timestamp</th>\n    </tr>\n  </thead>\n  <tbody>\n    <tr>\n      <th>17</th>\n      <td>352610000.0</td>\n      <td>HAINANBAOSHA12</td>\n      <td>C6NP6</td>\n      <td>BHS</td>\n      <td>9063653.0</td>\n      <td>2013-03-26T11:30:49Z</td>\n      <td>2013-03-30T10:46:25Z</td>\n    </tr>\n    <tr>\n      <th>46</th>\n      <td>312413000.0</td>\n      <td>QIAO TAI</td>\n      <td>V3TV5</td>\n      <td>BLZ</td>\n      <td>9677595.0</td>\n      <td>2012-12-23T04:24:29Z</td>\n      <td>2014-09-22T06:31:57Z</td>\n    </tr>\n    <tr>\n      <th>50</th>\n      <td>518332000.0</td>\n      <td>TOKACHIFROST</td>\n      <td>V3RS6</td>\n      <td>BLZ</td>\n      <td>8503242.0</td>\n      <td>2015-05-15T17:57:20Z</td>\n      <td>2015-12-11T10:45:52Z</td>\n    </tr>\n    <tr>\n      <th>71</th>\n      <td>412441730.0</td>\n      <td>HAI FENG 101</td>\n      <td>BZ2UN</td>\n      <td>CHN</td>\n      <td>8785448.0</td>\n      <td>2012-08-25T02:10:16Z</td>\n      <td>2018-04-16T06:21:11Z</td>\n    </tr>\n    <tr>\n      <th>74</th>\n      <td>412441730.0</td>\n      <td>HAIFENG101</td>\n      <td>NaN</td>\n      <td>CHN</td>\n      <td>NaN</td>\n      <td>2012-08-25T02:10:16Z</td>\n      <td>2018-04-16T06:21:11Z</td>\n    </tr>\n  </tbody>\n</table>\n</div>"
     },
     "execution_count": 375,
     "metadata": {},
     "output_type": "execute_result"
    }
   ],
   "source": [
    "df_ves.loc[df_ves['mmsi'].duplicated(keep=False)].head()"
   ],
   "metadata": {
    "collapsed": false,
    "pycharm": {
     "name": "#%%\n"
    }
   }
  },
  {
   "cell_type": "code",
   "execution_count": 376,
   "metadata": {
    "pycharm": {
     "name": "#%%\n"
    }
   },
   "outputs": [],
   "source": [
    "df_ves_mod = df_ves.copy()\n",
    "\n",
    "df_ves_mod.dropna(subset=['mmsi'], inplace=True)\n",
    "# this is necessary to avoid weird (non sql) behavior from merge (nulls are recognized as keys!)\n",
    "\n",
    "df_ves_mod.drop_duplicates(subset = ['mmsi'], inplace = True)  # dropping duplicates in feature mmsi"
   ]
  },
  {
   "cell_type": "markdown",
   "source": [
    "For the dates, we want to have both times in datetime format and timestamps in float format"
   ],
   "metadata": {
    "collapsed": false,
    "pycharm": {
     "name": "#%% md\n"
    }
   }
  },
  {
   "cell_type": "code",
   "execution_count": 377,
   "outputs": [],
   "source": [
    "df_ves_mod['first_time'] = pd.to_datetime(df_ves_mod['first_timestamp'])  # Create new first time column with datetime format\n",
    "df_ves_mod['last_time'] = pd.to_datetime(df_ves_mod['last_timestamp'])\n",
    "\n",
    "df_ves_mod['first_timestamp'] = df_ves_mod['first_time'].apply(lambda x: x.timestamp())  # Change format from object to float\n",
    "df_ves_mod['last_timestamp'] = df_ves_mod['last_time'].apply(lambda x: x.timestamp())"
   ],
   "metadata": {
    "collapsed": false,
    "pycharm": {
     "name": "#%%\n"
    }
   }
  },
  {
   "cell_type": "code",
   "execution_count": 378,
   "outputs": [
    {
     "name": "stdout",
     "output_type": "stream",
     "text": [
      "<class 'pandas.core.frame.DataFrame'>\n",
      "Int64Index: 1039 entries, 0 to 1069\n",
      "Data columns (total 9 columns):\n",
      " #   Column           Non-Null Count  Dtype              \n",
      "---  ------           --------------  -----              \n",
      " 0   mmsi             1039 non-null   float64            \n",
      " 1   shipname         1038 non-null   object             \n",
      " 2   callsign         1029 non-null   object             \n",
      " 3   flag             1039 non-null   object             \n",
      " 4   imo              991 non-null    float64            \n",
      " 5   first_timestamp  1039 non-null   float64            \n",
      " 6   last_timestamp   1039 non-null   float64            \n",
      " 7   first_time       1039 non-null   datetime64[ns, UTC]\n",
      " 8   last_time        1039 non-null   datetime64[ns, UTC]\n",
      "dtypes: datetime64[ns, UTC](2), float64(4), object(3)\n",
      "memory usage: 81.2+ KB\n"
     ]
    }
   ],
   "source": [
    "df_ves_mod.info()"
   ],
   "metadata": {
    "collapsed": false,
    "pycharm": {
     "name": "#%%\n"
    }
   }
  },
  {
   "cell_type": "markdown",
   "metadata": {
    "pycharm": {
     "name": "#%% md\n"
    }
   },
   "source": [
    "## Aggregation"
   ]
  },
  {
   "cell_type": "markdown",
   "metadata": {
    "pycharm": {
     "name": "#%% md\n"
    }
   },
   "source": [
    "This code:\n",
    "\n",
    "* Aggregates(Stacks) Encounter and Loitering Datasets by keys and adds non matching features as additional columns\n",
    "* Reinserts the target feature as the first column "
   ]
  },
  {
   "cell_type": "code",
   "execution_count": 379,
   "metadata": {
    "pycharm": {
     "name": "#%%\n"
    }
   },
   "outputs": [
    {
     "name": "stdout",
     "output_type": "stream",
     "text": [
      "<class 'pandas.core.frame.DataFrame'>\n",
      "RangeIndex: 57389 entries, 0 to 57388\n",
      "Data columns (total 12 columns):\n",
      " #   Column                     Non-Null Count  Dtype              \n",
      "---  ------                     --------------  -----              \n",
      " 0   from_encounter             57389 non-null  int64              \n",
      " 1   fishing_vessel_mmsi        11470 non-null  float64            \n",
      " 2   transshipment_vessel_mmsi  57389 non-null  int64              \n",
      " 3   start_time                 57389 non-null  datetime64[ns, UTC]\n",
      " 4   end_time                   57389 non-null  datetime64[ns, UTC]\n",
      " 5   mean_latitude              57389 non-null  float64            \n",
      " 6   mean_longitude             57389 non-null  float64            \n",
      " 7   duration_hr                57389 non-null  float64            \n",
      " 8   median_distance_km         11470 non-null  float64            \n",
      " 9   median_speed_knots         57389 non-null  float64            \n",
      " 10  starting_timestamp         57389 non-null  float64            \n",
      " 11  ending_timestamp           57389 non-null  float64            \n",
      "dtypes: datetime64[ns, UTC](2), float64(8), int64(2)\n",
      "memory usage: 5.3 MB\n"
     ]
    },
    {
     "data": {
      "text/plain": "   from_encounter  fishing_vessel_mmsi  transshipment_vessel_mmsi  \\\n0               1          416565000.0                  354240000   \n1               1          412679190.0                  354240000   \n2               1          440863000.0                  354240000   \n3               1          416563000.0                  354240000   \n4               1          441309000.0                  354240000   \n\n                 start_time                  end_time  mean_latitude  \\\n0 2016-11-18 14:30:00+00:00 2016-11-19 01:50:00+00:00     -17.039085   \n1 2016-12-11 14:50:00+00:00 2016-12-11 19:50:00+00:00     -20.269608   \n2 2017-06-13 12:50:00+00:00 2017-06-15 01:20:00+00:00     -62.640767   \n3 2016-11-15 11:30:00+00:00 2016-11-16 04:00:00+00:00     -17.046586   \n4 2017-05-19 00:40:00+00:00 2017-05-19 20:50:00+00:00     -46.627878   \n\n   mean_longitude  duration_hr  median_distance_km  median_speed_knots  \\\n0      -79.063725    11.333333            0.038188            0.585402   \n1      -79.244953     5.000000            0.020033            0.575663   \n2      -60.690240    36.500000            0.054992            0.019775   \n3      -79.061923    16.500000            0.036427            1.023917   \n4      -60.554922    20.166667            0.034053            0.544031   \n\n   starting_timestamp  ending_timestamp  \n0        1.479479e+09      1.479520e+09  \n1        1.481468e+09      1.481486e+09  \n2        1.497358e+09      1.497490e+09  \n3        1.479209e+09      1.479269e+09  \n4        1.495154e+09      1.495227e+09  ",
      "text/html": "<div>\n<style scoped>\n    .dataframe tbody tr th:only-of-type {\n        vertical-align: middle;\n    }\n\n    .dataframe tbody tr th {\n        vertical-align: top;\n    }\n\n    .dataframe thead th {\n        text-align: right;\n    }\n</style>\n<table border=\"1\" class=\"dataframe\">\n  <thead>\n    <tr style=\"text-align: right;\">\n      <th></th>\n      <th>from_encounter</th>\n      <th>fishing_vessel_mmsi</th>\n      <th>transshipment_vessel_mmsi</th>\n      <th>start_time</th>\n      <th>end_time</th>\n      <th>mean_latitude</th>\n      <th>mean_longitude</th>\n      <th>duration_hr</th>\n      <th>median_distance_km</th>\n      <th>median_speed_knots</th>\n      <th>starting_timestamp</th>\n      <th>ending_timestamp</th>\n    </tr>\n  </thead>\n  <tbody>\n    <tr>\n      <th>0</th>\n      <td>1</td>\n      <td>416565000.0</td>\n      <td>354240000</td>\n      <td>2016-11-18 14:30:00+00:00</td>\n      <td>2016-11-19 01:50:00+00:00</td>\n      <td>-17.039085</td>\n      <td>-79.063725</td>\n      <td>11.333333</td>\n      <td>0.038188</td>\n      <td>0.585402</td>\n      <td>1.479479e+09</td>\n      <td>1.479520e+09</td>\n    </tr>\n    <tr>\n      <th>1</th>\n      <td>1</td>\n      <td>412679190.0</td>\n      <td>354240000</td>\n      <td>2016-12-11 14:50:00+00:00</td>\n      <td>2016-12-11 19:50:00+00:00</td>\n      <td>-20.269608</td>\n      <td>-79.244953</td>\n      <td>5.000000</td>\n      <td>0.020033</td>\n      <td>0.575663</td>\n      <td>1.481468e+09</td>\n      <td>1.481486e+09</td>\n    </tr>\n    <tr>\n      <th>2</th>\n      <td>1</td>\n      <td>440863000.0</td>\n      <td>354240000</td>\n      <td>2017-06-13 12:50:00+00:00</td>\n      <td>2017-06-15 01:20:00+00:00</td>\n      <td>-62.640767</td>\n      <td>-60.690240</td>\n      <td>36.500000</td>\n      <td>0.054992</td>\n      <td>0.019775</td>\n      <td>1.497358e+09</td>\n      <td>1.497490e+09</td>\n    </tr>\n    <tr>\n      <th>3</th>\n      <td>1</td>\n      <td>416563000.0</td>\n      <td>354240000</td>\n      <td>2016-11-15 11:30:00+00:00</td>\n      <td>2016-11-16 04:00:00+00:00</td>\n      <td>-17.046586</td>\n      <td>-79.061923</td>\n      <td>16.500000</td>\n      <td>0.036427</td>\n      <td>1.023917</td>\n      <td>1.479209e+09</td>\n      <td>1.479269e+09</td>\n    </tr>\n    <tr>\n      <th>4</th>\n      <td>1</td>\n      <td>441309000.0</td>\n      <td>354240000</td>\n      <td>2017-05-19 00:40:00+00:00</td>\n      <td>2017-05-19 20:50:00+00:00</td>\n      <td>-46.627878</td>\n      <td>-60.554922</td>\n      <td>20.166667</td>\n      <td>0.034053</td>\n      <td>0.544031</td>\n      <td>1.495154e+09</td>\n      <td>1.495227e+09</td>\n    </tr>\n  </tbody>\n</table>\n</div>"
     },
     "execution_count": 379,
     "metadata": {},
     "output_type": "execute_result"
    }
   ],
   "source": [
    "df_agg = pd.concat([df_enc_mod,df_loit_mod], ignore_index=True)\n",
    "\n",
    "#setting support variable as first column:\n",
    "df_agg.insert(0, 'from_encounter',df_agg.pop('from_encounter'))\n",
    "\n",
    "df_agg.info()\n",
    "df_agg.head()"
   ]
  },
  {
   "cell_type": "markdown",
   "metadata": {
    "pycharm": {
     "name": "#%% md\n"
    }
   },
   "source": [
    "##  Merging"
   ]
  },
  {
   "cell_type": "markdown",
   "metadata": {
    "pycharm": {
     "name": "#%% md\n"
    }
   },
   "source": [
    "This code:\n",
    "\n",
    "* Merges the aggregated datasets with the vessel data on the key pair 'transshipment_vessel_mmsi' and 'mmsi'\n",
    "* This is sufficient because no fishing vessels are in the vessel dataset\n",
    "* manually adds a suffix of '_t' to all features originating from the vessel dataset\n"
   ]
  },
  {
   "cell_type": "code",
   "execution_count": 380,
   "metadata": {
    "pycharm": {
     "name": "#%%\n"
    }
   },
   "outputs": [
    {
     "name": "stdout",
     "output_type": "stream",
     "text": [
      "<class 'pandas.core.frame.DataFrame'>\n",
      "Int64Index: 57389 entries, 0 to 57388\n",
      "Data columns (total 21 columns):\n",
      " #   Column                     Non-Null Count  Dtype              \n",
      "---  ------                     --------------  -----              \n",
      " 0   from_encounter             57389 non-null  int64              \n",
      " 1   fishing_vessel_mmsi        11470 non-null  float64            \n",
      " 2   transshipment_vessel_mmsi  57389 non-null  int64              \n",
      " 3   start_time                 57389 non-null  datetime64[ns, UTC]\n",
      " 4   end_time                   57389 non-null  datetime64[ns, UTC]\n",
      " 5   mean_latitude              57389 non-null  float64            \n",
      " 6   mean_longitude             57389 non-null  float64            \n",
      " 7   duration_hr                57389 non-null  float64            \n",
      " 8   median_distance_km         11470 non-null  float64            \n",
      " 9   median_speed_knots         57389 non-null  float64            \n",
      " 10  starting_timestamp         57389 non-null  float64            \n",
      " 11  ending_timestamp           57389 non-null  float64            \n",
      " 12  mmsi_t                     50964 non-null  float64            \n",
      " 13  shipname_t                 50846 non-null  object             \n",
      " 14  callsign_t                 50853 non-null  object             \n",
      " 15  flag_t                     50964 non-null  object             \n",
      " 16  imo_t                      50517 non-null  float64            \n",
      " 17  first_timestamp_t          50964 non-null  float64            \n",
      " 18  last_timestamp_t           50964 non-null  float64            \n",
      " 19  first_time                 50964 non-null  datetime64[ns, UTC]\n",
      " 20  last_time                  50964 non-null  datetime64[ns, UTC]\n",
      "dtypes: datetime64[ns, UTC](4), float64(12), int64(2), object(3)\n",
      "memory usage: 9.6+ MB\n"
     ]
    },
    {
     "data": {
      "text/plain": "   from_encounter  fishing_vessel_mmsi  transshipment_vessel_mmsi  \\\n0               1          416565000.0                  354240000   \n1               1          412679190.0                  354240000   \n2               1          440863000.0                  354240000   \n3               1          416563000.0                  354240000   \n4               1          441309000.0                  354240000   \n\n                 start_time                  end_time  mean_latitude  \\\n0 2016-11-18 14:30:00+00:00 2016-11-19 01:50:00+00:00     -17.039085   \n1 2016-12-11 14:50:00+00:00 2016-12-11 19:50:00+00:00     -20.269608   \n2 2017-06-13 12:50:00+00:00 2017-06-15 01:20:00+00:00     -62.640767   \n3 2016-11-15 11:30:00+00:00 2016-11-16 04:00:00+00:00     -17.046586   \n4 2017-05-19 00:40:00+00:00 2017-05-19 20:50:00+00:00     -46.627878   \n\n   mean_longitude  duration_hr  median_distance_km  median_speed_knots  ...  \\\n0      -79.063725    11.333333            0.038188            0.585402  ...   \n1      -79.244953     5.000000            0.020033            0.575663  ...   \n2      -60.690240    36.500000            0.054992            0.019775  ...   \n3      -79.061923    16.500000            0.036427            1.023917  ...   \n4      -60.554922    20.166667            0.034053            0.544031  ...   \n\n   ending_timestamp       mmsi_t      shipname_t callsign_t flag_t      imo_t  \\\n0      1.479520e+09  354240000.0  CRYSTAL REEFER      3FFY5    PAN  9017276.0   \n1      1.481486e+09  354240000.0  CRYSTAL REEFER      3FFY5    PAN  9017276.0   \n2      1.497490e+09  354240000.0  CRYSTAL REEFER      3FFY5    PAN  9017276.0   \n3      1.479269e+09  354240000.0  CRYSTAL REEFER      3FFY5    PAN  9017276.0   \n4      1.495227e+09  354240000.0  CRYSTAL REEFER      3FFY5    PAN  9017276.0   \n\n   first_timestamp_t  last_timestamp_t                first_time  \\\n0       1.422748e+09      1.489109e+09 2015-01-31 23:43:15+00:00   \n1       1.422748e+09      1.489109e+09 2015-01-31 23:43:15+00:00   \n2       1.422748e+09      1.489109e+09 2015-01-31 23:43:15+00:00   \n3       1.422748e+09      1.489109e+09 2015-01-31 23:43:15+00:00   \n4       1.422748e+09      1.489109e+09 2015-01-31 23:43:15+00:00   \n\n                  last_time  \n0 2017-03-10 01:21:55+00:00  \n1 2017-03-10 01:21:55+00:00  \n2 2017-03-10 01:21:55+00:00  \n3 2017-03-10 01:21:55+00:00  \n4 2017-03-10 01:21:55+00:00  \n\n[5 rows x 21 columns]",
      "text/html": "<div>\n<style scoped>\n    .dataframe tbody tr th:only-of-type {\n        vertical-align: middle;\n    }\n\n    .dataframe tbody tr th {\n        vertical-align: top;\n    }\n\n    .dataframe thead th {\n        text-align: right;\n    }\n</style>\n<table border=\"1\" class=\"dataframe\">\n  <thead>\n    <tr style=\"text-align: right;\">\n      <th></th>\n      <th>from_encounter</th>\n      <th>fishing_vessel_mmsi</th>\n      <th>transshipment_vessel_mmsi</th>\n      <th>start_time</th>\n      <th>end_time</th>\n      <th>mean_latitude</th>\n      <th>mean_longitude</th>\n      <th>duration_hr</th>\n      <th>median_distance_km</th>\n      <th>median_speed_knots</th>\n      <th>...</th>\n      <th>ending_timestamp</th>\n      <th>mmsi_t</th>\n      <th>shipname_t</th>\n      <th>callsign_t</th>\n      <th>flag_t</th>\n      <th>imo_t</th>\n      <th>first_timestamp_t</th>\n      <th>last_timestamp_t</th>\n      <th>first_time</th>\n      <th>last_time</th>\n    </tr>\n  </thead>\n  <tbody>\n    <tr>\n      <th>0</th>\n      <td>1</td>\n      <td>416565000.0</td>\n      <td>354240000</td>\n      <td>2016-11-18 14:30:00+00:00</td>\n      <td>2016-11-19 01:50:00+00:00</td>\n      <td>-17.039085</td>\n      <td>-79.063725</td>\n      <td>11.333333</td>\n      <td>0.038188</td>\n      <td>0.585402</td>\n      <td>...</td>\n      <td>1.479520e+09</td>\n      <td>354240000.0</td>\n      <td>CRYSTAL REEFER</td>\n      <td>3FFY5</td>\n      <td>PAN</td>\n      <td>9017276.0</td>\n      <td>1.422748e+09</td>\n      <td>1.489109e+09</td>\n      <td>2015-01-31 23:43:15+00:00</td>\n      <td>2017-03-10 01:21:55+00:00</td>\n    </tr>\n    <tr>\n      <th>1</th>\n      <td>1</td>\n      <td>412679190.0</td>\n      <td>354240000</td>\n      <td>2016-12-11 14:50:00+00:00</td>\n      <td>2016-12-11 19:50:00+00:00</td>\n      <td>-20.269608</td>\n      <td>-79.244953</td>\n      <td>5.000000</td>\n      <td>0.020033</td>\n      <td>0.575663</td>\n      <td>...</td>\n      <td>1.481486e+09</td>\n      <td>354240000.0</td>\n      <td>CRYSTAL REEFER</td>\n      <td>3FFY5</td>\n      <td>PAN</td>\n      <td>9017276.0</td>\n      <td>1.422748e+09</td>\n      <td>1.489109e+09</td>\n      <td>2015-01-31 23:43:15+00:00</td>\n      <td>2017-03-10 01:21:55+00:00</td>\n    </tr>\n    <tr>\n      <th>2</th>\n      <td>1</td>\n      <td>440863000.0</td>\n      <td>354240000</td>\n      <td>2017-06-13 12:50:00+00:00</td>\n      <td>2017-06-15 01:20:00+00:00</td>\n      <td>-62.640767</td>\n      <td>-60.690240</td>\n      <td>36.500000</td>\n      <td>0.054992</td>\n      <td>0.019775</td>\n      <td>...</td>\n      <td>1.497490e+09</td>\n      <td>354240000.0</td>\n      <td>CRYSTAL REEFER</td>\n      <td>3FFY5</td>\n      <td>PAN</td>\n      <td>9017276.0</td>\n      <td>1.422748e+09</td>\n      <td>1.489109e+09</td>\n      <td>2015-01-31 23:43:15+00:00</td>\n      <td>2017-03-10 01:21:55+00:00</td>\n    </tr>\n    <tr>\n      <th>3</th>\n      <td>1</td>\n      <td>416563000.0</td>\n      <td>354240000</td>\n      <td>2016-11-15 11:30:00+00:00</td>\n      <td>2016-11-16 04:00:00+00:00</td>\n      <td>-17.046586</td>\n      <td>-79.061923</td>\n      <td>16.500000</td>\n      <td>0.036427</td>\n      <td>1.023917</td>\n      <td>...</td>\n      <td>1.479269e+09</td>\n      <td>354240000.0</td>\n      <td>CRYSTAL REEFER</td>\n      <td>3FFY5</td>\n      <td>PAN</td>\n      <td>9017276.0</td>\n      <td>1.422748e+09</td>\n      <td>1.489109e+09</td>\n      <td>2015-01-31 23:43:15+00:00</td>\n      <td>2017-03-10 01:21:55+00:00</td>\n    </tr>\n    <tr>\n      <th>4</th>\n      <td>1</td>\n      <td>441309000.0</td>\n      <td>354240000</td>\n      <td>2017-05-19 00:40:00+00:00</td>\n      <td>2017-05-19 20:50:00+00:00</td>\n      <td>-46.627878</td>\n      <td>-60.554922</td>\n      <td>20.166667</td>\n      <td>0.034053</td>\n      <td>0.544031</td>\n      <td>...</td>\n      <td>1.495227e+09</td>\n      <td>354240000.0</td>\n      <td>CRYSTAL REEFER</td>\n      <td>3FFY5</td>\n      <td>PAN</td>\n      <td>9017276.0</td>\n      <td>1.422748e+09</td>\n      <td>1.489109e+09</td>\n      <td>2015-01-31 23:43:15+00:00</td>\n      <td>2017-03-10 01:21:55+00:00</td>\n    </tr>\n  </tbody>\n</table>\n<p>5 rows × 21 columns</p>\n</div>"
     },
     "execution_count": 380,
     "metadata": {},
     "output_type": "execute_result"
    }
   ],
   "source": [
    "df_clean_all = pd.merge(df_agg, df_ves_mod, how ='left', left_on ='transshipment_vessel_mmsi', right_on='mmsi')\n",
    "\n",
    "\n",
    "####Optional: add suffix to all added variables\n",
    "df_clean_all.rename(columns= { 'mmsi' : 'mmsi_t', 'shipname': 'shipname_t', 'callsign':'callsign_t', 'flag':'flag_t', 'imo': 'imo_t',\\\n",
    "     'first_timestamp': 'first_timestamp_t', 'last_timestamp':'last_timestamp_t'}, inplace = True)\n",
    "\n",
    "####This could be use to merge on fishing vessel, this is however not necessary in this context(No fishing vessels, only tranship)\n",
    "\n",
    "# df_clean_all = pd.merge(df_clean_all, df_ves_mod, how ='left', left_on ='fishing_vessel_mmsi', right_on='mmsi')\n",
    "# df_clean_all.rename(columns= { 'mmsi' : 'mmsi_f', 'shipname': 'shipname_f', 'callsign':'callsign_f', 'flag':'flag_f', 'imo': 'imo_f',\\\n",
    "#      'first_timestamp': 'first_timestamp_f', 'last_timestamp':'last_timestamp_f'}, inplace = True)\n",
    "\n",
    "df_clean_all.info()\n",
    "df_clean_all.head()"
   ]
  },
  {
   "cell_type": "code",
   "execution_count": 381,
   "outputs": [
    {
     "data": {
      "text/plain": "       from_encounter  fishing_vessel_mmsi  transshipment_vessel_mmsi  \\\n0                   1          416565000.0                  354240000   \n1                   1          412679190.0                  354240000   \n2                   1          440863000.0                  354240000   \n3                   1          416563000.0                  354240000   \n4                   1          441309000.0                  354240000   \n...               ...                  ...                        ...   \n57384               0                  NaN                  273349630   \n57385               0                  NaN                  273349630   \n57386               0                  NaN                  273349630   \n57387               0                  NaN                  273349630   \n57388               0                  NaN                  273349630   \n\n                     start_time                  end_time  mean_latitude  \\\n0     2016-11-18 14:30:00+00:00 2016-11-19 01:50:00+00:00     -17.039085   \n1     2016-12-11 14:50:00+00:00 2016-12-11 19:50:00+00:00     -20.269608   \n2     2017-06-13 12:50:00+00:00 2017-06-15 01:20:00+00:00     -62.640767   \n3     2016-11-15 11:30:00+00:00 2016-11-16 04:00:00+00:00     -17.046586   \n4     2017-05-19 00:40:00+00:00 2017-05-19 20:50:00+00:00     -46.627878   \n...                         ...                       ...            ...   \n57384 2017-09-29 07:55:39+00:00 2017-09-29 22:49:11+00:00      51.945812   \n57385 2016-11-19 08:08:13+00:00 2016-11-20 00:58:25+00:00      48.793993   \n57386 2014-06-27 01:32:36+00:00 2014-06-28 01:21:20+00:00      58.224653   \n57387 2016-10-29 17:22:12+00:00 2016-10-30 21:12:23+00:00      57.452946   \n57388 2015-07-17 18:14:48+00:00 2015-07-19 01:59:49+00:00      57.563541   \n\n       mean_longitude  duration_hr  median_distance_km  median_speed_knots  \\\n0          -79.063725    11.333333            0.038188            0.585402   \n1          -79.244953     5.000000            0.020033            0.575663   \n2          -60.690240    36.500000            0.054992            0.019775   \n3          -79.061923    16.500000            0.036427            1.023917   \n4          -60.554922    20.166667            0.034053            0.544031   \n...               ...          ...                 ...                 ...   \n57384      155.562330    16.982917                 NaN            1.092219   \n57385      141.242218    17.053056                 NaN            0.764958   \n57386      153.102242    25.157083                 NaN            0.560717   \n57387      150.443527    29.134444                 NaN            0.545175   \n57388      151.103195    34.060139                 NaN            0.456930   \n\n       ...  ending_timestamp       mmsi_t      shipname_t callsign_t flag_t  \\\n0      ...      1.479520e+09  354240000.0  CRYSTAL REEFER      3FFY5    PAN   \n1      ...      1.481486e+09  354240000.0  CRYSTAL REEFER      3FFY5    PAN   \n2      ...      1.497490e+09  354240000.0  CRYSTAL REEFER      3FFY5    PAN   \n3      ...      1.479269e+09  354240000.0  CRYSTAL REEFER      3FFY5    PAN   \n4      ...      1.495227e+09  354240000.0  CRYSTAL REEFER      3FFY5    PAN   \n...    ...               ...          ...             ...        ...    ...   \n57384  ...      1.506725e+09  273349630.0          ZODIAK      UBFG9    RUS   \n57385  ...      1.479604e+09  273349630.0          ZODIAK      UBFG9    RUS   \n57386  ...      1.403918e+09  273349630.0          ZODIAK      UBFG9    RUS   \n57387  ...      1.477862e+09  273349630.0          ZODIAK      UBFG9    RUS   \n57388  ...      1.437271e+09  273349630.0          ZODIAK      UBFG9    RUS   \n\n           imo_t  first_timestamp_t  last_timestamp_t  \\\n0      9017276.0       1.422748e+09      1.489109e+09   \n1      9017276.0       1.422748e+09      1.489109e+09   \n2      9017276.0       1.422748e+09      1.489109e+09   \n3      9017276.0       1.422748e+09      1.489109e+09   \n4      9017276.0       1.422748e+09      1.489109e+09   \n...          ...                ...               ...   \n57384  8712300.0       1.328268e+09      1.530318e+09   \n57385  8712300.0       1.328268e+09      1.530318e+09   \n57386  8712300.0       1.328268e+09      1.530318e+09   \n57387  8712300.0       1.328268e+09      1.530318e+09   \n57388  8712300.0       1.328268e+09      1.530318e+09   \n\n                     first_time                 last_time  \n0     2015-01-31 23:43:15+00:00 2017-03-10 01:21:55+00:00  \n1     2015-01-31 23:43:15+00:00 2017-03-10 01:21:55+00:00  \n2     2015-01-31 23:43:15+00:00 2017-03-10 01:21:55+00:00  \n3     2015-01-31 23:43:15+00:00 2017-03-10 01:21:55+00:00  \n4     2015-01-31 23:43:15+00:00 2017-03-10 01:21:55+00:00  \n...                         ...                       ...  \n57384 2012-02-03 11:26:34+00:00 2018-06-30 00:13:21+00:00  \n57385 2012-02-03 11:26:34+00:00 2018-06-30 00:13:21+00:00  \n57386 2012-02-03 11:26:34+00:00 2018-06-30 00:13:21+00:00  \n57387 2012-02-03 11:26:34+00:00 2018-06-30 00:13:21+00:00  \n57388 2012-02-03 11:26:34+00:00 2018-06-30 00:13:21+00:00  \n\n[57389 rows x 21 columns]",
      "text/html": "<div>\n<style scoped>\n    .dataframe tbody tr th:only-of-type {\n        vertical-align: middle;\n    }\n\n    .dataframe tbody tr th {\n        vertical-align: top;\n    }\n\n    .dataframe thead th {\n        text-align: right;\n    }\n</style>\n<table border=\"1\" class=\"dataframe\">\n  <thead>\n    <tr style=\"text-align: right;\">\n      <th></th>\n      <th>from_encounter</th>\n      <th>fishing_vessel_mmsi</th>\n      <th>transshipment_vessel_mmsi</th>\n      <th>start_time</th>\n      <th>end_time</th>\n      <th>mean_latitude</th>\n      <th>mean_longitude</th>\n      <th>duration_hr</th>\n      <th>median_distance_km</th>\n      <th>median_speed_knots</th>\n      <th>...</th>\n      <th>ending_timestamp</th>\n      <th>mmsi_t</th>\n      <th>shipname_t</th>\n      <th>callsign_t</th>\n      <th>flag_t</th>\n      <th>imo_t</th>\n      <th>first_timestamp_t</th>\n      <th>last_timestamp_t</th>\n      <th>first_time</th>\n      <th>last_time</th>\n    </tr>\n  </thead>\n  <tbody>\n    <tr>\n      <th>0</th>\n      <td>1</td>\n      <td>416565000.0</td>\n      <td>354240000</td>\n      <td>2016-11-18 14:30:00+00:00</td>\n      <td>2016-11-19 01:50:00+00:00</td>\n      <td>-17.039085</td>\n      <td>-79.063725</td>\n      <td>11.333333</td>\n      <td>0.038188</td>\n      <td>0.585402</td>\n      <td>...</td>\n      <td>1.479520e+09</td>\n      <td>354240000.0</td>\n      <td>CRYSTAL REEFER</td>\n      <td>3FFY5</td>\n      <td>PAN</td>\n      <td>9017276.0</td>\n      <td>1.422748e+09</td>\n      <td>1.489109e+09</td>\n      <td>2015-01-31 23:43:15+00:00</td>\n      <td>2017-03-10 01:21:55+00:00</td>\n    </tr>\n    <tr>\n      <th>1</th>\n      <td>1</td>\n      <td>412679190.0</td>\n      <td>354240000</td>\n      <td>2016-12-11 14:50:00+00:00</td>\n      <td>2016-12-11 19:50:00+00:00</td>\n      <td>-20.269608</td>\n      <td>-79.244953</td>\n      <td>5.000000</td>\n      <td>0.020033</td>\n      <td>0.575663</td>\n      <td>...</td>\n      <td>1.481486e+09</td>\n      <td>354240000.0</td>\n      <td>CRYSTAL REEFER</td>\n      <td>3FFY5</td>\n      <td>PAN</td>\n      <td>9017276.0</td>\n      <td>1.422748e+09</td>\n      <td>1.489109e+09</td>\n      <td>2015-01-31 23:43:15+00:00</td>\n      <td>2017-03-10 01:21:55+00:00</td>\n    </tr>\n    <tr>\n      <th>2</th>\n      <td>1</td>\n      <td>440863000.0</td>\n      <td>354240000</td>\n      <td>2017-06-13 12:50:00+00:00</td>\n      <td>2017-06-15 01:20:00+00:00</td>\n      <td>-62.640767</td>\n      <td>-60.690240</td>\n      <td>36.500000</td>\n      <td>0.054992</td>\n      <td>0.019775</td>\n      <td>...</td>\n      <td>1.497490e+09</td>\n      <td>354240000.0</td>\n      <td>CRYSTAL REEFER</td>\n      <td>3FFY5</td>\n      <td>PAN</td>\n      <td>9017276.0</td>\n      <td>1.422748e+09</td>\n      <td>1.489109e+09</td>\n      <td>2015-01-31 23:43:15+00:00</td>\n      <td>2017-03-10 01:21:55+00:00</td>\n    </tr>\n    <tr>\n      <th>3</th>\n      <td>1</td>\n      <td>416563000.0</td>\n      <td>354240000</td>\n      <td>2016-11-15 11:30:00+00:00</td>\n      <td>2016-11-16 04:00:00+00:00</td>\n      <td>-17.046586</td>\n      <td>-79.061923</td>\n      <td>16.500000</td>\n      <td>0.036427</td>\n      <td>1.023917</td>\n      <td>...</td>\n      <td>1.479269e+09</td>\n      <td>354240000.0</td>\n      <td>CRYSTAL REEFER</td>\n      <td>3FFY5</td>\n      <td>PAN</td>\n      <td>9017276.0</td>\n      <td>1.422748e+09</td>\n      <td>1.489109e+09</td>\n      <td>2015-01-31 23:43:15+00:00</td>\n      <td>2017-03-10 01:21:55+00:00</td>\n    </tr>\n    <tr>\n      <th>4</th>\n      <td>1</td>\n      <td>441309000.0</td>\n      <td>354240000</td>\n      <td>2017-05-19 00:40:00+00:00</td>\n      <td>2017-05-19 20:50:00+00:00</td>\n      <td>-46.627878</td>\n      <td>-60.554922</td>\n      <td>20.166667</td>\n      <td>0.034053</td>\n      <td>0.544031</td>\n      <td>...</td>\n      <td>1.495227e+09</td>\n      <td>354240000.0</td>\n      <td>CRYSTAL REEFER</td>\n      <td>3FFY5</td>\n      <td>PAN</td>\n      <td>9017276.0</td>\n      <td>1.422748e+09</td>\n      <td>1.489109e+09</td>\n      <td>2015-01-31 23:43:15+00:00</td>\n      <td>2017-03-10 01:21:55+00:00</td>\n    </tr>\n    <tr>\n      <th>...</th>\n      <td>...</td>\n      <td>...</td>\n      <td>...</td>\n      <td>...</td>\n      <td>...</td>\n      <td>...</td>\n      <td>...</td>\n      <td>...</td>\n      <td>...</td>\n      <td>...</td>\n      <td>...</td>\n      <td>...</td>\n      <td>...</td>\n      <td>...</td>\n      <td>...</td>\n      <td>...</td>\n      <td>...</td>\n      <td>...</td>\n      <td>...</td>\n      <td>...</td>\n      <td>...</td>\n    </tr>\n    <tr>\n      <th>57384</th>\n      <td>0</td>\n      <td>NaN</td>\n      <td>273349630</td>\n      <td>2017-09-29 07:55:39+00:00</td>\n      <td>2017-09-29 22:49:11+00:00</td>\n      <td>51.945812</td>\n      <td>155.562330</td>\n      <td>16.982917</td>\n      <td>NaN</td>\n      <td>1.092219</td>\n      <td>...</td>\n      <td>1.506725e+09</td>\n      <td>273349630.0</td>\n      <td>ZODIAK</td>\n      <td>UBFG9</td>\n      <td>RUS</td>\n      <td>8712300.0</td>\n      <td>1.328268e+09</td>\n      <td>1.530318e+09</td>\n      <td>2012-02-03 11:26:34+00:00</td>\n      <td>2018-06-30 00:13:21+00:00</td>\n    </tr>\n    <tr>\n      <th>57385</th>\n      <td>0</td>\n      <td>NaN</td>\n      <td>273349630</td>\n      <td>2016-11-19 08:08:13+00:00</td>\n      <td>2016-11-20 00:58:25+00:00</td>\n      <td>48.793993</td>\n      <td>141.242218</td>\n      <td>17.053056</td>\n      <td>NaN</td>\n      <td>0.764958</td>\n      <td>...</td>\n      <td>1.479604e+09</td>\n      <td>273349630.0</td>\n      <td>ZODIAK</td>\n      <td>UBFG9</td>\n      <td>RUS</td>\n      <td>8712300.0</td>\n      <td>1.328268e+09</td>\n      <td>1.530318e+09</td>\n      <td>2012-02-03 11:26:34+00:00</td>\n      <td>2018-06-30 00:13:21+00:00</td>\n    </tr>\n    <tr>\n      <th>57386</th>\n      <td>0</td>\n      <td>NaN</td>\n      <td>273349630</td>\n      <td>2014-06-27 01:32:36+00:00</td>\n      <td>2014-06-28 01:21:20+00:00</td>\n      <td>58.224653</td>\n      <td>153.102242</td>\n      <td>25.157083</td>\n      <td>NaN</td>\n      <td>0.560717</td>\n      <td>...</td>\n      <td>1.403918e+09</td>\n      <td>273349630.0</td>\n      <td>ZODIAK</td>\n      <td>UBFG9</td>\n      <td>RUS</td>\n      <td>8712300.0</td>\n      <td>1.328268e+09</td>\n      <td>1.530318e+09</td>\n      <td>2012-02-03 11:26:34+00:00</td>\n      <td>2018-06-30 00:13:21+00:00</td>\n    </tr>\n    <tr>\n      <th>57387</th>\n      <td>0</td>\n      <td>NaN</td>\n      <td>273349630</td>\n      <td>2016-10-29 17:22:12+00:00</td>\n      <td>2016-10-30 21:12:23+00:00</td>\n      <td>57.452946</td>\n      <td>150.443527</td>\n      <td>29.134444</td>\n      <td>NaN</td>\n      <td>0.545175</td>\n      <td>...</td>\n      <td>1.477862e+09</td>\n      <td>273349630.0</td>\n      <td>ZODIAK</td>\n      <td>UBFG9</td>\n      <td>RUS</td>\n      <td>8712300.0</td>\n      <td>1.328268e+09</td>\n      <td>1.530318e+09</td>\n      <td>2012-02-03 11:26:34+00:00</td>\n      <td>2018-06-30 00:13:21+00:00</td>\n    </tr>\n    <tr>\n      <th>57388</th>\n      <td>0</td>\n      <td>NaN</td>\n      <td>273349630</td>\n      <td>2015-07-17 18:14:48+00:00</td>\n      <td>2015-07-19 01:59:49+00:00</td>\n      <td>57.563541</td>\n      <td>151.103195</td>\n      <td>34.060139</td>\n      <td>NaN</td>\n      <td>0.456930</td>\n      <td>...</td>\n      <td>1.437271e+09</td>\n      <td>273349630.0</td>\n      <td>ZODIAK</td>\n      <td>UBFG9</td>\n      <td>RUS</td>\n      <td>8712300.0</td>\n      <td>1.328268e+09</td>\n      <td>1.530318e+09</td>\n      <td>2012-02-03 11:26:34+00:00</td>\n      <td>2018-06-30 00:13:21+00:00</td>\n    </tr>\n  </tbody>\n</table>\n<p>57389 rows × 21 columns</p>\n</div>"
     },
     "execution_count": 381,
     "metadata": {},
     "output_type": "execute_result"
    }
   ],
   "source": [
    "df_clean_all"
   ],
   "metadata": {
    "collapsed": false,
    "pycharm": {
     "name": "#%%\n"
    }
   }
  }
 ],
 "metadata": {
  "interpreter": {
   "hash": "2525ca78ad5a0849c517621bcdb6f6a8e4e6329015be4e411079257f1dd0fa01"
  },
  "kernelspec": {
   "display_name": "Python 3.9.12 ('base')",
   "language": "python",
   "name": "python3"
  },
  "language_info": {
   "codemirror_mode": {
    "name": "ipython",
    "version": 3
   },
   "file_extension": ".py",
   "mimetype": "text/x-python",
   "name": "python",
   "nbconvert_exporter": "python",
   "pygments_lexer": "ipython3",
   "version": "3.9.12"
  },
  "orig_nbformat": 4
 },
 "nbformat": 4,
 "nbformat_minor": 2
}
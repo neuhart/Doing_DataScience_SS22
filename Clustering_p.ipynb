{
 "cells": [
  {
   "cell_type": "code",
   "execution_count": 24,
   "metadata": {
    "collapsed": true,
    "pycharm": {
     "name": "#%%\n"
    }
   },
   "outputs": [],
   "source": [
    "import pandas as pd\n",
    "from sklearn.cluster import KMeans\n",
    "from sklearn.preprocessing import StandardScaler"
   ]
  },
  {
   "cell_type": "code",
   "execution_count": 25,
   "outputs": [
    {
     "name": "stdout",
     "output_type": "stream",
     "text": [
      "<class 'pandas.core.frame.DataFrame'>\n",
      "RangeIndex: 50401 entries, 0 to 50400\n",
      "Data columns (total 21 columns):\n",
      " #   Column                     Non-Null Count  Dtype  \n",
      "---  ------                     --------------  -----  \n",
      " 0   from_encounter             50401 non-null  int64  \n",
      " 1   fishing_vessel_mmsi        10126 non-null  float64\n",
      " 2   transshipment_vessel_mmsi  50401 non-null  int64  \n",
      " 3   start_time                 50401 non-null  object \n",
      " 4   end_time                   50401 non-null  object \n",
      " 5   mean_latitude              50401 non-null  float64\n",
      " 6   mean_longitude             50401 non-null  float64\n",
      " 7   duration_hr                50401 non-null  float64\n",
      " 8   median_distance_km         10126 non-null  float64\n",
      " 9   median_speed_knots         50401 non-null  float64\n",
      " 10  starting_timestamp         50401 non-null  float64\n",
      " 11  ending_timestamp           50401 non-null  float64\n",
      " 12  mmsi_t                     50401 non-null  float64\n",
      " 13  shipname_t                 50401 non-null  object \n",
      " 14  callsign_t                 50401 non-null  object \n",
      " 15  flag_t                     50401 non-null  object \n",
      " 16  imo_t                      50401 non-null  float64\n",
      " 17  first_timestamp_t          50401 non-null  float64\n",
      " 18  last_timestamp_t           50401 non-null  float64\n",
      " 19  first_time                 50401 non-null  object \n",
      " 20  last_time                  50401 non-null  object \n",
      "dtypes: float64(12), int64(2), object(7)\n",
      "memory usage: 8.1+ MB\n"
     ]
    }
   ],
   "source": [
    "filename = 'data/cleaned_data.csv'\n",
    "df = pd.read_csv(filename)\n",
    "df.info()"
   ],
   "metadata": {
    "collapsed": false,
    "pycharm": {
     "name": "#%%\n"
    }
   }
  },
  {
   "cell_type": "code",
   "execution_count": 28,
   "outputs": [
    {
     "data": {
      "text/plain": "                  0             1             2             3             4  \\\ncount  5.040100e+04  5.040100e+04  5.040100e+04  5.040100e+04  5.040100e+04   \nmean   4.863385e-16  6.388061e-19 -5.246768e-16 -2.526192e-16 -3.795428e-16   \nstd    1.000010e+00  1.000010e+00  1.000010e+00  1.000010e+00  1.000010e+00   \nmin   -2.141116e+00 -1.896717e+00 -9.138556e-01 -1.983088e+00 -2.077680e+00   \n25%   -7.450607e-01 -8.335949e-01 -5.782316e-01 -5.967332e-01 -7.691168e-01   \n50%   -1.867417e-01 -1.633607e-01 -3.270577e-01  6.997597e-02  1.524059e-01   \n75%    1.008002e+00  1.050699e+00  1.718211e-01  7.106330e-01  8.771641e-01   \nmax    1.822292e+00  1.308321e+00  6.443935e+00  2.247537e+00  1.483126e+00   \n\n                  5             6             7  \ncount  5.040100e+04  5.040100e+04  5.040100e+04  \nmean   5.522571e-16  2.411846e-15 -1.371781e-15  \nstd    1.000010e+00  1.000010e+00  1.000010e+00  \nmin   -2.079362e+00 -6.508111e-01 -4.604623e+00  \n25%   -7.684387e-01 -6.460504e-01  6.956848e-03  \n50%    1.526965e-01 -6.176693e-01  5.206107e-01  \n75%    8.770272e-01  5.142242e-01  5.219459e-01  \nmax    1.482251e+00  3.239976e+00  5.219934e-01  ",
      "text/html": "<div>\n<style scoped>\n    .dataframe tbody tr th:only-of-type {\n        vertical-align: middle;\n    }\n\n    .dataframe tbody tr th {\n        vertical-align: top;\n    }\n\n    .dataframe thead th {\n        text-align: right;\n    }\n</style>\n<table border=\"1\" class=\"dataframe\">\n  <thead>\n    <tr style=\"text-align: right;\">\n      <th></th>\n      <th>0</th>\n      <th>1</th>\n      <th>2</th>\n      <th>3</th>\n      <th>4</th>\n      <th>5</th>\n      <th>6</th>\n      <th>7</th>\n    </tr>\n  </thead>\n  <tbody>\n    <tr>\n      <th>count</th>\n      <td>5.040100e+04</td>\n      <td>5.040100e+04</td>\n      <td>5.040100e+04</td>\n      <td>5.040100e+04</td>\n      <td>5.040100e+04</td>\n      <td>5.040100e+04</td>\n      <td>5.040100e+04</td>\n      <td>5.040100e+04</td>\n    </tr>\n    <tr>\n      <th>mean</th>\n      <td>4.863385e-16</td>\n      <td>6.388061e-19</td>\n      <td>-5.246768e-16</td>\n      <td>-2.526192e-16</td>\n      <td>-3.795428e-16</td>\n      <td>5.522571e-16</td>\n      <td>2.411846e-15</td>\n      <td>-1.371781e-15</td>\n    </tr>\n    <tr>\n      <th>std</th>\n      <td>1.000010e+00</td>\n      <td>1.000010e+00</td>\n      <td>1.000010e+00</td>\n      <td>1.000010e+00</td>\n      <td>1.000010e+00</td>\n      <td>1.000010e+00</td>\n      <td>1.000010e+00</td>\n      <td>1.000010e+00</td>\n    </tr>\n    <tr>\n      <th>min</th>\n      <td>-2.141116e+00</td>\n      <td>-1.896717e+00</td>\n      <td>-9.138556e-01</td>\n      <td>-1.983088e+00</td>\n      <td>-2.077680e+00</td>\n      <td>-2.079362e+00</td>\n      <td>-6.508111e-01</td>\n      <td>-4.604623e+00</td>\n    </tr>\n    <tr>\n      <th>25%</th>\n      <td>-7.450607e-01</td>\n      <td>-8.335949e-01</td>\n      <td>-5.782316e-01</td>\n      <td>-5.967332e-01</td>\n      <td>-7.691168e-01</td>\n      <td>-7.684387e-01</td>\n      <td>-6.460504e-01</td>\n      <td>6.956848e-03</td>\n    </tr>\n    <tr>\n      <th>50%</th>\n      <td>-1.867417e-01</td>\n      <td>-1.633607e-01</td>\n      <td>-3.270577e-01</td>\n      <td>6.997597e-02</td>\n      <td>1.524059e-01</td>\n      <td>1.526965e-01</td>\n      <td>-6.176693e-01</td>\n      <td>5.206107e-01</td>\n    </tr>\n    <tr>\n      <th>75%</th>\n      <td>1.008002e+00</td>\n      <td>1.050699e+00</td>\n      <td>1.718211e-01</td>\n      <td>7.106330e-01</td>\n      <td>8.771641e-01</td>\n      <td>8.770272e-01</td>\n      <td>5.142242e-01</td>\n      <td>5.219459e-01</td>\n    </tr>\n    <tr>\n      <th>max</th>\n      <td>1.822292e+00</td>\n      <td>1.308321e+00</td>\n      <td>6.443935e+00</td>\n      <td>2.247537e+00</td>\n      <td>1.483126e+00</td>\n      <td>1.482251e+00</td>\n      <td>3.239976e+00</td>\n      <td>5.219934e-01</td>\n    </tr>\n  </tbody>\n</table>\n</div>"
     },
     "execution_count": 28,
     "metadata": {},
     "output_type": "execute_result"
    }
   ],
   "source": [
    "KMeans_input = df[['mean_latitude', 'mean_longitude', 'duration_hr', 'median_speed_knots','starting_timestamp', 'ending_timestamp', 'first_timestamp_t', 'last_timestamp_t']]\n",
    "\n",
    "scaler = StandardScaler()\n",
    "\n",
    "KMeans_input = scaler.fit_transform(KMeans_input)\n",
    "\n",
    "pd.DataFrame(KMeans_input).describe()"
   ],
   "metadata": {
    "collapsed": false,
    "pycharm": {
     "name": "#%%\n"
    }
   }
  },
  {
   "cell_type": "code",
   "execution_count": null,
   "outputs": [],
   "source": [
    "kmeans = KMeans(n_clusters=5, init='k-means++', random_state=False).fit_predict(KMeans_input)"
   ],
   "metadata": {
    "collapsed": false,
    "pycharm": {
     "name": "#%%\n"
    }
   }
  },
  {
   "cell_type": "code",
   "execution_count": null,
   "outputs": [],
   "source": [
    "results_df = pd.DataFrame(kmeans)\n",
    "df['cluster'] = results_df"
   ],
   "metadata": {
    "collapsed": false,
    "pycharm": {
     "name": "#%%\n"
    }
   }
  },
  {
   "cell_type": "code",
   "execution_count": null,
   "outputs": [],
   "source": [
    "df.info()"
   ],
   "metadata": {
    "collapsed": false,
    "pycharm": {
     "name": "#%%\n"
    }
   }
  },
  {
   "cell_type": "code",
   "execution_count": null,
   "outputs": [],
   "source": [],
   "metadata": {
    "collapsed": false,
    "pycharm": {
     "name": "#%%\n"
    }
   }
  }
 ],
 "metadata": {
  "kernelspec": {
   "display_name": "Python 3",
   "language": "python",
   "name": "python3"
  },
  "language_info": {
   "codemirror_mode": {
    "name": "ipython",
    "version": 2
   },
   "file_extension": ".py",
   "mimetype": "text/x-python",
   "name": "python",
   "nbconvert_exporter": "python",
   "pygments_lexer": "ipython2",
   "version": "2.7.6"
  }
 },
 "nbformat": 4,
 "nbformat_minor": 0
}